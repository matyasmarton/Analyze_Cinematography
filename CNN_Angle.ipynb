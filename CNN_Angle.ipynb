{
  "nbformat": 4,
  "nbformat_minor": 0,
  "metadata": {
    "accelerator": "GPU",
    "colab": {
      "name": "CNN Angle.ipynb",
      "provenance": [],
      "collapsed_sections": []
    },
    "kernelspec": {
      "display_name": "Python 3",
      "name": "python3"
    }
  },
  "cells": [
    {
      "cell_type": "code",
      "metadata": {
        "id": "ETXnDGgDPnys"
      },
      "source": [
        ""
      ],
      "execution_count": null,
      "outputs": []
    },
    {
      "cell_type": "markdown",
      "metadata": {
        "id": "TSqtpLVld7-t"
      },
      "source": [
        "Testing"
      ]
    },
    {
      "cell_type": "code",
      "metadata": {
        "id": "XT24aKyLbOUC"
      },
      "source": [
        "import cv2\n",
        "import numpy as np\n",
        "import pickle\n",
        "import os\n",
        "import random\n",
        "from tensorflow.keras.utils import to_categorical"
      ],
      "execution_count": null,
      "outputs": []
    },
    {
      "cell_type": "code",
      "metadata": {
        "id": "klvaHe5nMu6g"
      },
      "source": [
        "import shutil"
      ],
      "execution_count": null,
      "outputs": []
    },
    {
      "cell_type": "code",
      "metadata": {
        "id": "tIyZW8QaEKZ5"
      },
      "source": [
        "shutil.unpack_archive(\"/content/train_testANGLE.zip\", \"/content/\")"
      ],
      "execution_count": null,
      "outputs": []
    },
    {
      "cell_type": "code",
      "metadata": {
        "id": "LB3rdZv2Myge"
      },
      "source": [
        "import matplotlib.pyplot as plt"
      ],
      "execution_count": null,
      "outputs": []
    },
    {
      "cell_type": "code",
      "metadata": {
        "id": "ClrPXFuQMy-f"
      },
      "source": [
        "DATADIR = '/content/train_testANGLE'\n",
        "CATEGORIES = ['HIGH','MED','LOW']\n",
        "training_data = []"
      ],
      "execution_count": null,
      "outputs": []
    },
    {
      "cell_type": "code",
      "metadata": {
        "id": "6XFVMhIOM1Sv"
      },
      "source": [
        "for category in CATEGORIES:\n",
        "  path = os.path.join(DATADIR,category)\n",
        "  class_num=CATEGORIES.index(category)\n",
        "  for img in os.listdir(path):\n",
        "    try:\n",
        "      img_array = cv2.imread(os.path.join(path,img),cv2.IMREAD_GRAYSCALE)\n",
        "      #img_array = img_array.ravel()\n",
        "      training_data.append([img_array,class_num])\n",
        "\n",
        "    except Exception as e:\n",
        "      print('error')\n",
        "      pass"
      ],
      "execution_count": null,
      "outputs": []
    },
    {
      "cell_type": "code",
      "metadata": {
        "id": "YMxHCp6kM6Q_"
      },
      "source": [
        "random.shuffle(training_data)\n",
        "\n",
        "X = []\n",
        "y = []"
      ],
      "execution_count": null,
      "outputs": []
    },
    {
      "cell_type": "code",
      "metadata": {
        "id": "J0m7H8iJNJRe"
      },
      "source": [
        "for features, label in training_data:\n",
        "  X.append(features)\n",
        "  y.append(label)"
      ],
      "execution_count": null,
      "outputs": []
    },
    {
      "cell_type": "code",
      "metadata": {
        "id": "upC0gkAWNL-W"
      },
      "source": [
        "y=to_categorical(y)"
      ],
      "execution_count": null,
      "outputs": []
    },
    {
      "cell_type": "code",
      "metadata": {
        "id": "Mq-x_ojXNQS_"
      },
      "source": [
        "X = np.array(X).reshape(-1,320,180,1)\n",
        "y = np.array(y)"
      ],
      "execution_count": null,
      "outputs": []
    },
    {
      "cell_type": "code",
      "metadata": {
        "id": "sA2raUhpNS02"
      },
      "source": [
        "import pickle\n",
        "\n",
        "pickle_out = open(\"X.pickle\",\"wb\")\n",
        "pickle.dump(X, pickle_out)\n",
        "pickle_out.close()\n",
        "\n",
        "pickle_out = open(\"y.pickle\",\"wb\")\n",
        "pickle.dump(y,pickle_out)\n",
        "pickle_out.close()"
      ],
      "execution_count": null,
      "outputs": []
    },
    {
      "cell_type": "code",
      "metadata": {
        "id": "al06yPLGNpzU"
      },
      "source": [
        "pickle_in = open(\"X.pickle\",\"rb\")\n",
        "X = pickle.load(pickle_in)"
      ],
      "execution_count": null,
      "outputs": []
    },
    {
      "cell_type": "code",
      "metadata": {
        "id": "5FGUv_xdNsZW"
      },
      "source": [
        "import tensorflow as tf\n",
        "from tensorflow import keras\n",
        "import pickle\n",
        "import numpy as np"
      ],
      "execution_count": null,
      "outputs": []
    },
    {
      "cell_type": "code",
      "metadata": {
        "id": "1k9VEiBwNwll"
      },
      "source": [
        "X = pickle.load(open(\"X.pickle\",\"rb\"))\n",
        "y = pickle.load(open(\"y.pickle\",\"rb\"))"
      ],
      "execution_count": null,
      "outputs": []
    },
    {
      "cell_type": "code",
      "metadata": {
        "id": "AmxLWAGzNzzM"
      },
      "source": [
        "from sklearn.model_selection import train_test_split\n",
        "X_train, X_test, y_train, y_test = train_test_split(X, y, test_size=0.2, random_state=42)"
      ],
      "execution_count": null,
      "outputs": []
    },
    {
      "cell_type": "code",
      "metadata": {
        "id": "lqlnaaXsOYJE"
      },
      "source": [
        "X_train = X_train/255.0\n",
        "X_test = X_test/255.0"
      ],
      "execution_count": null,
      "outputs": []
    },
    {
      "cell_type": "code",
      "metadata": {
        "id": "b5a_qU0uOguE"
      },
      "source": [
        "model = keras.Sequential([\n",
        "  keras.layers.Conv2D(128,(3,3),activation='relu',input_shape=X_train.shape[1:]),\n",
        "  keras.layers.MaxPool2D(2,2),\n",
        "  keras.layers.Conv2D(64,(3,3),activation='relu'),\n",
        "  keras.layers.MaxPool2D(2,2),\n",
        "\n",
        "  keras.layers.Flatten(),\n",
        "  keras.layers.Dense(64,activation='relu'),\n",
        "  keras.layers.Dense(32,activation='relu'),\n",
        "  keras.layers.Dropout(0.4),\n",
        "  keras.layers.Dense(3,activation='softmax')\n",
        "])"
      ],
      "execution_count": null,
      "outputs": []
    },
    {
      "cell_type": "code",
      "metadata": {
        "colab": {
          "base_uri": "https://localhost:8080/"
        },
        "id": "FmX767vXO5r7",
        "outputId": "8936542f-eff2-449a-82dc-919174c9049c"
      },
      "source": [
        "model.summary()"
      ],
      "execution_count": null,
      "outputs": [
        {
          "output_type": "stream",
          "text": [
            "Model: \"sequential_1\"\n",
            "_________________________________________________________________\n",
            "Layer (type)                 Output Shape              Param #   \n",
            "=================================================================\n",
            "conv2d_2 (Conv2D)            (None, 318, 178, 128)     1280      \n",
            "_________________________________________________________________\n",
            "max_pooling2d_2 (MaxPooling2 (None, 159, 89, 128)      0         \n",
            "_________________________________________________________________\n",
            "conv2d_3 (Conv2D)            (None, 157, 87, 64)       73792     \n",
            "_________________________________________________________________\n",
            "max_pooling2d_3 (MaxPooling2 (None, 78, 43, 64)        0         \n",
            "_________________________________________________________________\n",
            "flatten_1 (Flatten)          (None, 214656)            0         \n",
            "_________________________________________________________________\n",
            "dense_3 (Dense)              (None, 64)                13738048  \n",
            "_________________________________________________________________\n",
            "dense_4 (Dense)              (None, 32)                2080      \n",
            "_________________________________________________________________\n",
            "dense_5 (Dense)              (None, 4)                 132       \n",
            "=================================================================\n",
            "Total params: 13,815,332\n",
            "Trainable params: 13,815,332\n",
            "Non-trainable params: 0\n",
            "_________________________________________________________________\n"
          ],
          "name": "stdout"
        }
      ]
    },
    {
      "cell_type": "code",
      "metadata": {
        "id": "APcRBblBPQwi"
      },
      "source": [
        "from keras.optimizers import SGD\n",
        "opt = SGD(lr=0.01)\n",
        "model.compile(loss=\"categorical_crossentropy\", optimizer=\"adam\", metrics=['accuracy'])"
      ],
      "execution_count": null,
      "outputs": []
    },
    {
      "cell_type": "code",
      "metadata": {
        "colab": {
          "base_uri": "https://localhost:8080/"
        },
        "id": "QyNLsUjbPXJw",
        "outputId": "a9b1326e-6ce7-4672-df58-af49a0ba38d8"
      },
      "source": [
        "model.fit(X_train, y_train, batch_size=3, epochs=15, validation_data=(X_test, y_test))"
      ],
      "execution_count": null,
      "outputs": [
        {
          "output_type": "stream",
          "text": [
            "Epoch 1/15\n",
            "202/202 [==============================] - 10s 47ms/step - loss: 0.6507 - accuracy: 0.7881 - val_loss: 0.7797 - val_accuracy: 0.7500\n",
            "Epoch 2/15\n",
            "202/202 [==============================] - 9s 47ms/step - loss: 0.8045 - accuracy: 0.7914 - val_loss: 0.7572 - val_accuracy: 0.7500\n",
            "Epoch 3/15\n",
            "202/202 [==============================] - 9s 47ms/step - loss: 0.6519 - accuracy: 0.7897 - val_loss: 0.7857 - val_accuracy: 0.7500\n",
            "Epoch 4/15\n",
            "202/202 [==============================] - 9s 47ms/step - loss: 0.5786 - accuracy: 0.7964 - val_loss: 0.8049 - val_accuracy: 0.7500\n",
            "Epoch 5/15\n",
            "202/202 [==============================] - 9s 47ms/step - loss: 0.5508 - accuracy: 0.8046 - val_loss: 0.8443 - val_accuracy: 0.7434\n",
            "Epoch 6/15\n",
            "202/202 [==============================] - 9s 47ms/step - loss: 0.5135 - accuracy: 0.7997 - val_loss: 1.1685 - val_accuracy: 0.7500\n",
            "Epoch 7/15\n",
            "202/202 [==============================] - 10s 47ms/step - loss: 0.4907 - accuracy: 0.8179 - val_loss: 0.9022 - val_accuracy: 0.7237\n",
            "Epoch 8/15\n",
            "202/202 [==============================] - 9s 47ms/step - loss: 0.4429 - accuracy: 0.8278 - val_loss: 1.0529 - val_accuracy: 0.7237\n",
            "Epoch 9/15\n",
            "202/202 [==============================] - 9s 47ms/step - loss: 0.3640 - accuracy: 0.8510 - val_loss: 1.4260 - val_accuracy: 0.7434\n",
            "Epoch 10/15\n",
            "202/202 [==============================] - 9s 47ms/step - loss: 0.3201 - accuracy: 0.8808 - val_loss: 1.1215 - val_accuracy: 0.7237\n",
            "Epoch 11/15\n",
            "202/202 [==============================] - 10s 47ms/step - loss: 0.2772 - accuracy: 0.8808 - val_loss: 1.8211 - val_accuracy: 0.7105\n",
            "Epoch 12/15\n",
            "202/202 [==============================] - 9s 47ms/step - loss: 0.2244 - accuracy: 0.9106 - val_loss: 1.3450 - val_accuracy: 0.6842\n",
            "Epoch 13/15\n",
            "202/202 [==============================] - 10s 47ms/step - loss: 0.2160 - accuracy: 0.9156 - val_loss: 1.6956 - val_accuracy: 0.6447\n",
            "Epoch 14/15\n",
            "202/202 [==============================] - 9s 47ms/step - loss: 0.1483 - accuracy: 0.9421 - val_loss: 2.2586 - val_accuracy: 0.6776\n",
            "Epoch 15/15\n",
            "202/202 [==============================] - 9s 47ms/step - loss: 0.2454 - accuracy: 0.9321 - val_loss: 2.2517 - val_accuracy: 0.6908\n"
          ],
          "name": "stdout"
        },
        {
          "output_type": "execute_result",
          "data": {
            "text/plain": [
              "<tensorflow.python.keras.callbacks.History at 0x7f8417f92dd0>"
            ]
          },
          "metadata": {
            "tags": []
          },
          "execution_count": 22
        }
      ]
    },
    {
      "cell_type": "code",
      "metadata": {
        "colab": {
          "base_uri": "https://localhost:8080/"
        },
        "id": "BBGOdlU-QvOR",
        "outputId": "162857a1-ea61-402e-d731-0f27e2171986"
      },
      "source": [
        "model.evaluate(X_test,y_test,verbose=0)"
      ],
      "execution_count": null,
      "outputs": [
        {
          "output_type": "execute_result",
          "data": {
            "text/plain": [
              "[2.2516963481903076, 0.6907894611358643]"
            ]
          },
          "metadata": {
            "tags": []
          },
          "execution_count": 23
        }
      ]
    },
    {
      "cell_type": "code",
      "metadata": {
        "id": "wzgRYnUNZ1DY"
      },
      "source": [
        "model.save(\"TEST_ANGLE.h5\")\n"
      ],
      "execution_count": null,
      "outputs": []
    },
    {
      "cell_type": "code",
      "metadata": {
        "id": "ftsOZWuIaQHo"
      },
      "source": [
        "from keras.models import load_model\n",
        "angle = load_model(\"TEST_ANGLE.h5\")\n"
      ],
      "execution_count": null,
      "outputs": []
    },
    {
      "cell_type": "code",
      "metadata": {
        "colab": {
          "base_uri": "https://localhost:8080/"
        },
        "id": "n3Uu2XKic_3K",
        "outputId": "0f92c02a-2219-41a1-8ed4-78b17838497f"
      },
      "source": [
        "%cd /content/test_angle"
      ],
      "execution_count": null,
      "outputs": [
        {
          "output_type": "stream",
          "text": [
            "/content/test_angle\n"
          ],
          "name": "stdout"
        }
      ]
    },
    {
      "cell_type": "code",
      "metadata": {
        "id": "yzWFYFzBeJy_"
      },
      "source": [
        "import cv2\n",
        "def prepare(filepath):\n",
        "  new_img=cv2.imread(filepath, cv2.IMREAD_GRAYSCALE)    \n",
        "  new_img=cv2.resize(new_img, (160,90))    \n",
        "  return new_img.reshape(-1, 160, 90,1)"
      ],
      "execution_count": null,
      "outputs": []
    },
    {
      "cell_type": "code",
      "metadata": {
        "colab": {
          "base_uri": "https://localhost:8080/"
        },
        "id": "lHJwEAMOO2kQ",
        "outputId": "b0608624-92ea-4e53-9ea4-a67df288890b"
      },
      "source": [
        "files = os.listdir(\"/content/test_angle\")\n",
        "CATEGORIES= [\"High\",\"Med\",\"Low\"]\n",
        "#prediction = angle.predict(files[0])\n",
        "#print(prediction)\n",
        "#return position of max\n",
        "for file in files[1:]:\n",
        "  img = cv2.imread(file,cv2.IMREAD_GRAYSCALE)\n",
        "  img = cv2.resize(img,(320,180))\n",
        "  new_img = img.reshape(-1,320,180,1)\n",
        "  prediction = angle.predict_classes(new_img)\n",
        "  print(file)\n",
        "  print(prediction)\n",
        "  print(CATEGORIES[int(prediction)]) "
      ],
      "execution_count": null,
      "outputs": [
        {
          "output_type": "stream",
          "text": [
            "/usr/local/lib/python3.7/dist-packages/tensorflow/python/keras/engine/sequential.py:450: UserWarning: `model.predict_classes()` is deprecated and will be removed after 2021-01-01. Please use instead:* `np.argmax(model.predict(x), axis=-1)`,   if your model does multi-class classification   (e.g. if it uses a `softmax` last-layer activation).* `(model.predict(x) > 0.5).astype(\"int32\")`,   if your model does binary classification   (e.g. if it uses a `sigmoid` last-layer activation).\n",
            "  warnings.warn('`model.predict_classes()` is deprecated and '\n"
          ],
          "name": "stderr"
        },
        {
          "output_type": "stream",
          "text": [
            "kns-cog1-Scene-1019-02.jpg\n",
            "[2]\n",
            "Low\n",
            "knives.out.bdrip-no1-Scene-0048-01.jpg\n",
            "[1]\n",
            "Med\n",
            "Do.the.Right.Thing.1989.HUN.DVDRip.XviD-pocokmaster-Scene-050-01.jpg\n",
            "[1]\n",
            "Med\n",
            "Phantom.Thread.2017.BDRip.x264-GECKOS-Scene-159-02.jpg\n",
            "[2]\n",
            "Low\n",
            "thefavourite-sd-hyperx-Scene-243-02.jpg\n",
            "[2]\n",
            "Low\n",
            "the.last.black.man.in.san.francisco.2019.limited.bdrip.x264-cadaver-Scene-067-01.jpg\n",
            "[2]\n",
            "Low\n"
          ],
          "name": "stdout"
        }
      ]
    }
  ]
}