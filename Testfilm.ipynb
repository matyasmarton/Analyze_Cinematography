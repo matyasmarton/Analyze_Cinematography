{
  "nbformat": 4,
  "nbformat_minor": 0,
  "metadata": {
    "colab": {
      "name": "Testfilm.ipynb",
      "provenance": [],
      "collapsed_sections": []
    },
    "kernelspec": {
      "name": "python3",
      "display_name": "Python 3"
    },
    "accelerator": "GPU"
  },
  "cells": [
    {
      "cell_type": "markdown",
      "metadata": {
        "id": "E6tuv-K7nakd"
      },
      "source": [
        "Install the required packages\n",
        "\n",
        "---\n",
        "\n"
      ]
    },
    {
      "cell_type": "code",
      "metadata": {
        "id": "eLSRMkMPngmj"
      },
      "source": [
        "pip install scenedetect"
      ],
      "execution_count": null,
      "outputs": []
    },
    {
      "cell_type": "code",
      "metadata": {
        "id": "f6hGKT7CDTFy"
      },
      "source": [
        "pip install deepface"
      ],
      "execution_count": null,
      "outputs": []
    },
    {
      "cell_type": "code",
      "metadata": {
        "id": "VMULGgPKDV90"
      },
      "source": [
        "pip install face_recognition"
      ],
      "execution_count": null,
      "outputs": []
    },
    {
      "cell_type": "code",
      "metadata": {
        "colab": {
          "base_uri": "https://localhost:8080/"
        },
        "id": "drwNXDLKkMFo",
        "outputId": "b080a77e-980d-473a-8864-7767b508dfe7"
      },
      "source": [
        "from google.colab import drive\n",
        "drive.mount('/content/drive')"
      ],
      "execution_count": null,
      "outputs": [
        {
          "output_type": "stream",
          "text": [
            "Mounted at /content/drive\n"
          ],
          "name": "stdout"
        }
      ]
    },
    {
      "cell_type": "markdown",
      "metadata": {
        "id": "QI0VMEfyompy"
      },
      "source": [
        "Import the required packages"
      ]
    },
    {
      "cell_type": "code",
      "metadata": {
        "id": "1IOvNVi9iZz1"
      },
      "source": [
        "#from __future__ import print_function\n",
        "import os\n",
        "import cv2\n",
        "from deepface import DeepFace\n",
        "#from deepface.extendedmodels import Race,Gender\n",
        "\n",
        "import face_recognition\n",
        "import pandas as pd\n",
        "\n",
        "from tqdm import tqdm\n",
        "import pickle\n",
        "import json\n",
        "\n",
        "import tensorflow as tf\n",
        "from tensorflow import keras\n",
        "from tensorflow.keras.models import Model, Sequential\n",
        "from tensorflow.keras.layers import Input, Convolution2D, ZeroPadding2D, MaxPooling2D, Flatten, Dense, Dropout, Activation\n",
        "from keras.models import load_model\n",
        "from keras.preprocessing import image\n",
        "\n",
        "from deepface.basemodels import VGGFace\n",
        "import os\n",
        "from pathlib import Path\n",
        "import gdown\n",
        "import numpy as np\n"
      ],
      "execution_count": null,
      "outputs": []
    },
    {
      "cell_type": "code",
      "metadata": {
        "id": "0FoW6l59pAzN"
      },
      "source": [
        "angle_model = load_model('/content/drive/MyDrive/models/TEST_ANGLE.h5',compile = True)\n",
        "shot_model = load_model('/content/drive/MyDrive/models/Shot Class model.h5',compile = True)"
      ],
      "execution_count": null,
      "outputs": []
    },
    {
      "cell_type": "markdown",
      "metadata": {
        "id": "Lq8lXNxToiKR"
      },
      "source": [
        "Run scenedetect on the desired video file or video files"
      ]
    },
    {
      "cell_type": "code",
      "metadata": {
        "id": "AfGGfCzjoh3d",
        "colab": {
          "base_uri": "https://localhost:8080/"
        },
        "outputId": "eb035a9f-433b-4ae2-d50f-0becd16c65dd"
      },
      "source": [
        "!scenedetect -i /content/for_a_few_dollars_more.mp4 -o output_dir detect-content list-scenes save-images"
      ],
      "execution_count": null,
      "outputs": [
        {
          "output_type": "stream",
          "text": [
            "[PySceneDetect] PySceneDetect v0.5.5\n",
            "[PySceneDetect] Output directory set:\n",
            "  /content/output_dir\n",
            "[PySceneDetect] Loaded 1 video, framerate: 29.97 FPS, resolution: 854 x 480\n",
            "[PySceneDetect] Downscale factor set to 3, effective resolution: 284 x 160\n",
            "[PySceneDetect] Scene list CSV file name format:\n",
            "  $VIDEO_NAME-Scenes.csv\n",
            "[PySceneDetect] Image output format set: JPEG [Quality: 95]\n",
            "[PySceneDetect] Detecting scenes...\n",
            "100% 12163/12163 [00:29<00:00, 407.04frames/s]\n",
            "[PySceneDetect] Processed 12163 frames in 29.9 seconds (average 406.95 FPS).\n",
            "[PySceneDetect] Detected 95 scenes, average shot length 4.3 seconds.\n",
            "[PySceneDetect] Writing scene list to CSV file:\n",
            "  /content/output_dir/for_a_few_dollars_more-Scenes.csv\n",
            "[PySceneDetect] Scene List:\n",
            "-----------------------------------------------------------------------\n",
            " | Scene # | Start Frame |  Start Time  |  End Frame  |   End Time   |\n",
            "-----------------------------------------------------------------------\n",
            " |      1  |           0 | 00:00:00.000 |          73 | 00:00:02.436 |\n",
            " |      2  |          73 | 00:00:02.436 |         125 | 00:00:04.171 |\n",
            " |      3  |         125 | 00:00:04.171 |         144 | 00:00:04.805 |\n",
            " |      4  |         144 | 00:00:04.805 |         195 | 00:00:06.506 |\n",
            " |      5  |         195 | 00:00:06.506 |         254 | 00:00:08.475 |\n",
            " |      6  |         254 | 00:00:08.475 |         285 | 00:00:09.510 |\n",
            " |      7  |         285 | 00:00:09.510 |         339 | 00:00:11.311 |\n",
            " |      8  |         339 | 00:00:11.311 |         409 | 00:00:13.647 |\n",
            " |      9  |         409 | 00:00:13.647 |         475 | 00:00:15.849 |\n",
            " |     10  |         475 | 00:00:15.849 |         752 | 00:00:25.092 |\n",
            " |     11  |         752 | 00:00:25.092 |         820 | 00:00:27.361 |\n",
            " |     12  |         820 | 00:00:27.361 |         973 | 00:00:32.466 |\n",
            " |     13  |         973 | 00:00:32.466 |        1170 | 00:00:39.039 |\n",
            " |     14  |        1170 | 00:00:39.039 |        1237 | 00:00:41.275 |\n",
            " |     15  |        1237 | 00:00:41.275 |        1449 | 00:00:48.348 |\n",
            " |     16  |        1449 | 00:00:48.348 |        1520 | 00:00:50.717 |\n",
            " |     17  |        1520 | 00:00:50.717 |        1554 | 00:00:51.852 |\n",
            " |     18  |        1554 | 00:00:51.852 |        1690 | 00:00:56.390 |\n",
            " |     19  |        1690 | 00:00:56.390 |        2184 | 00:01:12.873 |\n",
            " |     20  |        2184 | 00:01:12.873 |        2378 | 00:01:19.346 |\n",
            " |     21  |        2378 | 00:01:19.346 |        2467 | 00:01:22.316 |\n",
            " |     22  |        2467 | 00:01:22.316 |        2539 | 00:01:24.718 |\n",
            " |     23  |        2539 | 00:01:24.718 |        2643 | 00:01:28.188 |\n",
            " |     24  |        2643 | 00:01:28.188 |        2743 | 00:01:31.525 |\n",
            " |     25  |        2743 | 00:01:31.525 |        2895 | 00:01:36.597 |\n",
            " |     26  |        2895 | 00:01:36.597 |        2964 | 00:01:38.899 |\n",
            " |     27  |        2964 | 00:01:38.899 |        3002 | 00:01:40.167 |\n",
            " |     28  |        3002 | 00:01:40.167 |        3135 | 00:01:44.605 |\n",
            " |     29  |        3135 | 00:01:44.605 |        3230 | 00:01:47.774 |\n",
            " |     30  |        3230 | 00:01:47.774 |        3324 | 00:01:50.911 |\n",
            " |     31  |        3324 | 00:01:50.911 |        3357 | 00:01:52.012 |\n",
            " |     32  |        3357 | 00:01:52.012 |        3448 | 00:01:55.048 |\n",
            " |     33  |        3448 | 00:01:55.048 |        3487 | 00:01:56.350 |\n",
            " |     34  |        3487 | 00:01:56.350 |        3598 | 00:02:00.053 |\n",
            " |     35  |        3598 | 00:02:00.053 |        3650 | 00:02:01.788 |\n",
            " |     36  |        3650 | 00:02:01.788 |        3705 | 00:02:03.624 |\n",
            " |     37  |        3705 | 00:02:03.624 |        3804 | 00:02:06.927 |\n",
            " |     38  |        3804 | 00:02:06.927 |        4019 | 00:02:14.101 |\n",
            " |     39  |        4019 | 00:02:14.101 |        4124 | 00:02:17.604 |\n",
            " |     40  |        4124 | 00:02:17.604 |        4218 | 00:02:20.741 |\n",
            " |     41  |        4218 | 00:02:20.741 |        4310 | 00:02:23.810 |\n",
            " |     42  |        4310 | 00:02:23.810 |        4507 | 00:02:30.384 |\n",
            " |     43  |        4507 | 00:02:30.384 |        4624 | 00:02:34.287 |\n",
            " |     44  |        4624 | 00:02:34.287 |        4784 | 00:02:39.626 |\n",
            " |     45  |        4784 | 00:02:39.626 |        4970 | 00:02:45.832 |\n",
            " |     46  |        4970 | 00:02:45.832 |        5034 | 00:02:47.968 |\n",
            " |     47  |        5034 | 00:02:47.968 |        5327 | 00:02:57.744 |\n",
            " |     48  |        5327 | 00:02:57.744 |        5539 | 00:03:04.818 |\n",
            " |     49  |        5539 | 00:03:04.818 |        5592 | 00:03:06.586 |\n",
            " |     50  |        5592 | 00:03:06.586 |        6235 | 00:03:28.041 |\n",
            " |     51  |        6235 | 00:03:28.041 |        6385 | 00:03:33.046 |\n",
            " |     52  |        6385 | 00:03:33.046 |        6833 | 00:03:47.994 |\n",
            " |     53  |        6833 | 00:03:47.994 |        6957 | 00:03:52.132 |\n",
            " |     54  |        6957 | 00:03:52.132 |        7024 | 00:03:54.367 |\n",
            " |     55  |        7024 | 00:03:54.367 |        7100 | 00:03:56.903 |\n",
            " |     56  |        7100 | 00:03:56.903 |        7152 | 00:03:58.638 |\n",
            " |     57  |        7152 | 00:03:58.638 |        7217 | 00:04:00.807 |\n",
            " |     58  |        7217 | 00:04:00.807 |        7315 | 00:04:04.077 |\n",
            " |     59  |        7315 | 00:04:04.077 |        7435 | 00:04:08.081 |\n",
            " |     60  |        7435 | 00:04:08.081 |        7508 | 00:04:10.517 |\n",
            " |     61  |        7508 | 00:04:10.517 |        7610 | 00:04:13.920 |\n",
            " |     62  |        7610 | 00:04:13.920 |        7697 | 00:04:16.823 |\n",
            " |     63  |        7697 | 00:04:16.823 |        7824 | 00:04:21.061 |\n",
            " |     64  |        7824 | 00:04:21.061 |        7957 | 00:04:25.499 |\n",
            " |     65  |        7957 | 00:04:25.499 |        8042 | 00:04:28.335 |\n",
            " |     66  |        8042 | 00:04:28.335 |        8125 | 00:04:31.104 |\n",
            " |     67  |        8125 | 00:04:31.104 |        8230 | 00:04:34.608 |\n",
            " |     68  |        8230 | 00:04:34.608 |        8300 | 00:04:36.943 |\n",
            " |     69  |        8300 | 00:04:36.943 |        8365 | 00:04:39.112 |\n",
            " |     70  |        8365 | 00:04:39.112 |        8409 | 00:04:40.580 |\n",
            " |     71  |        8409 | 00:04:40.580 |        8464 | 00:04:42.415 |\n",
            " |     72  |        8464 | 00:04:42.415 |        8507 | 00:04:43.850 |\n",
            " |     73  |        8507 | 00:04:43.850 |        8529 | 00:04:44.584 |\n",
            " |     74  |        8529 | 00:04:44.584 |        8588 | 00:04:46.553 |\n",
            " |     75  |        8588 | 00:04:46.553 |        8652 | 00:04:48.688 |\n",
            " |     76  |        8652 | 00:04:48.688 |        8708 | 00:04:50.557 |\n",
            " |     77  |        8708 | 00:04:50.557 |        8888 | 00:04:56.563 |\n",
            " |     78  |        8888 | 00:04:56.563 |        8917 | 00:04:57.531 |\n",
            " |     79  |        8917 | 00:04:57.531 |        8948 | 00:04:58.565 |\n",
            " |     80  |        8948 | 00:04:58.565 |        9197 | 00:05:06.873 |\n",
            " |     81  |        9197 | 00:05:06.873 |        9307 | 00:05:10.544 |\n",
            " |     82  |        9307 | 00:05:10.544 |        9433 | 00:05:14.748 |\n",
            " |     83  |        9433 | 00:05:14.748 |        9495 | 00:05:16.817 |\n",
            " |     84  |        9495 | 00:05:16.817 |        9575 | 00:05:19.486 |\n",
            " |     85  |        9575 | 00:05:19.486 |        9647 | 00:05:21.888 |\n",
            " |     86  |        9647 | 00:05:21.888 |        9700 | 00:05:23.657 |\n",
            " |     87  |        9700 | 00:05:23.657 |        9893 | 00:05:30.096 |\n",
            " |     88  |        9893 | 00:05:30.096 |       10352 | 00:05:45.412 |\n",
            " |     89  |       10352 | 00:05:45.412 |       10488 | 00:05:49.950 |\n",
            " |     90  |       10488 | 00:05:49.950 |       11534 | 00:06:24.851 |\n",
            " |     91  |       11534 | 00:06:24.851 |       11679 | 00:06:29.689 |\n",
            " |     92  |       11679 | 00:06:29.689 |       11743 | 00:06:31.825 |\n",
            " |     93  |       11743 | 00:06:31.825 |       11817 | 00:06:34.294 |\n",
            " |     94  |       11817 | 00:06:34.294 |       12085 | 00:06:43.236 |\n",
            " |     95  |       12085 | 00:06:43.236 |       12163 | 00:06:45.839 |\n",
            "-----------------------------------------------------------------------\n",
            "\n",
            "[PySceneDetect] Comma-separated timecode list:\n",
            "  00:00:02.436,00:00:04.171,00:00:04.805,00:00:06.506,00:00:08.475,00:00:09.510,00:00:11.311,00:00:13.647,00:00:15.849,00:00:25.092,00:00:27.361,00:00:32.466,00:00:39.039,00:00:41.275,00:00:48.348,00:00:50.717,00:00:51.852,00:00:56.390,00:01:12.873,00:01:19.346,00:01:22.316,00:01:24.718,00:01:28.188,00:01:31.525,00:01:36.597,00:01:38.899,00:01:40.167,00:01:44.605,00:01:47.774,00:01:50.911,00:01:52.012,00:01:55.048,00:01:56.350,00:02:00.053,00:02:01.788,00:02:03.624,00:02:06.927,00:02:14.101,00:02:17.604,00:02:20.741,00:02:23.810,00:02:30.384,00:02:34.287,00:02:39.626,00:02:45.832,00:02:47.968,00:02:57.744,00:03:04.818,00:03:06.586,00:03:28.041,00:03:33.046,00:03:47.994,00:03:52.132,00:03:54.367,00:03:56.903,00:03:58.638,00:04:00.807,00:04:04.077,00:04:08.081,00:04:10.517,00:04:13.920,00:04:16.823,00:04:21.061,00:04:25.499,00:04:28.335,00:04:31.104,00:04:34.608,00:04:36.943,00:04:39.112,00:04:40.580,00:04:42.415,00:04:43.850,00:04:44.584,00:04:46.553,00:04:48.688,00:04:50.557,00:04:56.563,00:04:57.531,00:04:58.565,00:05:06.873,00:05:10.544,00:05:14.748,00:05:16.817,00:05:19.486,00:05:21.888,00:05:23.657,00:05:30.096,00:05:45.412,00:05:49.950,00:06:24.851,00:06:29.689,00:06:31.825,00:06:34.294,00:06:43.236\n",
            "[PySceneDetect] Downscale factor set to 1, effective resolution: 854 x 480\n",
            "[PySceneDetect] Generating output images (3 per scene)...\n",
            "  4% 12/285 [00:00<00:12, 21.78images/s]\u001b[0;36m[h264 @ 0x55d23cd99a80] \u001b[0m\u001b[1;31mmmco: unref short failure\n",
            "\u001b[0m\u001b[0;36m[h264 @ 0x55d23cd99a80] \u001b[0m\u001b[1;31mmmco: unref short failure\n",
            "\u001b[0m\u001b[0;36m[h264 @ 0x55d23cd99a80] \u001b[0m\u001b[1;31mmmco: unref short failure\n",
            "\u001b[0m\u001b[0;36m[h264 @ 0x55d23cd99a80] \u001b[0m\u001b[1;31mmmco: unref short failure\n",
            "  5% 15/285 [00:00<00:13, 20.40images/s]\u001b[0;36m[h264 @ 0x55d23cd99a80] \u001b[0m\u001b[1;31mmmco: unref short failure\n",
            "\u001b[0m\u001b[0;36m[h264 @ 0x55d23cd99a80] \u001b[0m\u001b[1;31mmmco: unref short failure\n",
            "\u001b[0m\u001b[0;36m[h264 @ 0x55d23cd99a80] \u001b[0m\u001b[1;31mmmco: unref short failure\n",
            "\u001b[0m\u001b[0;36m[h264 @ 0x55d23cd99a80] \u001b[0m\u001b[1;31mmmco: unref short failure\n",
            "  6% 17/285 [00:00<00:15, 17.20images/s]\u001b[0;36m[h264 @ 0x55d23cd99a80] \u001b[0m\u001b[1;31mmmco: unref short failure\n",
            "\u001b[0m\u001b[0;36m[h264 @ 0x55d23cd99a80] \u001b[0m\u001b[1;31mmmco: unref short failure\n",
            " 15% 43/285 [00:02<00:18, 12.87images/s]\u001b[0;36m[h264 @ 0x55d23cd99a80] \u001b[0m\u001b[1;31mmmco: unref short failure\n",
            "\u001b[0m\u001b[0;36m[h264 @ 0x55d23cd99a80] \u001b[0m\u001b[1;31mmmco: unref short failure\n",
            " 35% 100/285 [00:06<00:11, 16.26images/s]\u001b[0;36m[h264 @ 0x55d23cd99a80] \u001b[0m\u001b[1;31mmmco: unref short failure\n",
            "\u001b[0m\u001b[0;36m[h264 @ 0x55d23cd99a80] \u001b[0m\u001b[1;31mmmco: unref short failure\n",
            " 36% 102/285 [00:06<00:12, 15.20images/s]\u001b[0;36m[h264 @ 0x55d23cd99a80] \u001b[0m\u001b[1;31mmmco: unref short failure\n",
            " 71% 201/285 [00:14<00:07, 11.17images/s]\u001b[0;36m[h264 @ 0x55d23cd99a80] \u001b[0m\u001b[1;31mmmco: unref short failure\n",
            "\u001b[0m\u001b[0;36m[h264 @ 0x55d23cd99a80] \u001b[0m\u001b[1;31mmmco: unref short failure\n",
            " 85% 241/285 [00:16<00:03, 13.16images/s]\u001b[0;36m[h264 @ 0x55d23cd99a80] \u001b[0m\u001b[1;31mmmco: unref short failure\n",
            "\u001b[0m\u001b[0;36m[h264 @ 0x55d23cd99a80] \u001b[0m\u001b[1;31mmmco: unref short failure\n",
            " 89% 255/285 [00:17<00:01, 17.00images/s]\u001b[0;36m[h264 @ 0x55d23cd99a80] \u001b[0m\u001b[1;31mmmco: unref short failure\n",
            " 90% 257/285 [00:17<00:01, 17.09images/s]\u001b[0;36m[h264 @ 0x55d23cd99a80] \u001b[0m\u001b[1;31mmmco: unref short failure\n",
            "\u001b[0m\u001b[0;36m[h264 @ 0x55d23cd99a80] \u001b[0m\u001b[1;31mmmco: unref short failure\n",
            "100% 285/285 [00:19<00:00, 14.45images/s]\n"
          ],
          "name": "stdout"
        }
      ]
    },
    {
      "cell_type": "markdown",
      "metadata": {
        "id": "Pzg8VnMkpxrY"
      },
      "source": [
        "Create a list of the output of Scenedetect"
      ]
    },
    {
      "cell_type": "code",
      "metadata": {
        "colab": {
          "base_uri": "https://localhost:8080/"
        },
        "id": "BDCnYhYNlcLH",
        "outputId": "a5682b14-cb70-4064-859e-7267a48c8399"
      },
      "source": [
        "\n",
        "files = os.listdir(\"/content/output_dir/content/output_dir\")\n",
        "#files = files[:-1]\n",
        "files = files[0::3]\n",
        "print(len(files))"
      ],
      "execution_count": null,
      "outputs": [
        {
          "output_type": "stream",
          "text": [
            "96\n"
          ],
          "name": "stdout"
        }
      ]
    },
    {
      "cell_type": "markdown",
      "metadata": {
        "id": "EGgtKOsxsGpQ"
      },
      "source": [
        "Define our prediction and classification functions"
      ]
    },
    {
      "cell_type": "markdown",
      "metadata": {
        "id": "GAyypNo5b1U5"
      },
      "source": [
        "The below four functions are copied from the Deepface github repository\n",
        "Normally I would use the Deepface API and get this done with 3 lines of code.\n",
        "However Deepface experienced heavy traffic that does not let users download the Race and Gender model weights when You run the function.\n",
        "\n",
        "This solution is more complicated then just using the API, however it is less resource intesive as You only have to load the weights once when You run the for loop on multiple images. \n",
        "\n",
        "For the four functions below all credit goes to the Deepface dev team, I only made minor changes"
      ]
    },
    {
      "cell_type": "code",
      "metadata": {
        "id": "9tCZQY0Zljjy"
      },
      "source": [
        "import shutil\n",
        "shutil.unpack_archive(\"/content/drive/MyDrive/models/race_model_single_batch.zip\", \"/content/modellek/\")\n",
        "shutil.unpack_archive(\"/content/output.zip\", \"/content/output_dir/\")"
      ],
      "execution_count": null,
      "outputs": []
    },
    {
      "cell_type": "code",
      "metadata": {
        "id": "8q0x3Qk0bNmV"
      },
      "source": [
        "def loadraceModel():\n",
        "\t\n",
        "\tmodel = VGGFace.baseModel()\n",
        "\t\n",
        "\t#--------------------------\n",
        "\t\n",
        "\tclasses = 6\n",
        "\tbase_model_output = Sequential()\n",
        "\tbase_model_output = Convolution2D(classes, (1, 1), name='predictions')(model.layers[-4].output)\n",
        "\tbase_model_output = Flatten()(base_model_output)\n",
        "\tbase_model_output = Activation('softmax')(base_model_output)\n",
        "\t\n",
        "\t#--------------------------\n",
        "\n",
        "\trace_model = Model(inputs=model.input, outputs=base_model_output)\n",
        "\t\n",
        "\t#--------------------------\n",
        "\t\n",
        "\t#load weights\n",
        "\t\n",
        "\n",
        "\trace_model.load_weights('/content/modellek/race_model_single_batch.h5')\n",
        "\t\n",
        "\treturn race_model\n",
        "    \n",
        "    \n",
        "def loadgenderModel():\n",
        "\t\n",
        "\tmodel = VGGFace.baseModel()\n",
        "\t\n",
        "\t#--------------------------\n",
        "\t\n",
        "\tclasses = 2\n",
        "\tbase_model_output = Sequential()\n",
        "\tbase_model_output = Convolution2D(classes, (1, 1), name='predictions')(model.layers[-4].output)\n",
        "\tbase_model_output = Flatten()(base_model_output)\n",
        "\tbase_model_output = Activation('softmax')(base_model_output)\n",
        "\t\n",
        "\t#--------------------------\n",
        "\n",
        "\tgender_model = Model(inputs=model.input, outputs=base_model_output)\n",
        "\t\n",
        "\tgender_model.load_weights('/content/drive/MyDrive/models/gender_model_weights.h5')\n",
        "\t\n",
        "\treturn gender_model\n",
        "\n",
        "\n",
        "def build_model(model_name):\n",
        "\n",
        "\t\"\"\"\n",
        "\tThis function builds a deepface model\n",
        "\tParameters:\n",
        "\t\tmodel_name (string): face recognition or facial attribute model\n",
        "\t\t\tVGG-Face, Facenet, OpenFace, DeepFace, DeepID for face recognition\n",
        "\t\t\tAge, Gender, Emotion, Race for facial attributes\n",
        "\tReturns:\n",
        "\t\tbuilt deepface model\n",
        "\t\"\"\"\n",
        "\n",
        "\tmodels = {\n",
        "\t\t'VGG-Face': VGGFace.loadModel,\n",
        "\n",
        "\t\t#'Age': Age.loadModel,\n",
        "\t\t'Gender': gender,\n",
        "\t\t'Race': race\n",
        "\t}\n",
        "\n",
        "\tmodel = models.get(model_name)"
      ],
      "execution_count": null,
      "outputs": []
    },
    {
      "cell_type": "code",
      "metadata": {
        "id": "HU06GAxnnGbn"
      },
      "source": [
        "gender = loadgenderModel()\n",
        "race = loadraceModel()"
      ],
      "execution_count": null,
      "outputs": []
    },
    {
      "cell_type": "code",
      "metadata": {
        "id": "c3gQZTuYbxXC"
      },
      "source": [
        "from deepface.commons import functions, realtime, distance as dst\n",
        "def analyze(img_path, actions = ['emotion', 'age', 'gender', 'race'] , models = {}, enforce_detection = True, detector_backend = 'mtcnn'):\n",
        "\n",
        "\n",
        "\timg_paths, bulkProcess = functions.initialize_input(img_path)\n",
        "\tfunctions.initialize_detector(detector_backend = detector_backend)\n",
        "\n",
        "\t#---------------------------------\n",
        "\n",
        "\tbuilt_models = list(models.keys())\n",
        "\n",
        "\t#---------------------------------\n",
        "\n",
        "\t#pre-trained models passed but it doesn't exist in actions\n",
        "\tif len(built_models) > 0:\n",
        "\t\tif 'emotion' in built_models and 'emotion' not in actions:\n",
        "\t\t\tactions.append('emotion')\n",
        "\n",
        "\t\tif 'age' in built_models and 'age' not in actions:\n",
        "\t\t\tactions.append('age')\n",
        "\n",
        "\t\tif 'gender' in built_models and 'gender' not in actions:\n",
        "\t\t\tactions.append('gender')\n",
        "\n",
        "\t\tif 'race' in built_models and 'race' not in actions:\n",
        "\t\t\tactions.append('race')\n",
        "\n",
        "\t#---------------------------------\n",
        "\n",
        "\tif 'emotion' in actions and 'emotion' not in built_models:\n",
        "\t\tmodels['emotion'] = build_model('Emotion')\n",
        "\n",
        "\tif 'age' in actions and 'age' not in built_models:\n",
        "\t\tmodels['age'] = build_model('Age')\n",
        "\n",
        "\tif 'gender' in actions and 'gender' not in built_models:\n",
        "\t\tmodels['gender'] = build_model('Gender')\n",
        "\n",
        "\tif 'race' in actions and 'race' not in built_models:\n",
        "\t\tmodels['race'] = build_model('Race')\n",
        "\n",
        "\t#---------------------------------\n",
        "\n",
        "\tresp_objects = []\n",
        "\n",
        "\tdisable_option = False if len(img_paths) > 1 else True\n",
        "\n",
        "\tglobal_pbar = tqdm(range(0,len(img_paths)), desc='Analyzing', disable = disable_option)\n",
        "\n",
        "\tfor j in global_pbar:\n",
        "\t\timg_path = img_paths[j]\n",
        "\n",
        "\t\tresp_obj = {}\n",
        "\n",
        "\t\tdisable_option = False if len(actions) > 1 else True\n",
        "\n",
        "\t\tpbar = tqdm(range(0,len(actions)), desc='Finding actions', disable = disable_option)\n",
        "\n",
        "\t\timg_224 = None # Set to prevent re-detection\n",
        "\n",
        "\t\tregion = [] # x, y, w, h of the detected face region\n",
        "\t\tregion_labels = ['x', 'y', 'w', 'h']\n",
        "\n",
        "\t\t#facial attribute analysis\n",
        "\t\tfor index in pbar:\n",
        "\t\t\taction = actions[index]\n",
        "\t\t\tpbar.set_description(\"Action: %s\" % (action))\n",
        "\n",
        "\t\t\tif action == 'emotion':\n",
        "\t\t\t\temotion_labels = ['angry', 'disgust', 'fear', 'happy', 'sad', 'surprise', 'neutral']\n",
        "\t\t\t\timg, region = functions.preprocess_face(img = img_path, target_size = (48, 48), grayscale = True, enforce_detection = enforce_detection, detector_backend = detector_backend, return_region = True)\n",
        "\n",
        "\t\t\t\tresp_obj[\"region\"] = {}\n",
        "\n",
        "\t\t\t\tfor i, parameter in enumerate(region_labels):\n",
        "\t\t\t\t\tresp_obj[\"region\"][parameter] = region[i]\n",
        "\n",
        "\t\t\t\temotion_predictions = models['emotion'].predict(img)[0,:]\n",
        "\n",
        "\t\t\t\tsum_of_predictions = emotion_predictions.sum()\n",
        "\n",
        "\t\t\t\tresp_obj[\"emotion\"] = {}\n",
        "\n",
        "\t\t\t\tfor i in range(0, len(emotion_labels)):\n",
        "\t\t\t\t\temotion_label = emotion_labels[i]\n",
        "\t\t\t\t\temotion_prediction = 100 * emotion_predictions[i] / sum_of_predictions\n",
        "\t\t\t\t\tresp_obj[\"emotion\"][emotion_label] = emotion_prediction\n",
        "\n",
        "\t\t\t\tresp_obj[\"dominant_emotion\"] = emotion_labels[np.argmax(emotion_predictions)]\n",
        "\n",
        "\t\t\telif action == 'age':\n",
        "\t\t\t\tif img_224 is None:\n",
        "\t\t\t\t\timg_224, region = functions.preprocess_face(img = img_path, target_size = (224, 224), grayscale = False, enforce_detection = enforce_detection, detector_backend = detector_backend, return_region = True)\n",
        "\n",
        "\t\t\t\tresp_obj[\"region\"] = {}\n",
        "\n",
        "\t\t\t\tfor i, parameter in enumerate(region_labels):\n",
        "\t\t\t\t\tresp_obj[\"region\"][parameter] = region[i]\n",
        "\n",
        "\t\t\t\tage_predictions = models['age'].predict(img_224)[0,:]\n",
        "\t\t\t\tapparent_age = Age.findApparentAge(age_predictions)\n",
        "\n",
        "\t\t\t\tresp_obj[\"age\"] = int(apparent_age)\n",
        "\n",
        "\t\t\telif action == 'gender':\n",
        "\t\t\t\tif img_224 is None:\n",
        "\t\t\t\t\timg_224, region = functions.preprocess_face(img = img_path, target_size = (224, 224), grayscale = False, enforce_detection = enforce_detection, detector_backend = detector_backend, return_region = True)\n",
        "\n",
        "\t\t\t\tresp_obj[\"region\"] = {}\n",
        "\n",
        "\t\t\t\tfor i, parameter in enumerate(region_labels):\n",
        "\t\t\t\t\tresp_obj[\"region\"][parameter] = region[i]\n",
        "\n",
        "\t\t\t\tgender_prediction = models['gender'].predict(img_224)[0,:]\n",
        "\n",
        "\t\t\t\tif np.argmax(gender_prediction) == 0:\n",
        "\t\t\t\t\tgender = \"Woman\"\n",
        "\t\t\t\telif np.argmax(gender_prediction) == 1:\n",
        "\t\t\t\t\tgender = \"Man\"\n",
        "\n",
        "\t\t\t\tresp_obj[\"gender\"] = gender\n",
        "\n",
        "\t\t\telif action == 'race':\n",
        "\t\t\t\tif img_224 is None:\n",
        "\t\t\t\t\timg_224, region = functions.preprocess_face(img = img_path, target_size = (224, 224), grayscale = False, enforce_detection = enforce_detection, detector_backend = detector_backend, return_region = True) #just emotion model expects grayscale images\n",
        "\t\t\t\trace_predictions = models['race'].predict(img_224)[0,:]\n",
        "\t\t\t\trace_labels = ['asian', 'indian', 'black', 'white', 'middle eastern', 'latino hispanic']\n",
        "\n",
        "\t\t\t\tresp_obj[\"region\"] = {}\n",
        "\n",
        "\t\t\t\tfor i, parameter in enumerate(region_labels):\n",
        "\t\t\t\t\tresp_obj[\"region\"][parameter] = region[i]\n",
        "\n",
        "\t\t\t\tsum_of_predictions = race_predictions.sum()\n",
        "\n",
        "\t\t\t\tresp_obj[\"race\"] = {}\n",
        "\t\t\t\tfor i in range(0, len(race_labels)):\n",
        "\t\t\t\t\trace_label = race_labels[i]\n",
        "\t\t\t\t\trace_prediction = 100 * race_predictions[i] / sum_of_predictions\n",
        "\t\t\t\t\tresp_obj[\"race\"][race_label] = race_prediction\n",
        "\n",
        "\t\t\t\tresp_obj[\"dominant_race\"] = race_labels[np.argmax(race_predictions)]\n",
        "\n",
        "\t\t#---------------------------------\n",
        "\n",
        "\t\tif bulkProcess == True:\n",
        "\t\t\tresp_objects.append(resp_obj)\n",
        "\t\telse:\n",
        "\t\t\treturn resp_obj\n",
        "\n",
        "\tif bulkProcess == True:\n",
        "\n",
        "\t\tresp_obj = {}\n",
        "\n",
        "\t\tfor i in range(0, len(resp_objects)):\n",
        "\t\t\tresp_item = resp_objects[i]\n",
        "\t\t\tresp_obj[\"instance_%d\" % (i+1)] = resp_item\n",
        "\n",
        "\t\treturn resp_obj"
      ],
      "execution_count": null,
      "outputs": []
    },
    {
      "cell_type": "code",
      "metadata": {
        "id": "6HX_PdpWlrTO"
      },
      "source": [
        "class Predict():\n",
        "# check_face retuns 0 if there is no face, or the number of faces on an image\n",
        "    def check_face(file):\n",
        "        img = cv2.imread(file,1)\n",
        "        #image = np.array(img)\n",
        "        image = face_recognition.load_image_file(file)\n",
        "# run the face recognition on an image\n",
        "        face_locations = face_recognition.face_locations(image, number_of_times_to_upsample=1, model=\"cnn\")\n",
        "\n",
        "        if len(face_locations) > 0:\n",
        "#If there is a face detected create a list of point using face landmarks. \n",
        "#These will be used when calculating the contrast ratio of the face.\n",
        "# points and points2 are the point of interest on the face. ROI and ROI2 are the rectangle we draw from these points.\n",
        "            lista = face_recognition.face_landmarks(img,face_locations = face_locations)\n",
        "            points = [lista[0]['chin'][0],lista[0]['nose_bridge'][-1]]\n",
        "            points2 = [lista[0]['nose_bridge'][0],lista[0]['chin'][-4]]\n",
        "            ROI = img[points[0][1]:points[1][1], points[0][0]:points[1][0]]\n",
        "            ROI2 = img[points2[0][1]:points2[1][1], points2[0][0]:points2[1][0]]\n",
        "            return len(face_locations),ROI,ROI2\n",
        "        else:\n",
        "            return 0,0,0\n",
        "\n",
        "\n",
        "\n",
        "    def analyze(image,category1,category2,model1,model2):\n",
        "        img = cv2.imread(image,cv2.IMREAD_GRAYSCALE)\n",
        "        img = cv2.resize(img,(320,180))\n",
        "        new_img = img.reshape(-1,320,180,1)\n",
        "        pred1 = model1.predict_classes(new_img)\n",
        "        pred2 = model2.predict_classes(new_img)\n",
        "        class1 = category1[int(pred1)]\n",
        "        class2 = category2[int(pred2)]\n",
        "        return class1,class2\n",
        "        \n"
      ],
      "execution_count": null,
      "outputs": []
    },
    {
      "cell_type": "code",
      "metadata": {
        "id": "qWNDatnsh7yA"
      },
      "source": [
        "# This function takes the ROI rectangles above and calculates the brightness value of each pixel,\n",
        "# Then gives us the average brightness of that territory. If we do this for both side of the face we get the contrast ratio\n",
        "\n",
        "\n",
        "from numpy.linalg import norm\n",
        "#https://stackoverflow.com/questions/14243472/estimate-brightness-of-an-image-opencv\n",
        "\n",
        "def brightness(img):\n",
        "\n",
        "    if type(img) == int:\n",
        "        return str(0)\n",
        "    elif len(img.shape) == 3:\n",
        "        # Colored RGB or BGR (*Do Not* use HSV images with this function)\n",
        "        # create brightness with euclidean norm\n",
        "        return str(np.average(norm(img, axis=2)) / np.sqrt(3))\n",
        "    else:\n",
        "        # Grayscale\n",
        "        return str(np.average(img))\n",
        "\n",
        "\n",
        "\n"
      ],
      "execution_count": null,
      "outputs": []
    },
    {
      "cell_type": "markdown",
      "metadata": {
        "id": "qTostqM9sA-i"
      },
      "source": [
        "Create empty lists where the loop will put the values to"
      ]
    },
    {
      "cell_type": "code",
      "metadata": {
        "id": "af4ZlywBmijE"
      },
      "source": [
        "filename_list = []\n",
        "face_list = []\n",
        "race_list = []\n",
        "gender_list = []\n",
        "brightness_list = []\n",
        "angle_return = []\n",
        "shot_return = []\n",
        "shot_class = ['CU','MC','ML','Long']\n",
        "angle_class = ['High','Med','Low']"
      ],
      "execution_count": null,
      "outputs": []
    },
    {
      "cell_type": "code",
      "metadata": {
        "colab": {
          "base_uri": "https://localhost:8080/"
        },
        "id": "tSwjUuwRRJUY",
        "outputId": "6adba4f6-6f28-4795-fc58-f54489b65b84"
      },
      "source": [
        "%cd /content/output_dir/content/output_dir"
      ],
      "execution_count": null,
      "outputs": [
        {
          "output_type": "stream",
          "text": [
            "/content/output_dir/content/output_dir\n"
          ],
          "name": "stdout"
        }
      ]
    },
    {
      "cell_type": "code",
      "metadata": {
        "colab": {
          "base_uri": "https://localhost:8080/"
        },
        "id": "ltPdwvnsRMmV",
        "outputId": "2bf3d0e2-9017-4119-ed2b-a04be97f4f4d"
      },
      "source": [
        "!pwd"
      ],
      "execution_count": null,
      "outputs": [
        {
          "output_type": "stream",
          "text": [
            "/content/output_dir/content/output_dir\n"
          ],
          "name": "stdout"
        }
      ]
    },
    {
      "cell_type": "code",
      "metadata": {
        "id": "JqysoV_tcswX"
      },
      "source": [
        "models = {}\n",
        "models[\"gender\"]=loadgenderModel()\n",
        "models[\"race\"] = loadraceModel()"
      ],
      "execution_count": null,
      "outputs": []
    },
    {
      "cell_type": "markdown",
      "metadata": {
        "id": "ZSSzMxs9tCkJ"
      },
      "source": [
        "Run a loop on the files"
      ]
    },
    {
      "cell_type": "code",
      "metadata": {
        "colab": {
          "base_uri": "https://localhost:8080/"
        },
        "id": "uWjk9ykhmnTF",
        "outputId": "b779c17b-d994-4934-b9c0-437d73911967"
      },
      "source": [
        "#os.chdir('/content/output_dir')\n",
        "for file in files[1:30]:\n",
        "    print(file)\n",
        "    face,ROI,ROI2 = Predict.check_face(file)\n",
        "    face_list.append(face)\n",
        "\n",
        "    Side1 = brightness(ROI)\n",
        "    Side2 = brightness(ROI2)\n",
        "    brightness_list.append(f'{Side1[:4]} : {Side2[:4]}')\n",
        "    \n",
        "    race_class = analyze(file,actions=['race'],models=models, enforce_detection=False)\n",
        "    race_data = race_class.get(\"dominant_race\")\n",
        "    race_list.append(race_data)\n",
        "    \n",
        "    gender_class =  analyze(file,actions=['gender'],models=models, enforce_detection=False)\n",
        "    gender_data = gender_class.get(\"gender\")\n",
        "    gender_list.append(gender_data)\n",
        "    \n",
        "    filename_list.append(file)\n",
        "\n",
        "    img = cv2.imread(file,cv2.IMREAD_GRAYSCALE)\n",
        "    img = cv2.resize(img,(320,180))\n",
        "    new_img = img.reshape(-1,320,180,1)\n",
        "    pred1 = angle_model.predict_classes(new_img)\n",
        "    pred2 = shot_model.predict_classes(new_img)\n",
        "    class1 = angle_class[int(pred1)]\n",
        "    class2 = shot_class[int(pred2)]\n",
        "    shot_return.append(class2)\n",
        "    angle_return.append(class1)\n",
        "\n",
        "    #shot,angle = Predict.analyze(file,shot_class,angle_class,shot_model,angle_model)\n",
        "    #angle_return.append(angle)\n",
        "    #shot_return.append(shot)"
      ],
      "execution_count": null,
      "outputs": [
        {
          "output_type": "stream",
          "text": [
            "for_a_few_dollars_more-Scene-009-03.jpg\n"
          ],
          "name": "stdout"
        },
        {
          "output_type": "stream",
          "text": [
            "\n",
            "Finding actions:   0%|          | 0/2 [00:00<?, ?it/s]\u001b[A\n",
            "Action: race:   0%|          | 0/2 [00:00<?, ?it/s]   \u001b[A\n",
            "Action: race:  50%|█████     | 1/2 [00:02<00:02,  2.96s/it]\u001b[A\n",
            "Action: gender:  50%|█████     | 1/2 [00:02<00:02,  2.96s/it]\u001b[A\n",
            "Action: gender: 100%|██████████| 2/2 [00:03<00:00,  1.61s/it]\n",
            "\n",
            "Finding actions:   0%|          | 0/2 [00:00<?, ?it/s]\u001b[A\n",
            "Action: gender:   0%|          | 0/2 [00:00<?, ?it/s] \u001b[A\n",
            "Action: gender:  50%|█████     | 1/2 [00:01<00:01,  1.01s/it]\u001b[A\n",
            "Action: race:  50%|█████     | 1/2 [00:01<00:01,  1.01s/it]  \u001b[A\n",
            "Action: race: 100%|██████████| 2/2 [00:01<00:00,  1.76it/s]\n"
          ],
          "name": "stderr"
        },
        {
          "output_type": "stream",
          "text": [
            "for_a_few_dollars_more-Scene-069-02.jpg\n"
          ],
          "name": "stdout"
        },
        {
          "output_type": "stream",
          "text": [
            "\n",
            "Finding actions:   0%|          | 0/2 [00:00<?, ?it/s]\u001b[A\n",
            "Action: race:   0%|          | 0/2 [00:00<?, ?it/s]   \u001b[A\n",
            "Action: race:  50%|█████     | 1/2 [00:00<00:00,  1.04it/s]\u001b[A\n",
            "Action: gender:  50%|█████     | 1/2 [00:00<00:00,  1.04it/s]\u001b[A\n",
            "Action: gender: 100%|██████████| 2/2 [00:01<00:00,  1.84it/s]\n",
            "\n",
            "Finding actions:   0%|          | 0/2 [00:00<?, ?it/s]\u001b[A\n",
            "Action: gender:   0%|          | 0/2 [00:00<?, ?it/s] \u001b[A\n",
            "Action: gender:  50%|█████     | 1/2 [00:00<00:00,  1.13it/s]\u001b[A\n",
            "Action: race:  50%|█████     | 1/2 [00:00<00:00,  1.13it/s]  \u001b[A\n",
            "Action: race: 100%|██████████| 2/2 [00:01<00:00,  1.99it/s]\n"
          ],
          "name": "stderr"
        },
        {
          "output_type": "stream",
          "text": [
            "for_a_few_dollars_more-Scene-082-01.jpg\n"
          ],
          "name": "stdout"
        },
        {
          "output_type": "stream",
          "text": [
            "\n",
            "Finding actions:   0%|          | 0/2 [00:00<?, ?it/s]\u001b[A\n",
            "Action: race:   0%|          | 0/2 [00:00<?, ?it/s]   \u001b[A\n",
            "Action: race:  50%|█████     | 1/2 [00:01<00:01,  1.67s/it]\u001b[A\n",
            "Action: gender:  50%|█████     | 1/2 [00:01<00:01,  1.67s/it]\u001b[A\n",
            "Action: gender: 100%|██████████| 2/2 [00:01<00:00,  1.12it/s]\n",
            "\n",
            "Finding actions:   0%|          | 0/2 [00:00<?, ?it/s]\u001b[A\n",
            "Action: gender:   0%|          | 0/2 [00:00<?, ?it/s] \u001b[A\n",
            "Action: gender:  50%|█████     | 1/2 [00:01<00:01,  1.23s/it]\u001b[A\n",
            "Action: race:  50%|█████     | 1/2 [00:01<00:01,  1.23s/it]  \u001b[A\n",
            "Action: race: 100%|██████████| 2/2 [00:01<00:00,  1.49it/s]\n"
          ],
          "name": "stderr"
        },
        {
          "output_type": "stream",
          "text": [
            "for_a_few_dollars_more-Scene-088-01.jpg\n"
          ],
          "name": "stdout"
        },
        {
          "output_type": "stream",
          "text": [
            "\n",
            "Finding actions:   0%|          | 0/2 [00:00<?, ?it/s]\u001b[A\n",
            "Action: race:   0%|          | 0/2 [00:00<?, ?it/s]   \u001b[A\n",
            "Action: race:  50%|█████     | 1/2 [00:01<00:01,  1.67s/it]\u001b[A\n",
            "Action: gender:  50%|█████     | 1/2 [00:01<00:01,  1.67s/it]\u001b[A\n",
            "Action: gender: 100%|██████████| 2/2 [00:01<00:00,  1.12it/s]\n",
            "\n",
            "Finding actions:   0%|          | 0/2 [00:00<?, ?it/s]\u001b[A\n",
            "Action: gender:   0%|          | 0/2 [00:00<?, ?it/s] \u001b[A\n",
            "Action: gender:  50%|█████     | 1/2 [00:01<00:01,  1.32s/it]\u001b[A\n",
            "Action: race:  50%|█████     | 1/2 [00:01<00:01,  1.32s/it]  \u001b[A\n",
            "Action: race: 100%|██████████| 2/2 [00:01<00:00,  1.37it/s]\n"
          ],
          "name": "stderr"
        },
        {
          "output_type": "stream",
          "text": [
            "for_a_few_dollars_more-Scene-072-01.jpg\n"
          ],
          "name": "stdout"
        },
        {
          "output_type": "stream",
          "text": [
            "\n",
            "Finding actions:   0%|          | 0/2 [00:00<?, ?it/s]\u001b[A\n",
            "Action: race:   0%|          | 0/2 [00:00<?, ?it/s]   \u001b[A\n",
            "Action: race:  50%|█████     | 1/2 [00:01<00:01,  1.66s/it]\u001b[A\n",
            "Action: gender:  50%|█████     | 1/2 [00:01<00:01,  1.66s/it]\u001b[A\n",
            "Action: gender: 100%|██████████| 2/2 [00:01<00:00,  1.12it/s]\n",
            "\n",
            "Finding actions:   0%|          | 0/2 [00:00<?, ?it/s]\u001b[A\n",
            "Action: gender:   0%|          | 0/2 [00:00<?, ?it/s] \u001b[A\n",
            "Action: gender:  50%|█████     | 1/2 [00:01<00:01,  1.21s/it]\u001b[A\n",
            "Action: race:  50%|█████     | 1/2 [00:01<00:01,  1.21s/it]  \u001b[A\n",
            "Action: race: 100%|██████████| 2/2 [00:01<00:00,  1.52it/s]\n"
          ],
          "name": "stderr"
        },
        {
          "output_type": "stream",
          "text": [
            "for_a_few_dollars_more-Scene-032-01.jpg\n"
          ],
          "name": "stdout"
        },
        {
          "output_type": "stream",
          "text": [
            "\n",
            "Finding actions:   0%|          | 0/2 [00:00<?, ?it/s]\u001b[A\n",
            "Action: race:   0%|          | 0/2 [00:00<?, ?it/s]   \u001b[A\n",
            "Action: race:  50%|█████     | 1/2 [00:01<00:01,  1.72s/it]\u001b[A\n",
            "Action: gender:  50%|█████     | 1/2 [00:01<00:01,  1.72s/it]\u001b[A\n",
            "Action: gender: 100%|██████████| 2/2 [00:01<00:00,  1.08it/s]\n",
            "\n",
            "Finding actions:   0%|          | 0/2 [00:00<?, ?it/s]\u001b[A\n",
            "Action: gender:   0%|          | 0/2 [00:00<?, ?it/s] \u001b[A\n",
            "Action: gender:  50%|█████     | 1/2 [00:01<00:01,  1.27s/it]\u001b[A\n",
            "Action: race:  50%|█████     | 1/2 [00:01<00:01,  1.27s/it]  \u001b[A\n",
            "Action: race: 100%|██████████| 2/2 [00:01<00:00,  1.44it/s]\n"
          ],
          "name": "stderr"
        },
        {
          "output_type": "stream",
          "text": [
            "for_a_few_dollars_more-Scene-019-01.jpg\n"
          ],
          "name": "stdout"
        },
        {
          "output_type": "stream",
          "text": [
            "\n",
            "Finding actions:   0%|          | 0/2 [00:00<?, ?it/s]\u001b[A\n",
            "Action: race:   0%|          | 0/2 [00:00<?, ?it/s]   \u001b[A\n",
            "Action: race:  50%|█████     | 1/2 [00:01<00:01,  1.31s/it]\u001b[A\n",
            "Action: gender:  50%|█████     | 1/2 [00:01<00:01,  1.31s/it]\u001b[A\n",
            "Action: gender: 100%|██████████| 2/2 [00:01<00:00,  1.40it/s]\n",
            "\n",
            "Finding actions:   0%|          | 0/2 [00:00<?, ?it/s]\u001b[A\n",
            "Action: gender:   0%|          | 0/2 [00:00<?, ?it/s] \u001b[A\n",
            "Action: gender:  50%|█████     | 1/2 [00:01<00:01,  1.31s/it]\u001b[A\n",
            "Action: race:  50%|█████     | 1/2 [00:01<00:01,  1.31s/it]  \u001b[A\n",
            "Action: race: 100%|██████████| 2/2 [00:01<00:00,  1.40it/s]\n"
          ],
          "name": "stderr"
        },
        {
          "output_type": "stream",
          "text": [
            "for_a_few_dollars_more-Scene-008-01.jpg\n"
          ],
          "name": "stdout"
        },
        {
          "output_type": "stream",
          "text": [
            "\n",
            "Finding actions:   0%|          | 0/2 [00:00<?, ?it/s]\u001b[A\n",
            "Action: race:   0%|          | 0/2 [00:00<?, ?it/s]   \u001b[A\n",
            "Action: race:  50%|█████     | 1/2 [00:01<00:01,  1.57s/it]\u001b[A\n",
            "Action: gender:  50%|█████     | 1/2 [00:01<00:01,  1.57s/it]\u001b[A\n",
            "Action: gender: 100%|██████████| 2/2 [00:01<00:00,  1.19it/s]\n",
            "\n",
            "Finding actions:   0%|          | 0/2 [00:00<?, ?it/s]\u001b[A\n",
            "Action: gender:   0%|          | 0/2 [00:00<?, ?it/s] \u001b[A\n",
            "Action: gender:  50%|█████     | 1/2 [00:01<00:01,  1.20s/it]\u001b[A\n",
            "Action: race:  50%|█████     | 1/2 [00:01<00:01,  1.20s/it]  \u001b[A\n",
            "Action: race: 100%|██████████| 2/2 [00:01<00:00,  1.51it/s]\n"
          ],
          "name": "stderr"
        },
        {
          "output_type": "stream",
          "text": [
            "for_a_few_dollars_more-Scene-057-01.jpg\n"
          ],
          "name": "stdout"
        },
        {
          "output_type": "stream",
          "text": [
            "\n",
            "Finding actions:   0%|          | 0/2 [00:00<?, ?it/s]\u001b[A\n",
            "Action: race:   0%|          | 0/2 [00:00<?, ?it/s]   \u001b[A\n",
            "Action: race:  50%|█████     | 1/2 [00:01<00:01,  1.05s/it]\u001b[A\n",
            "Action: gender:  50%|█████     | 1/2 [00:01<00:01,  1.05s/it]\u001b[A\n",
            "Action: gender: 100%|██████████| 2/2 [00:01<00:00,  1.72it/s]\n",
            "\n",
            "Finding actions:   0%|          | 0/2 [00:00<?, ?it/s]\u001b[A\n",
            "Action: gender:   0%|          | 0/2 [00:00<?, ?it/s] \u001b[A\n",
            "Action: gender:  50%|█████     | 1/2 [00:00<00:00,  1.06it/s]\u001b[A\n",
            "Action: race:  50%|█████     | 1/2 [00:00<00:00,  1.06it/s]  \u001b[A\n",
            "Action: race: 100%|██████████| 2/2 [00:01<00:00,  1.89it/s]\n"
          ],
          "name": "stderr"
        },
        {
          "output_type": "stream",
          "text": [
            "for_a_few_dollars_more-Scene-093-02.jpg\n"
          ],
          "name": "stdout"
        },
        {
          "output_type": "stream",
          "text": [
            "\n",
            "Finding actions:   0%|          | 0/2 [00:00<?, ?it/s]\u001b[A\n",
            "Action: race:   0%|          | 0/2 [00:00<?, ?it/s]   \u001b[A\n",
            "Action: race:  50%|█████     | 1/2 [00:01<00:01,  1.35s/it]\u001b[A\n",
            "Action: gender:  50%|█████     | 1/2 [00:01<00:01,  1.35s/it]\u001b[A\n",
            "Action: gender: 100%|██████████| 2/2 [00:01<00:00,  1.37it/s]\n",
            "\n",
            "Finding actions:   0%|          | 0/2 [00:00<?, ?it/s]\u001b[A\n",
            "Action: gender:   0%|          | 0/2 [00:00<?, ?it/s] \u001b[A\n",
            "Action: gender:  50%|█████     | 1/2 [00:01<00:01,  1.17s/it]\u001b[A\n",
            "Action: race:  50%|█████     | 1/2 [00:01<00:01,  1.17s/it]  \u001b[A\n",
            "Action: race: 100%|██████████| 2/2 [00:01<00:00,  1.55it/s]\n"
          ],
          "name": "stderr"
        },
        {
          "output_type": "stream",
          "text": [
            "for_a_few_dollars_more-Scene-010-01.jpg\n"
          ],
          "name": "stdout"
        },
        {
          "output_type": "stream",
          "text": [
            "\n",
            "Finding actions:   0%|          | 0/2 [00:00<?, ?it/s]\u001b[A\n",
            "Action: race:   0%|          | 0/2 [00:00<?, ?it/s]   \u001b[A\n",
            "Action: race:  50%|█████     | 1/2 [00:01<00:01,  1.06s/it]\u001b[A\n",
            "Action: gender:  50%|█████     | 1/2 [00:01<00:01,  1.06s/it]\u001b[A\n",
            "Action: gender: 100%|██████████| 2/2 [00:01<00:00,  1.69it/s]\n",
            "\n",
            "Finding actions:   0%|          | 0/2 [00:00<?, ?it/s]\u001b[A\n",
            "Action: gender:   0%|          | 0/2 [00:00<?, ?it/s] \u001b[A\n",
            "Action: gender:  50%|█████     | 1/2 [00:00<00:00,  1.05it/s]\u001b[A\n",
            "Action: race:  50%|█████     | 1/2 [00:00<00:00,  1.05it/s]  \u001b[A\n",
            "Action: race: 100%|██████████| 2/2 [00:01<00:00,  1.88it/s]\n"
          ],
          "name": "stderr"
        },
        {
          "output_type": "stream",
          "text": [
            "for_a_few_dollars_more-Scene-088-03.jpg\n"
          ],
          "name": "stdout"
        },
        {
          "output_type": "stream",
          "text": [
            "\n",
            "Finding actions:   0%|          | 0/2 [00:00<?, ?it/s]\u001b[A\n",
            "Action: race:   0%|          | 0/2 [00:00<?, ?it/s]   \u001b[A\n",
            "Action: race:  50%|█████     | 1/2 [00:01<00:01,  1.39s/it]\u001b[A\n",
            "Action: gender:  50%|█████     | 1/2 [00:01<00:01,  1.39s/it]\u001b[A\n",
            "Action: gender: 100%|██████████| 2/2 [00:01<00:00,  1.32it/s]\n",
            "\n",
            "Finding actions:   0%|          | 0/2 [00:00<?, ?it/s]\u001b[A\n",
            "Action: gender:   0%|          | 0/2 [00:00<?, ?it/s] \u001b[A\n",
            "Action: gender:  50%|█████     | 1/2 [00:01<00:01,  1.09s/it]\u001b[A\n",
            "Action: race:  50%|█████     | 1/2 [00:01<00:01,  1.09s/it]  \u001b[A\n",
            "Action: race: 100%|██████████| 2/2 [00:01<00:00,  1.66it/s]\n"
          ],
          "name": "stderr"
        },
        {
          "output_type": "stream",
          "text": [
            "for_a_few_dollars_more-Scene-036-02.jpg\n"
          ],
          "name": "stdout"
        },
        {
          "output_type": "stream",
          "text": [
            "\n",
            "Finding actions:   0%|          | 0/2 [00:00<?, ?it/s]\u001b[A\n",
            "Action: race:   0%|          | 0/2 [00:00<?, ?it/s]   \u001b[A\n",
            "Action: race:  50%|█████     | 1/2 [00:01<00:01,  1.27s/it]\u001b[A\n",
            "Action: gender:  50%|█████     | 1/2 [00:01<00:01,  1.27s/it]\u001b[A\n",
            "Action: gender: 100%|██████████| 2/2 [00:01<00:00,  1.43it/s]\n",
            "\n",
            "Finding actions:   0%|          | 0/2 [00:00<?, ?it/s]\u001b[A\n",
            "Action: gender:   0%|          | 0/2 [00:00<?, ?it/s] \u001b[A\n",
            "Action: gender:  50%|█████     | 1/2 [00:01<00:01,  1.29s/it]\u001b[A\n",
            "Action: race:  50%|█████     | 1/2 [00:01<00:01,  1.29s/it]  \u001b[A\n",
            "Action: race: 100%|██████████| 2/2 [00:01<00:00,  1.41it/s]\n"
          ],
          "name": "stderr"
        },
        {
          "output_type": "stream",
          "text": [
            "for_a_few_dollars_more-Scene-073-01.jpg\n"
          ],
          "name": "stdout"
        },
        {
          "output_type": "stream",
          "text": [
            "\n",
            "Finding actions:   0%|          | 0/2 [00:00<?, ?it/s]\u001b[A\n",
            "Action: race:   0%|          | 0/2 [00:00<?, ?it/s]   \u001b[A\n",
            "Action: race:  50%|█████     | 1/2 [00:01<00:01,  1.58s/it]\u001b[A\n",
            "Action: gender:  50%|█████     | 1/2 [00:01<00:01,  1.58s/it]\u001b[A\n",
            "Action: gender: 100%|██████████| 2/2 [00:01<00:00,  1.17it/s]\n",
            "\n",
            "Finding actions:   0%|          | 0/2 [00:00<?, ?it/s]\u001b[A\n",
            "Action: gender:   0%|          | 0/2 [00:00<?, ?it/s] \u001b[A\n",
            "Action: gender:  50%|█████     | 1/2 [00:01<00:01,  1.08s/it]\u001b[A\n",
            "Action: race:  50%|█████     | 1/2 [00:01<00:01,  1.08s/it]  \u001b[A\n",
            "Action: race: 100%|██████████| 2/2 [00:01<00:00,  1.65it/s]\n"
          ],
          "name": "stderr"
        },
        {
          "output_type": "stream",
          "text": [
            "for_a_few_dollars_more-Scene-058-03.jpg\n"
          ],
          "name": "stdout"
        },
        {
          "output_type": "stream",
          "text": [
            "\n",
            "Finding actions:   0%|          | 0/2 [00:00<?, ?it/s]\u001b[A\n",
            "Action: race:   0%|          | 0/2 [00:00<?, ?it/s]   \u001b[A\n",
            "Action: race:  50%|█████     | 1/2 [00:01<00:01,  1.58s/it]\u001b[A\n",
            "Action: gender:  50%|█████     | 1/2 [00:01<00:01,  1.58s/it]\u001b[A\n",
            "Action: gender: 100%|██████████| 2/2 [00:01<00:00,  1.17it/s]\n",
            "\n",
            "Finding actions:   0%|          | 0/2 [00:00<?, ?it/s]\u001b[A\n",
            "Action: gender:   0%|          | 0/2 [00:00<?, ?it/s] \u001b[A\n",
            "Action: gender:  50%|█████     | 1/2 [00:01<00:01,  1.23s/it]\u001b[A\n",
            "Action: race:  50%|█████     | 1/2 [00:01<00:01,  1.23s/it]  \u001b[A\n",
            "Action: race: 100%|██████████| 2/2 [00:01<00:00,  1.46it/s]\n"
          ],
          "name": "stderr"
        },
        {
          "output_type": "stream",
          "text": [
            "for_a_few_dollars_more-Scene-079-01.jpg\n"
          ],
          "name": "stdout"
        },
        {
          "output_type": "stream",
          "text": [
            "\n",
            "Finding actions:   0%|          | 0/2 [00:00<?, ?it/s]\u001b[A\n",
            "Action: race:   0%|          | 0/2 [00:00<?, ?it/s]   \u001b[A\n",
            "Action: race:  50%|█████     | 1/2 [00:01<00:01,  1.26s/it]\u001b[A\n",
            "Action: gender:  50%|█████     | 1/2 [00:01<00:01,  1.26s/it]\u001b[A\n",
            "Action: gender: 100%|██████████| 2/2 [00:01<00:00,  1.44it/s]\n",
            "\n",
            "Finding actions:   0%|          | 0/2 [00:00<?, ?it/s]\u001b[A\n",
            "Action: gender:   0%|          | 0/2 [00:00<?, ?it/s] \u001b[A\n",
            "Action: gender:  50%|█████     | 1/2 [00:01<00:01,  1.05s/it]\u001b[A\n",
            "Action: race:  50%|█████     | 1/2 [00:01<00:01,  1.05s/it]  \u001b[A\n",
            "Action: race: 100%|██████████| 2/2 [00:01<00:00,  1.71it/s]\n"
          ],
          "name": "stderr"
        },
        {
          "output_type": "stream",
          "text": [
            "for_a_few_dollars_more-Scene-075-03.jpg\n"
          ],
          "name": "stdout"
        },
        {
          "output_type": "stream",
          "text": [
            "\n",
            "Finding actions:   0%|          | 0/2 [00:00<?, ?it/s]\u001b[A\n",
            "Action: race:   0%|          | 0/2 [00:00<?, ?it/s]   \u001b[A\n",
            "Action: race:  50%|█████     | 1/2 [00:01<00:01,  1.37s/it]\u001b[A\n",
            "Action: gender:  50%|█████     | 1/2 [00:01<00:01,  1.37s/it]\u001b[A\n",
            "Action: gender: 100%|██████████| 2/2 [00:01<00:00,  1.34it/s]\n",
            "\n",
            "Finding actions:   0%|          | 0/2 [00:00<?, ?it/s]\u001b[A\n",
            "Action: gender:   0%|          | 0/2 [00:00<?, ?it/s] \u001b[A\n",
            "Action: gender:  50%|█████     | 1/2 [00:01<00:01,  1.58s/it]\u001b[A\n",
            "Action: race:  50%|█████     | 1/2 [00:01<00:01,  1.58s/it]  \u001b[A\n",
            "Action: race: 100%|██████████| 2/2 [00:01<00:00,  1.17it/s]\n"
          ],
          "name": "stderr"
        },
        {
          "output_type": "stream",
          "text": [
            "for_a_few_dollars_more-Scene-028-03.jpg\n"
          ],
          "name": "stdout"
        },
        {
          "output_type": "stream",
          "text": [
            "\n",
            "Finding actions:   0%|          | 0/2 [00:00<?, ?it/s]\u001b[A\n",
            "Action: race:   0%|          | 0/2 [00:00<?, ?it/s]   \u001b[A\n",
            "Action: race:  50%|█████     | 1/2 [00:00<00:00,  1.13it/s]\u001b[A\n",
            "Action: gender:  50%|█████     | 1/2 [00:00<00:00,  1.13it/s]\u001b[A\n",
            "Action: gender: 100%|██████████| 2/2 [00:00<00:00,  2.00it/s]\n",
            "\n",
            "Finding actions:   0%|          | 0/2 [00:00<?, ?it/s]\u001b[A\n",
            "Action: gender:   0%|          | 0/2 [00:00<?, ?it/s] \u001b[A\n",
            "Action: gender:  50%|█████     | 1/2 [00:00<00:00,  1.18it/s]\u001b[A\n",
            "Action: race:  50%|█████     | 1/2 [00:00<00:00,  1.18it/s]  \u001b[A\n",
            "Action: race: 100%|██████████| 2/2 [00:00<00:00,  2.07it/s]\n"
          ],
          "name": "stderr"
        },
        {
          "output_type": "stream",
          "text": [
            "for_a_few_dollars_more-Scene-019-02.jpg\n"
          ],
          "name": "stdout"
        },
        {
          "output_type": "stream",
          "text": [
            "\n",
            "Finding actions:   0%|          | 0/2 [00:00<?, ?it/s]\u001b[A\n",
            "Action: race:   0%|          | 0/2 [00:00<?, ?it/s]   \u001b[A\n",
            "Action: race:  50%|█████     | 1/2 [00:01<00:01,  1.49s/it]\u001b[A\n",
            "Action: gender:  50%|█████     | 1/2 [00:01<00:01,  1.49s/it]\u001b[A\n",
            "Action: gender: 100%|██████████| 2/2 [00:01<00:00,  1.25it/s]\n",
            "\n",
            "Finding actions:   0%|          | 0/2 [00:00<?, ?it/s]\u001b[A\n",
            "Action: gender:   0%|          | 0/2 [00:00<?, ?it/s] \u001b[A\n",
            "Action: gender:  50%|█████     | 1/2 [00:01<00:01,  1.21s/it]\u001b[A\n",
            "Action: race:  50%|█████     | 1/2 [00:01<00:01,  1.21s/it]  \u001b[A\n",
            "Action: race: 100%|██████████| 2/2 [00:01<00:00,  1.51it/s]\n"
          ],
          "name": "stderr"
        },
        {
          "output_type": "stream",
          "text": [
            "for_a_few_dollars_more-Scene-060-01.jpg\n"
          ],
          "name": "stdout"
        },
        {
          "output_type": "stream",
          "text": [
            "\n",
            "Finding actions:   0%|          | 0/2 [00:00<?, ?it/s]\u001b[A\n",
            "Action: race:   0%|          | 0/2 [00:00<?, ?it/s]   \u001b[A\n",
            "Action: race:  50%|█████     | 1/2 [00:01<00:01,  1.45s/it]\u001b[A\n",
            "Action: gender:  50%|█████     | 1/2 [00:01<00:01,  1.45s/it]\u001b[A\n",
            "Action: gender: 100%|██████████| 2/2 [00:01<00:00,  1.27it/s]\n",
            "\n",
            "Finding actions:   0%|          | 0/2 [00:00<?, ?it/s]\u001b[A\n",
            "Action: gender:   0%|          | 0/2 [00:00<?, ?it/s] \u001b[A\n",
            "Action: gender:  50%|█████     | 1/2 [00:01<00:01,  1.23s/it]\u001b[A\n",
            "Action: race:  50%|█████     | 1/2 [00:01<00:01,  1.23s/it]  \u001b[A\n",
            "Action: race: 100%|██████████| 2/2 [00:01<00:00,  1.48it/s]\n"
          ],
          "name": "stderr"
        },
        {
          "output_type": "stream",
          "text": [
            "for_a_few_dollars_more-Scene-057-02.jpg\n"
          ],
          "name": "stdout"
        },
        {
          "output_type": "stream",
          "text": [
            "\n",
            "Finding actions:   0%|          | 0/2 [00:00<?, ?it/s]\u001b[A\n",
            "Action: race:   0%|          | 0/2 [00:00<?, ?it/s]   \u001b[A\n",
            "Action: race:  50%|█████     | 1/2 [00:00<00:00,  1.03it/s]\u001b[A\n",
            "Action: gender:  50%|█████     | 1/2 [00:00<00:00,  1.03it/s]\u001b[A\n",
            "Action: gender: 100%|██████████| 2/2 [00:01<00:00,  1.82it/s]\n",
            "\n",
            "Finding actions:   0%|          | 0/2 [00:00<?, ?it/s]\u001b[A\n",
            "Action: gender:   0%|          | 0/2 [00:00<?, ?it/s] \u001b[A\n",
            "Action: gender:  50%|█████     | 1/2 [00:00<00:00,  1.08it/s]\u001b[A\n",
            "Action: race:  50%|█████     | 1/2 [00:00<00:00,  1.08it/s]  \u001b[A\n",
            "Action: race: 100%|██████████| 2/2 [00:01<00:00,  1.91it/s]\n"
          ],
          "name": "stderr"
        },
        {
          "output_type": "stream",
          "text": [
            "for_a_few_dollars_more-Scene-019-03.jpg\n"
          ],
          "name": "stdout"
        },
        {
          "output_type": "stream",
          "text": [
            "\n",
            "Finding actions:   0%|          | 0/2 [00:00<?, ?it/s]\u001b[A\n",
            "Action: race:   0%|          | 0/2 [00:00<?, ?it/s]   \u001b[A\n",
            "Action: race:  50%|█████     | 1/2 [00:01<00:01,  1.54s/it]\u001b[A\n",
            "Action: gender:  50%|█████     | 1/2 [00:01<00:01,  1.54s/it]\u001b[A\n",
            "Action: gender: 100%|██████████| 2/2 [00:01<00:00,  1.21it/s]\n",
            "\n",
            "Finding actions:   0%|          | 0/2 [00:00<?, ?it/s]\u001b[A\n",
            "Action: gender:   0%|          | 0/2 [00:00<?, ?it/s] \u001b[A\n",
            "Action: gender:  50%|█████     | 1/2 [00:01<00:01,  1.19s/it]\u001b[A\n",
            "Action: race:  50%|█████     | 1/2 [00:01<00:01,  1.19s/it]  \u001b[A\n",
            "Action: race: 100%|██████████| 2/2 [00:01<00:00,  1.51it/s]\n"
          ],
          "name": "stderr"
        },
        {
          "output_type": "stream",
          "text": [
            "for_a_few_dollars_more-Scene-018-01.jpg\n"
          ],
          "name": "stdout"
        },
        {
          "output_type": "stream",
          "text": [
            "\n",
            "Finding actions:   0%|          | 0/2 [00:00<?, ?it/s]\u001b[A\n",
            "Action: race:   0%|          | 0/2 [00:00<?, ?it/s]   \u001b[A\n",
            "Action: race:  50%|█████     | 1/2 [00:01<00:01,  1.36s/it]\u001b[A\n",
            "Action: gender:  50%|█████     | 1/2 [00:01<00:01,  1.36s/it]\u001b[A\n",
            "Action: gender: 100%|██████████| 2/2 [00:01<00:00,  1.35it/s]\n",
            "\n",
            "Finding actions:   0%|          | 0/2 [00:00<?, ?it/s]\u001b[A\n",
            "Action: gender:   0%|          | 0/2 [00:00<?, ?it/s] \u001b[A\n",
            "Action: gender:  50%|█████     | 1/2 [00:01<00:01,  1.07s/it]\u001b[A\n",
            "Action: race:  50%|█████     | 1/2 [00:01<00:01,  1.07s/it]  \u001b[A\n",
            "Action: race: 100%|██████████| 2/2 [00:01<00:00,  1.67it/s]\n"
          ],
          "name": "stderr"
        },
        {
          "output_type": "stream",
          "text": [
            "for_a_few_dollars_more-Scene-055-02.jpg\n"
          ],
          "name": "stdout"
        },
        {
          "output_type": "stream",
          "text": [
            "\n",
            "Finding actions:   0%|          | 0/2 [00:00<?, ?it/s]\u001b[A\n",
            "Action: race:   0%|          | 0/2 [00:00<?, ?it/s]   \u001b[A\n",
            "Action: race:  50%|█████     | 1/2 [00:01<00:01,  1.48s/it]\u001b[A\n",
            "Action: gender:  50%|█████     | 1/2 [00:01<00:01,  1.48s/it]\u001b[A\n",
            "Action: gender: 100%|██████████| 2/2 [00:01<00:00,  1.25it/s]\n",
            "\n",
            "Finding actions:   0%|          | 0/2 [00:00<?, ?it/s]\u001b[A\n",
            "Action: gender:   0%|          | 0/2 [00:00<?, ?it/s] \u001b[A\n",
            "Action: gender:  50%|█████     | 1/2 [00:01<00:01,  1.16s/it]\u001b[A\n",
            "Action: race:  50%|█████     | 1/2 [00:01<00:01,  1.16s/it]  \u001b[A\n",
            "Action: race: 100%|██████████| 2/2 [00:01<00:00,  1.57it/s]\n"
          ],
          "name": "stderr"
        },
        {
          "output_type": "stream",
          "text": [
            "for_a_few_dollars_more-Scene-021-01.jpg\n"
          ],
          "name": "stdout"
        },
        {
          "output_type": "stream",
          "text": [
            "\n",
            "Finding actions:   0%|          | 0/2 [00:00<?, ?it/s]\u001b[A\n",
            "Action: race:   0%|          | 0/2 [00:00<?, ?it/s]   \u001b[A\n",
            "Action: race:  50%|█████     | 1/2 [00:01<00:01,  1.32s/it]\u001b[A\n",
            "Action: gender:  50%|█████     | 1/2 [00:01<00:01,  1.32s/it]\u001b[A\n",
            "Action: gender: 100%|██████████| 2/2 [00:01<00:00,  1.38it/s]\n",
            "\n",
            "Finding actions:   0%|          | 0/2 [00:00<?, ?it/s]\u001b[A\n",
            "Action: gender:   0%|          | 0/2 [00:00<?, ?it/s] \u001b[A\n",
            "Action: gender:  50%|█████     | 1/2 [00:01<00:01,  1.34s/it]\u001b[A\n",
            "Action: race:  50%|█████     | 1/2 [00:01<00:01,  1.34s/it]  \u001b[A\n",
            "Action: race: 100%|██████████| 2/2 [00:01<00:00,  1.36it/s]\n"
          ],
          "name": "stderr"
        },
        {
          "output_type": "stream",
          "text": [
            "for_a_few_dollars_more-Scene-035-02.jpg\n"
          ],
          "name": "stdout"
        },
        {
          "output_type": "stream",
          "text": [
            "\n",
            "Finding actions:   0%|          | 0/2 [00:00<?, ?it/s]\u001b[A\n",
            "Action: race:   0%|          | 0/2 [00:00<?, ?it/s]   \u001b[A\n",
            "Action: race:  50%|█████     | 1/2 [00:01<00:01,  1.03s/it]\u001b[A\n",
            "Action: gender:  50%|█████     | 1/2 [00:01<00:01,  1.03s/it]\u001b[A\n",
            "Action: gender: 100%|██████████| 2/2 [00:01<00:00,  1.71it/s]\n",
            "\n",
            "Finding actions:   0%|          | 0/2 [00:00<?, ?it/s]\u001b[A\n",
            "Action: gender:   0%|          | 0/2 [00:00<?, ?it/s] \u001b[A\n",
            "Action: gender:  50%|█████     | 1/2 [00:01<00:01,  1.02s/it]\u001b[A\n",
            "Action: race:  50%|█████     | 1/2 [00:01<00:01,  1.02s/it]  \u001b[A\n",
            "Action: race: 100%|██████████| 2/2 [00:01<00:00,  1.74it/s]\n"
          ],
          "name": "stderr"
        },
        {
          "output_type": "stream",
          "text": [
            "for_a_few_dollars_more-Scene-083-02.jpg\n"
          ],
          "name": "stdout"
        },
        {
          "output_type": "stream",
          "text": [
            "\n",
            "Finding actions:   0%|          | 0/2 [00:00<?, ?it/s]\u001b[A\n",
            "Action: race:   0%|          | 0/2 [00:00<?, ?it/s]   \u001b[A\n",
            "Action: race:  50%|█████     | 1/2 [00:01<00:01,  1.64s/it]\u001b[A\n",
            "Action: gender:  50%|█████     | 1/2 [00:01<00:01,  1.64s/it]\u001b[A\n",
            "Action: gender: 100%|██████████| 2/2 [00:01<00:00,  1.14it/s]\n",
            "\n",
            "Finding actions:   0%|          | 0/2 [00:00<?, ?it/s]\u001b[A\n",
            "Action: gender:   0%|          | 0/2 [00:00<?, ?it/s] \u001b[A\n",
            "Action: gender:  50%|█████     | 1/2 [00:01<00:01,  1.49s/it]\u001b[A\n",
            "Action: race:  50%|█████     | 1/2 [00:01<00:01,  1.49s/it]  \u001b[A\n",
            "Action: race: 100%|██████████| 2/2 [00:01<00:00,  1.24it/s]\n"
          ],
          "name": "stderr"
        },
        {
          "output_type": "stream",
          "text": [
            "for_a_few_dollars_more-Scene-026-02.jpg\n"
          ],
          "name": "stdout"
        },
        {
          "output_type": "stream",
          "text": [
            "\n",
            "Finding actions:   0%|          | 0/2 [00:00<?, ?it/s]\u001b[A\n",
            "Action: race:   0%|          | 0/2 [00:00<?, ?it/s]   \u001b[A\n",
            "Action: race:  50%|█████     | 1/2 [00:01<00:01,  1.79s/it]\u001b[A\n",
            "Action: gender:  50%|█████     | 1/2 [00:01<00:01,  1.79s/it]\u001b[A\n",
            "Action: gender: 100%|██████████| 2/2 [00:01<00:00,  1.05it/s]\n",
            "\n",
            "Finding actions:   0%|          | 0/2 [00:00<?, ?it/s]\u001b[A\n",
            "Action: gender:   0%|          | 0/2 [00:00<?, ?it/s] \u001b[A\n",
            "Action: gender:  50%|█████     | 1/2 [00:01<00:01,  1.23s/it]\u001b[A\n",
            "Action: race:  50%|█████     | 1/2 [00:01<00:01,  1.23s/it]  \u001b[A\n",
            "Action: race: 100%|██████████| 2/2 [00:01<00:00,  1.48it/s]\n"
          ],
          "name": "stderr"
        },
        {
          "output_type": "stream",
          "text": [
            "for_a_few_dollars_more-Scene-060-03.jpg\n"
          ],
          "name": "stdout"
        },
        {
          "output_type": "stream",
          "text": [
            "\n",
            "Finding actions:   0%|          | 0/2 [00:00<?, ?it/s]\u001b[A\n",
            "Action: race:   0%|          | 0/2 [00:00<?, ?it/s]   \u001b[A\n",
            "Action: race:  50%|█████     | 1/2 [00:01<00:01,  1.59s/it]\u001b[A\n",
            "Action: gender:  50%|█████     | 1/2 [00:01<00:01,  1.59s/it]\u001b[A\n",
            "Action: gender: 100%|██████████| 2/2 [00:01<00:00,  1.16it/s]\n",
            "\n",
            "Finding actions:   0%|          | 0/2 [00:00<?, ?it/s]\u001b[A\n",
            "Action: gender:   0%|          | 0/2 [00:00<?, ?it/s] \u001b[A\n",
            "Action: gender:  50%|█████     | 1/2 [00:01<00:01,  1.23s/it]\u001b[A\n",
            "Action: race:  50%|█████     | 1/2 [00:01<00:01,  1.23s/it]  \u001b[A\n",
            "Action: race: 100%|██████████| 2/2 [00:01<00:00,  1.48it/s]\n"
          ],
          "name": "stderr"
        }
      ]
    },
    {
      "cell_type": "markdown",
      "metadata": {
        "id": "Sa43F3mOtJIY"
      },
      "source": [
        "Create a dataframe based on the received values"
      ]
    },
    {
      "cell_type": "code",
      "metadata": {
        "colab": {
          "base_uri": "https://localhost:8080/",
          "height": 959
        },
        "id": "J9kd1aaYrv-_",
        "outputId": "f9eb407b-8a12-48e2-f5cf-cbf330300b24"
      },
      "source": [
        "df = pd.DataFrame(list(zip(filename_list,race_list,gender_list,face_list,brightness_list,angle_return,shot_return)), columns = ['Filename','Race','Gender','Face','Brightness','Camera Angle','Shot Type'])\n",
        "df"
      ],
      "execution_count": null,
      "outputs": [
        {
          "output_type": "execute_result",
          "data": {
            "text/html": [
              "<div>\n",
              "<style scoped>\n",
              "    .dataframe tbody tr th:only-of-type {\n",
              "        vertical-align: middle;\n",
              "    }\n",
              "\n",
              "    .dataframe tbody tr th {\n",
              "        vertical-align: top;\n",
              "    }\n",
              "\n",
              "    .dataframe thead th {\n",
              "        text-align: right;\n",
              "    }\n",
              "</style>\n",
              "<table border=\"1\" class=\"dataframe\">\n",
              "  <thead>\n",
              "    <tr style=\"text-align: right;\">\n",
              "      <th></th>\n",
              "      <th>Filename</th>\n",
              "      <th>Race</th>\n",
              "      <th>Gender</th>\n",
              "      <th>Face</th>\n",
              "      <th>Brightness</th>\n",
              "      <th>Camera Angle</th>\n",
              "      <th>Shot Type</th>\n",
              "    </tr>\n",
              "  </thead>\n",
              "  <tbody>\n",
              "    <tr>\n",
              "      <th>0</th>\n",
              "      <td>for_a_few_dollars_more-Scene-009-03.jpg</td>\n",
              "      <td>latino hispanic</td>\n",
              "      <td>Man</td>\n",
              "      <td>1</td>\n",
              "      <td>77.0 : 73.3</td>\n",
              "      <td>Med</td>\n",
              "      <td>MC</td>\n",
              "    </tr>\n",
              "    <tr>\n",
              "      <th>1</th>\n",
              "      <td>for_a_few_dollars_more-Scene-069-02.jpg</td>\n",
              "      <td>white</td>\n",
              "      <td>Man</td>\n",
              "      <td>0</td>\n",
              "      <td>0 : 0</td>\n",
              "      <td>Med</td>\n",
              "      <td>CU</td>\n",
              "    </tr>\n",
              "    <tr>\n",
              "      <th>2</th>\n",
              "      <td>for_a_few_dollars_more-Scene-082-01.jpg</td>\n",
              "      <td>white</td>\n",
              "      <td>Man</td>\n",
              "      <td>1</td>\n",
              "      <td>48.2 : 82.2</td>\n",
              "      <td>Med</td>\n",
              "      <td>CU</td>\n",
              "    </tr>\n",
              "    <tr>\n",
              "      <th>3</th>\n",
              "      <td>for_a_few_dollars_more-Scene-088-01.jpg</td>\n",
              "      <td>latino hispanic</td>\n",
              "      <td>Man</td>\n",
              "      <td>1</td>\n",
              "      <td>101. : 44.1</td>\n",
              "      <td>Med</td>\n",
              "      <td>Long</td>\n",
              "    </tr>\n",
              "    <tr>\n",
              "      <th>4</th>\n",
              "      <td>for_a_few_dollars_more-Scene-072-01.jpg</td>\n",
              "      <td>white</td>\n",
              "      <td>Man</td>\n",
              "      <td>1</td>\n",
              "      <td>46.4 : 77.5</td>\n",
              "      <td>Med</td>\n",
              "      <td>CU</td>\n",
              "    </tr>\n",
              "    <tr>\n",
              "      <th>5</th>\n",
              "      <td>for_a_few_dollars_more-Scene-032-01.jpg</td>\n",
              "      <td>white</td>\n",
              "      <td>Man</td>\n",
              "      <td>1</td>\n",
              "      <td>55.4 : 80.4</td>\n",
              "      <td>Med</td>\n",
              "      <td>CU</td>\n",
              "    </tr>\n",
              "    <tr>\n",
              "      <th>6</th>\n",
              "      <td>for_a_few_dollars_more-Scene-019-01.jpg</td>\n",
              "      <td>indian</td>\n",
              "      <td>Man</td>\n",
              "      <td>1</td>\n",
              "      <td>72.8 : 86.0</td>\n",
              "      <td>Med</td>\n",
              "      <td>ML</td>\n",
              "    </tr>\n",
              "    <tr>\n",
              "      <th>7</th>\n",
              "      <td>for_a_few_dollars_more-Scene-008-01.jpg</td>\n",
              "      <td>indian</td>\n",
              "      <td>Man</td>\n",
              "      <td>1</td>\n",
              "      <td>63.9 : 83.6</td>\n",
              "      <td>Low</td>\n",
              "      <td>CU</td>\n",
              "    </tr>\n",
              "    <tr>\n",
              "      <th>8</th>\n",
              "      <td>for_a_few_dollars_more-Scene-057-01.jpg</td>\n",
              "      <td>asian</td>\n",
              "      <td>Man</td>\n",
              "      <td>1</td>\n",
              "      <td>52.8 : 87.4</td>\n",
              "      <td>Med</td>\n",
              "      <td>CU</td>\n",
              "    </tr>\n",
              "    <tr>\n",
              "      <th>9</th>\n",
              "      <td>for_a_few_dollars_more-Scene-093-02.jpg</td>\n",
              "      <td>middle eastern</td>\n",
              "      <td>Man</td>\n",
              "      <td>1</td>\n",
              "      <td>84.9 : 61.3</td>\n",
              "      <td>Med</td>\n",
              "      <td>CU</td>\n",
              "    </tr>\n",
              "    <tr>\n",
              "      <th>10</th>\n",
              "      <td>for_a_few_dollars_more-Scene-010-01.jpg</td>\n",
              "      <td>indian</td>\n",
              "      <td>Man</td>\n",
              "      <td>0</td>\n",
              "      <td>0 : 0</td>\n",
              "      <td>Med</td>\n",
              "      <td>Long</td>\n",
              "    </tr>\n",
              "    <tr>\n",
              "      <th>11</th>\n",
              "      <td>for_a_few_dollars_more-Scene-088-03.jpg</td>\n",
              "      <td>latino hispanic</td>\n",
              "      <td>Man</td>\n",
              "      <td>1</td>\n",
              "      <td>115. : 86.6</td>\n",
              "      <td>Med</td>\n",
              "      <td>CU</td>\n",
              "    </tr>\n",
              "    <tr>\n",
              "      <th>12</th>\n",
              "      <td>for_a_few_dollars_more-Scene-036-02.jpg</td>\n",
              "      <td>white</td>\n",
              "      <td>Man</td>\n",
              "      <td>0</td>\n",
              "      <td>0 : 0</td>\n",
              "      <td>Med</td>\n",
              "      <td>Long</td>\n",
              "    </tr>\n",
              "    <tr>\n",
              "      <th>13</th>\n",
              "      <td>for_a_few_dollars_more-Scene-073-01.jpg</td>\n",
              "      <td>indian</td>\n",
              "      <td>Man</td>\n",
              "      <td>1</td>\n",
              "      <td>70.3 : 94.7</td>\n",
              "      <td>Med</td>\n",
              "      <td>ML</td>\n",
              "    </tr>\n",
              "    <tr>\n",
              "      <th>14</th>\n",
              "      <td>for_a_few_dollars_more-Scene-058-03.jpg</td>\n",
              "      <td>white</td>\n",
              "      <td>Man</td>\n",
              "      <td>1</td>\n",
              "      <td>85.2 : 62.5</td>\n",
              "      <td>Med</td>\n",
              "      <td>CU</td>\n",
              "    </tr>\n",
              "    <tr>\n",
              "      <th>15</th>\n",
              "      <td>for_a_few_dollars_more-Scene-079-01.jpg</td>\n",
              "      <td>indian</td>\n",
              "      <td>Man</td>\n",
              "      <td>1</td>\n",
              "      <td>69.0 : 71.3</td>\n",
              "      <td>Med</td>\n",
              "      <td>Long</td>\n",
              "    </tr>\n",
              "    <tr>\n",
              "      <th>16</th>\n",
              "      <td>for_a_few_dollars_more-Scene-075-03.jpg</td>\n",
              "      <td>white</td>\n",
              "      <td>Man</td>\n",
              "      <td>0</td>\n",
              "      <td>0 : 0</td>\n",
              "      <td>Med</td>\n",
              "      <td>Long</td>\n",
              "    </tr>\n",
              "    <tr>\n",
              "      <th>17</th>\n",
              "      <td>for_a_few_dollars_more-Scene-028-03.jpg</td>\n",
              "      <td>asian</td>\n",
              "      <td>Man</td>\n",
              "      <td>0</td>\n",
              "      <td>0 : 0</td>\n",
              "      <td>Med</td>\n",
              "      <td>ML</td>\n",
              "    </tr>\n",
              "    <tr>\n",
              "      <th>18</th>\n",
              "      <td>for_a_few_dollars_more-Scene-019-02.jpg</td>\n",
              "      <td>indian</td>\n",
              "      <td>Man</td>\n",
              "      <td>1</td>\n",
              "      <td>77.0 : 74.7</td>\n",
              "      <td>Med</td>\n",
              "      <td>ML</td>\n",
              "    </tr>\n",
              "    <tr>\n",
              "      <th>19</th>\n",
              "      <td>for_a_few_dollars_more-Scene-060-01.jpg</td>\n",
              "      <td>white</td>\n",
              "      <td>Man</td>\n",
              "      <td>1</td>\n",
              "      <td>65.3 : 64.1</td>\n",
              "      <td>Med</td>\n",
              "      <td>CU</td>\n",
              "    </tr>\n",
              "    <tr>\n",
              "      <th>20</th>\n",
              "      <td>for_a_few_dollars_more-Scene-057-02.jpg</td>\n",
              "      <td>asian</td>\n",
              "      <td>Man</td>\n",
              "      <td>1</td>\n",
              "      <td>51.0 : 87.4</td>\n",
              "      <td>Med</td>\n",
              "      <td>CU</td>\n",
              "    </tr>\n",
              "    <tr>\n",
              "      <th>21</th>\n",
              "      <td>for_a_few_dollars_more-Scene-019-03.jpg</td>\n",
              "      <td>indian</td>\n",
              "      <td>Man</td>\n",
              "      <td>1</td>\n",
              "      <td>73.3 : 78.9</td>\n",
              "      <td>Med</td>\n",
              "      <td>ML</td>\n",
              "    </tr>\n",
              "    <tr>\n",
              "      <th>22</th>\n",
              "      <td>for_a_few_dollars_more-Scene-018-01.jpg</td>\n",
              "      <td>latino hispanic</td>\n",
              "      <td>Man</td>\n",
              "      <td>1</td>\n",
              "      <td>70.9 : 59.9</td>\n",
              "      <td>Med</td>\n",
              "      <td>MC</td>\n",
              "    </tr>\n",
              "    <tr>\n",
              "      <th>23</th>\n",
              "      <td>for_a_few_dollars_more-Scene-055-02.jpg</td>\n",
              "      <td>indian</td>\n",
              "      <td>Man</td>\n",
              "      <td>1</td>\n",
              "      <td>48.1 : 76.4</td>\n",
              "      <td>Med</td>\n",
              "      <td>CU</td>\n",
              "    </tr>\n",
              "    <tr>\n",
              "      <th>24</th>\n",
              "      <td>for_a_few_dollars_more-Scene-021-01.jpg</td>\n",
              "      <td>white</td>\n",
              "      <td>Man</td>\n",
              "      <td>0</td>\n",
              "      <td>0 : 0</td>\n",
              "      <td>Med</td>\n",
              "      <td>CU</td>\n",
              "    </tr>\n",
              "    <tr>\n",
              "      <th>25</th>\n",
              "      <td>for_a_few_dollars_more-Scene-035-02.jpg</td>\n",
              "      <td>asian</td>\n",
              "      <td>Man</td>\n",
              "      <td>1</td>\n",
              "      <td>78.6 : 75.3</td>\n",
              "      <td>Med</td>\n",
              "      <td>CU</td>\n",
              "    </tr>\n",
              "    <tr>\n",
              "      <th>26</th>\n",
              "      <td>for_a_few_dollars_more-Scene-083-02.jpg</td>\n",
              "      <td>black</td>\n",
              "      <td>Man</td>\n",
              "      <td>0</td>\n",
              "      <td>0 : 0</td>\n",
              "      <td>Low</td>\n",
              "      <td>CU</td>\n",
              "    </tr>\n",
              "    <tr>\n",
              "      <th>27</th>\n",
              "      <td>for_a_few_dollars_more-Scene-026-02.jpg</td>\n",
              "      <td>latino hispanic</td>\n",
              "      <td>Man</td>\n",
              "      <td>1</td>\n",
              "      <td>55.7 : 47.5</td>\n",
              "      <td>Med</td>\n",
              "      <td>ML</td>\n",
              "    </tr>\n",
              "    <tr>\n",
              "      <th>28</th>\n",
              "      <td>for_a_few_dollars_more-Scene-060-03.jpg</td>\n",
              "      <td>white</td>\n",
              "      <td>Man</td>\n",
              "      <td>1</td>\n",
              "      <td>54.5 : 61.9</td>\n",
              "      <td>Med</td>\n",
              "      <td>CU</td>\n",
              "    </tr>\n",
              "  </tbody>\n",
              "</table>\n",
              "</div>"
            ],
            "text/plain": [
              "                                   Filename  ... Shot Type\n",
              "0   for_a_few_dollars_more-Scene-009-03.jpg  ...        MC\n",
              "1   for_a_few_dollars_more-Scene-069-02.jpg  ...        CU\n",
              "2   for_a_few_dollars_more-Scene-082-01.jpg  ...        CU\n",
              "3   for_a_few_dollars_more-Scene-088-01.jpg  ...      Long\n",
              "4   for_a_few_dollars_more-Scene-072-01.jpg  ...        CU\n",
              "5   for_a_few_dollars_more-Scene-032-01.jpg  ...        CU\n",
              "6   for_a_few_dollars_more-Scene-019-01.jpg  ...        ML\n",
              "7   for_a_few_dollars_more-Scene-008-01.jpg  ...        CU\n",
              "8   for_a_few_dollars_more-Scene-057-01.jpg  ...        CU\n",
              "9   for_a_few_dollars_more-Scene-093-02.jpg  ...        CU\n",
              "10  for_a_few_dollars_more-Scene-010-01.jpg  ...      Long\n",
              "11  for_a_few_dollars_more-Scene-088-03.jpg  ...        CU\n",
              "12  for_a_few_dollars_more-Scene-036-02.jpg  ...      Long\n",
              "13  for_a_few_dollars_more-Scene-073-01.jpg  ...        ML\n",
              "14  for_a_few_dollars_more-Scene-058-03.jpg  ...        CU\n",
              "15  for_a_few_dollars_more-Scene-079-01.jpg  ...      Long\n",
              "16  for_a_few_dollars_more-Scene-075-03.jpg  ...      Long\n",
              "17  for_a_few_dollars_more-Scene-028-03.jpg  ...        ML\n",
              "18  for_a_few_dollars_more-Scene-019-02.jpg  ...        ML\n",
              "19  for_a_few_dollars_more-Scene-060-01.jpg  ...        CU\n",
              "20  for_a_few_dollars_more-Scene-057-02.jpg  ...        CU\n",
              "21  for_a_few_dollars_more-Scene-019-03.jpg  ...        ML\n",
              "22  for_a_few_dollars_more-Scene-018-01.jpg  ...        MC\n",
              "23  for_a_few_dollars_more-Scene-055-02.jpg  ...        CU\n",
              "24  for_a_few_dollars_more-Scene-021-01.jpg  ...        CU\n",
              "25  for_a_few_dollars_more-Scene-035-02.jpg  ...        CU\n",
              "26  for_a_few_dollars_more-Scene-083-02.jpg  ...        CU\n",
              "27  for_a_few_dollars_more-Scene-026-02.jpg  ...        ML\n",
              "28  for_a_few_dollars_more-Scene-060-03.jpg  ...        CU\n",
              "\n",
              "[29 rows x 7 columns]"
            ]
          },
          "metadata": {
            "tags": []
          },
          "execution_count": 32
        }
      ]
    },
    {
      "cell_type": "code",
      "metadata": {
        "id": "0Rq5Gz__ryYw"
      },
      "source": [
        "df.to_csv('Film_shots.csv')"
      ],
      "execution_count": null,
      "outputs": []
    },
    {
      "cell_type": "code",
      "metadata": {
        "id": "hxNX4nrfr1l_",
        "colab": {
          "base_uri": "https://localhost:8080/",
          "height": 206
        },
        "outputId": "025a01d9-c0dd-4afe-84ed-bdffaf23951f"
      },
      "source": [
        ""
      ],
      "execution_count": null,
      "outputs": [
        {
          "output_type": "execute_result",
          "data": {
            "text/html": [
              "<div>\n",
              "<style scoped>\n",
              "    .dataframe tbody tr th:only-of-type {\n",
              "        vertical-align: middle;\n",
              "    }\n",
              "\n",
              "    .dataframe tbody tr th {\n",
              "        vertical-align: top;\n",
              "    }\n",
              "\n",
              "    .dataframe thead th {\n",
              "        text-align: right;\n",
              "    }\n",
              "</style>\n",
              "<table border=\"1\" class=\"dataframe\">\n",
              "  <thead>\n",
              "    <tr style=\"text-align: right;\">\n",
              "      <th></th>\n",
              "      <th>Filename</th>\n",
              "      <th>Race</th>\n",
              "      <th>Gender</th>\n",
              "      <th>Face</th>\n",
              "      <th>Brightness</th>\n",
              "      <th>Camera Angle</th>\n",
              "      <th>Shot Type</th>\n",
              "    </tr>\n",
              "  </thead>\n",
              "  <tbody>\n",
              "    <tr>\n",
              "      <th>99</th>\n",
              "      <td>for_a_few_dollars_more-Scene-012-03.jpg</td>\n",
              "      <td>white</td>\n",
              "      <td>Man</td>\n",
              "      <td>0</td>\n",
              "      <td>0 : 0</td>\n",
              "      <td>Med</td>\n",
              "      <td>CU</td>\n",
              "    </tr>\n",
              "    <tr>\n",
              "      <th>100</th>\n",
              "      <td>for_a_few_dollars_more-Scene-025-03.jpg</td>\n",
              "      <td>white</td>\n",
              "      <td>Man</td>\n",
              "      <td>1</td>\n",
              "      <td>59.9 : 65.8</td>\n",
              "      <td>Med</td>\n",
              "      <td>CU</td>\n",
              "    </tr>\n",
              "    <tr>\n",
              "      <th>101</th>\n",
              "      <td>for_a_few_dollars_more-Scene-012-01.jpg</td>\n",
              "      <td>white</td>\n",
              "      <td>Man</td>\n",
              "      <td>0</td>\n",
              "      <td>0 : 0</td>\n",
              "      <td>Med</td>\n",
              "      <td>CU</td>\n",
              "    </tr>\n",
              "    <tr>\n",
              "      <th>102</th>\n",
              "      <td>for_a_few_dollars_more-Scene-095-02.jpg</td>\n",
              "      <td>white</td>\n",
              "      <td>Man</td>\n",
              "      <td>1</td>\n",
              "      <td>97.9 : 72.5</td>\n",
              "      <td>Med</td>\n",
              "      <td>CU</td>\n",
              "    </tr>\n",
              "    <tr>\n",
              "      <th>103</th>\n",
              "      <td>for_a_few_dollars_more-Scene-090-01.jpg</td>\n",
              "      <td>white</td>\n",
              "      <td>Man</td>\n",
              "      <td>1</td>\n",
              "      <td>116. : 80.0</td>\n",
              "      <td>Med</td>\n",
              "      <td>CU</td>\n",
              "    </tr>\n",
              "  </tbody>\n",
              "</table>\n",
              "</div>"
            ],
            "text/plain": [
              "                                    Filename   Race  ... Camera Angle  Shot Type\n",
              "99   for_a_few_dollars_more-Scene-012-03.jpg  white  ...          Med         CU\n",
              "100  for_a_few_dollars_more-Scene-025-03.jpg  white  ...          Med         CU\n",
              "101  for_a_few_dollars_more-Scene-012-01.jpg  white  ...          Med         CU\n",
              "102  for_a_few_dollars_more-Scene-095-02.jpg  white  ...          Med         CU\n",
              "103  for_a_few_dollars_more-Scene-090-01.jpg  white  ...          Med         CU\n",
              "\n",
              "[5 rows x 7 columns]"
            ]
          },
          "metadata": {
            "tags": []
          },
          "execution_count": 85
        }
      ]
    },
    {
      "cell_type": "code",
      "metadata": {
        "colab": {
          "base_uri": "https://localhost:8080/"
        },
        "id": "Vb3WoxQdx2d1",
        "outputId": "2dbff7cc-3bfe-408c-b28b-152a7da2ace3"
      },
      "source": [
        "!zip -r /content/output.zip /content/output_dir"
      ],
      "execution_count": null,
      "outputs": [
        {
          "output_type": "stream",
          "text": [
            "  adding: content/output_dir/ (stored 0%)\n",
            "  adding: content/output_dir/for_a_few_dollars_more-Scene-089-01.jpg (deflated 3%)\n",
            "  adding: content/output_dir/for_a_few_dollars_more-Scene-014-01.jpg (deflated 4%)\n",
            "  adding: content/output_dir/for_a_few_dollars_more-Scene-007-03.jpg (deflated 5%)\n",
            "  adding: content/output_dir/for_a_few_dollars_more-Scene-015-03.jpg (deflated 2%)\n",
            "  adding: content/output_dir/for_a_few_dollars_more-Scene-058-02.jpg (deflated 4%)\n",
            "  adding: content/output_dir/for_a_few_dollars_more-Scene-037-02.jpg (deflated 7%)\n",
            "  adding: content/output_dir/for_a_few_dollars_more-Scene-009-03.jpg (deflated 4%)\n",
            "  adding: content/output_dir/for_a_few_dollars_more-Scene-083-02.jpg (deflated 3%)\n",
            "  adding: content/output_dir/for_a_few_dollars_more-Scene-016-02.jpg (deflated 6%)\n",
            "  adding: content/output_dir/for_a_few_dollars_more-Scene-042-03.jpg (deflated 3%)\n",
            "  adding: content/output_dir/for_a_few_dollars_more-Scene-046-02.jpg (deflated 6%)\n",
            "  adding: content/output_dir/for_a_few_dollars_more-Scene-019-02.jpg (deflated 3%)\n",
            "  adding: content/output_dir/for_a_few_dollars_more-Scene-086-02.jpg (deflated 4%)\n",
            "  adding: content/output_dir/for_a_few_dollars_more-Scene-063-03.jpg (deflated 6%)\n",
            "  adding: content/output_dir/for_a_few_dollars_more-Scene-085-03.jpg (deflated 2%)\n",
            "  adding: content/output_dir/for_a_few_dollars_more-Scene-059-03.jpg (deflated 2%)\n",
            "  adding: content/output_dir/for_a_few_dollars_more-Scene-068-01.jpg (deflated 5%)\n",
            "  adding: content/output_dir/for_a_few_dollars_more-Scene-008-03.jpg (deflated 2%)\n",
            "  adding: content/output_dir/for_a_few_dollars_more-Scene-013-03.jpg (deflated 2%)\n",
            "  adding: content/output_dir/for_a_few_dollars_more-Scene-024-03.jpg (deflated 7%)\n",
            "  adding: content/output_dir/for_a_few_dollars_more-Scene-025-01.jpg (deflated 3%)\n",
            "  adding: content/output_dir/for_a_few_dollars_more-Scene-031-02.jpg (deflated 6%)\n",
            "  adding: content/output_dir/for_a_few_dollars_more-Scene-065-01.jpg (deflated 2%)\n",
            "  adding: content/output_dir/for_a_few_dollars_more-Scene-045-03.jpg (deflated 3%)\n",
            "  adding: content/output_dir/for_a_few_dollars_more-Scene-046-03.jpg (deflated 6%)\n",
            "  adding: content/output_dir/for_a_few_dollars_more-Scene-002-01.jpg (deflated 3%)\n",
            "  adding: content/output_dir/for_a_few_dollars_more-Scene-030-03.jpg (deflated 2%)\n",
            "  adding: content/output_dir/for_a_few_dollars_more-Scene-076-01.jpg (deflated 3%)\n",
            "  adding: content/output_dir/for_a_few_dollars_more-Scene-077-01.jpg (deflated 2%)\n",
            "  adding: content/output_dir/for_a_few_dollars_more-Scene-076-03.jpg (deflated 3%)\n",
            "  adding: content/output_dir/for_a_few_dollars_more-Scene-046-01.jpg (deflated 8%)\n",
            "  adding: content/output_dir/for_a_few_dollars_more-Scene-020-02.jpg (deflated 2%)\n",
            "  adding: content/output_dir/for_a_few_dollars_more-Scene-088-02.jpg (deflated 3%)\n",
            "  adding: content/output_dir/for_a_few_dollars_more-Scene-025-02.jpg (deflated 3%)\n",
            "  adding: content/output_dir/for_a_few_dollars_more-Scene-091-01.jpg (deflated 4%)\n",
            "  adding: content/output_dir/for_a_few_dollars_more-Scene-033-02.jpg (deflated 7%)\n",
            "  adding: content/output_dir/for_a_few_dollars_more-Scene-051-03.jpg (deflated 5%)\n",
            "  adding: content/output_dir/for_a_few_dollars_more-Scene-041-01.jpg (deflated 8%)\n",
            "  adding: content/output_dir/for_a_few_dollars_more-Scene-023-03.jpg (deflated 2%)\n",
            "  adding: content/output_dir/for_a_few_dollars_more-Scene-062-02.jpg (deflated 4%)\n",
            "  adding: content/output_dir/for_a_few_dollars_more-Scene-034-03.jpg (deflated 6%)\n",
            "  adding: content/output_dir/for_a_few_dollars_more-Scene-089-03.jpg (deflated 3%)\n",
            "  adding: content/output_dir/for_a_few_dollars_more-Scene-067-02.jpg (deflated 2%)\n",
            "  adding: content/output_dir/for_a_few_dollars_more-Scene-057-01.jpg (deflated 2%)\n",
            "  adding: content/output_dir/for_a_few_dollars_more-Scene-042-02.jpg (deflated 3%)\n",
            "  adding: content/output_dir/for_a_few_dollars_more-Scene-007-01.jpg (deflated 6%)\n",
            "  adding: content/output_dir/for_a_few_dollars_more-Scene-038-03.jpg (deflated 4%)\n",
            "  adding: content/output_dir/for_a_few_dollars_more-Scene-052-01.jpg (deflated 4%)\n",
            "  adding: content/output_dir/for_a_few_dollars_more-Scene-074-03.jpg (deflated 2%)\n",
            "  adding: content/output_dir/for_a_few_dollars_more-Scene-085-02.jpg (deflated 3%)\n",
            "  adding: content/output_dir/for_a_few_dollars_more-Scene-032-02.jpg (deflated 2%)\n",
            "  adding: content/output_dir/for_a_few_dollars_more-Scene-078-02.jpg (deflated 3%)\n",
            "  adding: content/output_dir/for_a_few_dollars_more-Scene-067-03.jpg (deflated 2%)\n",
            "  adding: content/output_dir/for_a_few_dollars_more-Scene-022-03.jpg (deflated 8%)\n",
            "  adding: content/output_dir/for_a_few_dollars_more-Scene-018-02.jpg (deflated 6%)\n",
            "  adding: content/output_dir/for_a_few_dollars_more-Scene-095-01.jpg (deflated 4%)\n",
            "  adding: content/output_dir/for_a_few_dollars_more-Scene-010-01.jpg (deflated 2%)\n",
            "  adding: content/output_dir/for_a_few_dollars_more-Scene-055-03.jpg (deflated 2%)\n",
            "  adding: content/output_dir/for_a_few_dollars_more-Scene-021-03.jpg (deflated 4%)\n",
            "  adding: content/output_dir/for_a_few_dollars_more-Scene-068-02.jpg (deflated 4%)\n",
            "  adding: content/output_dir/for_a_few_dollars_more-Scene-016-01.jpg (deflated 8%)\n",
            "  adding: content/output_dir/for_a_few_dollars_more-Scene-036-02.jpg (deflated 3%)\n",
            "  adding: content/output_dir/for_a_few_dollars_more-Scene-049-02.jpg (deflated 4%)\n",
            "  adding: content/output_dir/for_a_few_dollars_more-Scene-080-02.jpg (deflated 2%)\n",
            "  adding: content/output_dir/for_a_few_dollars_more-Scene-082-01.jpg (deflated 4%)\n",
            "  adding: content/output_dir/for_a_few_dollars_more-Scene-006-01.jpg (deflated 2%)\n",
            "  adding: content/output_dir/for_a_few_dollars_more-Scene-051-02.jpg (deflated 5%)\n",
            "  adding: content/output_dir/for_a_few_dollars_more-Scene-080-01.jpg (deflated 2%)\n",
            "  adding: content/output_dir/for_a_few_dollars_more-Scene-078-01.jpg (deflated 3%)\n",
            "  adding: content/output_dir/for_a_few_dollars_more-Scene-084-02.jpg (deflated 3%)\n",
            "  adding: content/output_dir/for_a_few_dollars_more-Scene-053-01.jpg (deflated 6%)\n",
            "  adding: content/output_dir/for_a_few_dollars_more-Scene-057-02.jpg (deflated 2%)\n",
            "  adding: content/output_dir/for_a_few_dollars_more-Scene-040-01.jpg (deflated 5%)\n",
            "  adding: content/output_dir/for_a_few_dollars_more-Scene-083-01.jpg (deflated 4%)\n",
            "  adding: content/output_dir/for_a_few_dollars_more-Scene-011-03.jpg (deflated 5%)\n",
            "  adding: content/output_dir/for_a_few_dollars_more-Scene-086-01.jpg (deflated 5%)\n",
            "  adding: content/output_dir/for_a_few_dollars_more-Scene-053-02.jpg (deflated 3%)\n",
            "  adding: content/output_dir/for_a_few_dollars_more-Scene-095-03.jpg (deflated 3%)\n",
            "  adding: content/output_dir/for_a_few_dollars_more-Scene-001-02.jpg (deflated 4%)\n",
            "  adding: content/output_dir/for_a_few_dollars_more-Scene-027-02.jpg (deflated 2%)\n",
            "  adding: content/output_dir/for_a_few_dollars_more-Scene-034-01.jpg (deflated 7%)\n",
            "  adding: content/output_dir/for_a_few_dollars_more-Scene-044-02.jpg (deflated 3%)\n",
            "  adding: content/output_dir/for_a_few_dollars_more-Scene-079-02.jpg (deflated 3%)\n",
            "  adding: content/output_dir/for_a_few_dollars_more-Scene-085-01.jpg (deflated 3%)\n",
            "  adding: content/output_dir/for_a_few_dollars_more-Scene-031-03.jpg (deflated 6%)\n",
            "  adding: content/output_dir/for_a_few_dollars_more-Scene-024-02.jpg (deflated 9%)\n",
            "  adding: content/output_dir/for_a_few_dollars_more-Scene-073-01.jpg (deflated 3%)\n",
            "  adding: content/output_dir/for_a_few_dollars_more-Scene-055-01.jpg (deflated 2%)\n",
            "  adding: content/output_dir/for_a_few_dollars_more-Scene-066-02.jpg (deflated 4%)\n",
            "  adding: content/output_dir/for_a_few_dollars_more-Scene-050-01.jpg (deflated 4%)\n",
            "  adding: content/output_dir/for_a_few_dollars_more-Scene-049-03.jpg (deflated 3%)\n",
            "  adding: content/output_dir/for_a_few_dollars_more-Scene-009-01.jpg (deflated 6%)\n",
            "  adding: content/output_dir/for_a_few_dollars_more-Scene-035-01.jpg (deflated 4%)\n",
            "  adding: content/output_dir/for_a_few_dollars_more-Scene-090-02.jpg (deflated 4%)\n",
            "  adding: content/output_dir/for_a_few_dollars_more-Scene-059-01.jpg (deflated 2%)\n",
            "  adding: content/output_dir/for_a_few_dollars_more-Scene-026-03.jpg (deflated 3%)\n",
            "  adding: content/output_dir/for_a_few_dollars_more-Scene-004-01.jpg (deflated 2%)\n",
            "  adding: content/output_dir/for_a_few_dollars_more-Scene-052-02.jpg (deflated 4%)\n",
            "  adding: content/output_dir/for_a_few_dollars_more-Scene-091-03.jpg (deflated 2%)\n",
            "  adding: content/output_dir/for_a_few_dollars_more-Scene-072-02.jpg (deflated 3%)\n",
            "  adding: content/output_dir/for_a_few_dollars_more-Scene-087-02.jpg (deflated 3%)\n",
            "  adding: content/output_dir/for_a_few_dollars_more-Scene-064-03.jpg (deflated 3%)\n",
            "  adding: content/output_dir/for_a_few_dollars_more-Scene-005-02.jpg (deflated 3%)\n",
            "  adding: content/output_dir/for_a_few_dollars_more-Scene-033-03.jpg (deflated 7%)\n",
            "  adding: content/output_dir/for_a_few_dollars_more-Scene-029-02.jpg (deflated 5%)\n",
            "  adding: content/output_dir/for_a_few_dollars_more-Scene-054-02.jpg (deflated 4%)\n",
            "  adding: content/output_dir/for_a_few_dollars_more-Scene-078-03.jpg (deflated 3%)\n",
            "  adding: content/output_dir/for_a_few_dollars_more-Scene-074-02.jpg (deflated 4%)\n",
            "  adding: content/output_dir/for_a_few_dollars_more-Scene-024-01.jpg (deflated 9%)\n",
            "  adding: content/output_dir/for_a_few_dollars_more-Scene-081-01.jpg (deflated 5%)\n",
            "  adding: content/output_dir/for_a_few_dollars_more-Scene-045-02.jpg (deflated 3%)\n",
            "  adding: content/output_dir/for_a_few_dollars_more-Scene-037-01.jpg (deflated 12%)\n",
            "  adding: content/output_dir/for_a_few_dollars_more-Scene-065-02.jpg (deflated 2%)\n",
            "  adding: content/output_dir/for_a_few_dollars_more-Scene-071-02.jpg (deflated 3%)\n",
            "  adding: content/output_dir/for_a_few_dollars_more-Scene-039-03.jpg (deflated 2%)\n",
            "  adding: content/output_dir/for_a_few_dollars_more-Scene-092-02.jpg (deflated 4%)\n",
            "  adding: content/output_dir/for_a_few_dollars_more-Scene-071-03.jpg (deflated 3%)\n",
            "  adding: content/output_dir/for_a_few_dollars_more-Scene-062-01.jpg (deflated 4%)\n",
            "  adding: content/output_dir/for_a_few_dollars_more-Scene-043-02.jpg (deflated 3%)\n",
            "  adding: content/output_dir/for_a_few_dollars_more-Scene-004-02.jpg (deflated 2%)\n",
            "  adding: content/output_dir/for_a_few_dollars_more-Scene-008-01.jpg (deflated 2%)\n",
            "  adding: content/output_dir/for_a_few_dollars_more-Scene-068-03.jpg (deflated 4%)\n",
            "  adding: content/output_dir/for_a_few_dollars_more-Scene-027-01.jpg (deflated 1%)\n",
            "  adding: content/output_dir/for_a_few_dollars_more-Scene-036-01.jpg (deflated 4%)\n",
            "  adding: content/output_dir/.ipynb_checkpoints/ (stored 0%)\n",
            "  adding: content/output_dir/for_a_few_dollars_more-Scene-019-01.jpg (deflated 2%)\n",
            "  adding: content/output_dir/for_a_few_dollars_more-Scene-059-02.jpg (deflated 2%)\n",
            "  adding: content/output_dir/for_a_few_dollars_more-Scene-061-03.jpg (deflated 4%)\n",
            "  adding: content/output_dir/for_a_few_dollars_more-Scene-070-03.jpg (deflated 3%)\n",
            "  adding: content/output_dir/for_a_few_dollars_more-Scene-069-02.jpg (deflated 2%)\n",
            "  adding: content/output_dir/for_a_few_dollars_more-Scene-030-02.jpg (deflated 2%)\n",
            "  adding: content/output_dir/for_a_few_dollars_more-Scene-070-02.jpg (deflated 4%)\n",
            "  adding: content/output_dir/for_a_few_dollars_more-Scene-021-02.jpg (deflated 4%)\n",
            "  adding: content/output_dir/for_a_few_dollars_more-Scene-028-03.jpg (deflated 4%)\n",
            "  adding: content/output_dir/for_a_few_dollars_more-Scene-023-01.jpg (deflated 3%)\n",
            "  adding: content/output_dir/for_a_few_dollars_more-Scene-044-03.jpg (deflated 3%)\n",
            "  adding: content/output_dir/for_a_few_dollars_more-Scene-040-03.jpg (deflated 5%)\n",
            "  adding: content/output_dir/for_a_few_dollars_more-Scene-067-01.jpg (deflated 2%)\n",
            "  adding: content/output_dir/for_a_few_dollars_more-Scene-009-02.jpg (deflated 4%)\n",
            "  adding: content/output_dir/for_a_few_dollars_more-Scene-094-01.jpg (deflated 4%)\n",
            "  adding: content/output_dir/for_a_few_dollars_more-Scene-008-02.jpg (deflated 2%)\n",
            "  adding: content/output_dir/for_a_few_dollars_more-Scene-093-03.jpg (deflated 3%)\n",
            "  adding: content/output_dir/for_a_few_dollars_more-Scene-014-02.jpg (deflated 3%)\n",
            "  adding: content/output_dir/for_a_few_dollars_more-Scene-081-03.jpg (deflated 4%)\n",
            "  adding: content/output_dir/for_a_few_dollars_more-Scene-079-01.jpg (deflated 4%)\n",
            "  adding: content/output_dir/for_a_few_dollars_more-Scene-027-03.jpg (deflated 2%)\n",
            "  adding: content/output_dir/for_a_few_dollars_more-Scene-075-02.jpg (deflated 4%)\n",
            "  adding: content/output_dir/for_a_few_dollars_more-Scene-043-03.jpg (deflated 3%)\n",
            "  adding: content/output_dir/for_a_few_dollars_more-Scene-028-01.jpg (deflated 6%)\n",
            "  adding: content/output_dir/for_a_few_dollars_more-Scene-082-02.jpg (deflated 3%)\n",
            "  adding: content/output_dir/for_a_few_dollars_more-Scene-050-03.jpg (deflated 3%)\n",
            "  adding: content/output_dir/for_a_few_dollars_more-Scene-088-01.jpg (deflated 2%)\n",
            "  adding: content/output_dir/for_a_few_dollars_more-Scene-073-03.jpg (deflated 3%)\n",
            "  adding: content/output_dir/for_a_few_dollars_more-Scene-012-02.jpg (deflated 5%)\n",
            "  adding: content/output_dir/for_a_few_dollars_more-Scene-086-03.jpg (deflated 3%)\n",
            "  adding: content/output_dir/for_a_few_dollars_more-Scene-017-01.jpg (deflated 1%)\n",
            "  adding: content/output_dir/for_a_few_dollars_more-Scene-010-02.jpg (deflated 1%)\n",
            "  adding: content/output_dir/for_a_few_dollars_more-Scene-058-03.jpg (deflated 3%)\n",
            "  adding: content/output_dir/for_a_few_dollars_more-Scene-081-02.jpg (deflated 3%)\n",
            "  adding: content/output_dir/for_a_few_dollars_more-Scene-029-01.jpg (deflated 6%)\n",
            "  adding: content/output_dir/for_a_few_dollars_more-Scene-038-02.jpg (deflated 3%)\n",
            "  adding: content/output_dir/for_a_few_dollars_more-Scene-018-01.jpg (deflated 8%)\n",
            "  adding: content/output_dir/for_a_few_dollars_more-Scene-069-01.jpg (deflated 2%)\n",
            "  adding: content/output_dir/for_a_few_dollars_more-Scene-087-01.jpg (deflated 3%)\n",
            "  adding: content/output_dir/for_a_few_dollars_more-Scene-063-02.jpg (deflated 5%)\n",
            "  adding: content/output_dir/for_a_few_dollars_more-Scene-007-02.jpg (deflated 6%)\n",
            "  adding: content/output_dir/for_a_few_dollars_more-Scene-043-01.jpg (deflated 4%)\n",
            "  adding: content/output_dir/for_a_few_dollars_more-Scene-029-03.jpg (deflated 4%)\n",
            "  adding: content/output_dir/for_a_few_dollars_more-Scene-076-02.jpg (deflated 3%)\n",
            "  adding: content/output_dir/for_a_few_dollars_more-Scene-053-03.jpg (deflated 3%)\n",
            "  adding: content/output_dir/for_a_few_dollars_more-Scene-048-02.jpg (deflated 3%)\n",
            "  adding: content/output_dir/for_a_few_dollars_more-Scene-045-01.jpg (deflated 3%)\n",
            "  adding: content/output_dir/for_a_few_dollars_more-Scene-038-01.jpg (deflated 3%)\n",
            "  adding: content/output_dir/for_a_few_dollars_more-Scene-022-01.jpg (deflated 7%)\n",
            "  adding: content/output_dir/for_a_few_dollars_more-Scene-047-03.jpg (deflated 2%)\n",
            "  adding: content/output_dir/for_a_few_dollars_more-Scene-032-03.jpg (deflated 2%)\n",
            "  adding: content/output_dir/for_a_few_dollars_more-Scene-035-03.jpg (deflated 3%)\n",
            "  adding: content/output_dir/for_a_few_dollars_more-Scene-056-03.jpg (deflated 3%)\n",
            "  adding: content/output_dir/for_a_few_dollars_more-Scene-072-03.jpg (deflated 3%)\n",
            "  adding: content/output_dir/for_a_few_dollars_more-Scene-052-03.jpg (deflated 3%)\n",
            "  adding: content/output_dir/for_a_few_dollars_more-Scene-013-01.jpg (deflated 2%)\n",
            "  adding: content/output_dir/for_a_few_dollars_more-Scene-082-03.jpg (deflated 3%)\n",
            "  adding: content/output_dir/for_a_few_dollars_more-Scene-019-03.jpg (deflated 2%)\n",
            "  adding: content/output_dir/for_a_few_dollars_more-Scene-011-02.jpg (deflated 5%)\n",
            "  adding: content/output_dir/for_a_few_dollars_more-Scene-090-03.jpg (deflated 5%)\n",
            "  adding: content/output_dir/for_a_few_dollars_more-Scene-005-01.jpg (deflated 3%)\n",
            "  adding: content/output_dir/for_a_few_dollars_more-Scene-040-02.jpg (deflated 4%)\n",
            "  adding: content/output_dir/for_a_few_dollars_more-Scene-016-03.jpg (deflated 6%)\n",
            "  adding: content/output_dir/for_a_few_dollars_more-Scene-069-03.jpg (deflated 2%)\n",
            "  adding: content/output_dir/for_a_few_dollars_more-Scene-080-03.jpg (deflated 2%)\n",
            "  adding: content/output_dir/for_a_few_dollars_more-Scene-063-01.jpg (deflated 7%)\n",
            "  adding: content/output_dir/for_a_few_dollars_more-Scene-066-01.jpg (deflated 4%)\n",
            "  adding: content/output_dir/for_a_few_dollars_more-Scene-026-01.jpg (deflated 5%)\n",
            "  adding: content/output_dir/for_a_few_dollars_more-Scene-036-03.jpg (deflated 3%)\n",
            "  adding: content/output_dir/for_a_few_dollars_more-Scene-075-03.jpg (deflated 4%)\n",
            "  adding: content/output_dir/for_a_few_dollars_more-Scene-054-01.jpg (deflated 5%)\n",
            "  adding: content/output_dir/for_a_few_dollars_more-Scene-073-02.jpg (deflated 3%)\n",
            "  adding: content/output_dir/for_a_few_dollars_more-Scene-049-01.jpg (deflated 5%)\n",
            "  adding: content/output_dir/for_a_few_dollars_more-Scene-057-03.jpg (deflated 2%)\n",
            "  adding: content/output_dir/for_a_few_dollars_more-Scene-084-01.jpg (deflated 4%)\n",
            "  adding: content/output_dir/for_a_few_dollars_more-Scene-058-01.jpg (deflated 4%)\n",
            "  adding: content/output_dir/for_a_few_dollars_more-Scene-041-03.jpg (deflated 5%)\n",
            "  adding: content/output_dir/for_a_few_dollars_more-Scene-051-01.jpg (deflated 5%)\n",
            "  adding: content/output_dir/for_a_few_dollars_more-Scene-023-02.jpg (deflated 2%)\n",
            "  adding: content/output_dir/for_a_few_dollars_more-Scene-034-02.jpg (deflated 6%)\n",
            "  adding: content/output_dir/for_a_few_dollars_more-Scene-042-01.jpg (deflated 6%)\n",
            "  adding: content/output_dir/for_a_few_dollars_more-Scene-039-01.jpg (deflated 3%)\n",
            "  adding: content/output_dir/for_a_few_dollars_more-Scene-018-03.jpg (deflated 5%)\n",
            "  adding: content/output_dir/for_a_few_dollars_more-Scene-084-03.jpg (deflated 4%)\n",
            "  adding: content/output_dir/for_a_few_dollars_more-Scene-001-03.jpg (deflated 4%)\n",
            "  adding: content/output_dir/for_a_few_dollars_more-Scene-003-02.jpg (deflated 4%)\n",
            "  adding: content/output_dir/for_a_few_dollars_more-Scene-001-01.jpg (deflated 5%)\n",
            "  adding: content/output_dir/for_a_few_dollars_more-Scene-026-02.jpg (deflated 4%)\n",
            "  adding: content/output_dir/for_a_few_dollars_more-Scene-075-01.jpg (deflated 5%)\n",
            "  adding: content/output_dir/for_a_few_dollars_more-Scene-013-02.jpg (deflated 2%)\n",
            "  adding: content/output_dir/for_a_few_dollars_more-Scene-033-01.jpg (deflated 8%)\n",
            "  adding: content/output_dir/for_a_few_dollars_more-Scene-006-02.jpg (deflated 2%)\n",
            "  adding: content/output_dir/for_a_few_dollars_more-Scene-065-03.jpg (deflated 2%)\n",
            "  adding: content/output_dir/for_a_few_dollars_more-Scene-060-02.jpg (deflated 3%)\n",
            "  adding: content/output_dir/for_a_few_dollars_more-Scene-021-01.jpg (deflated 4%)\n",
            "  adding: content/output_dir/for_a_few_dollars_more-Scene-014-03.jpg (deflated 3%)\n",
            "  adding: content/output_dir/for_a_few_dollars_more-Scene-017-03.jpg (deflated 1%)\n",
            "  adding: content/output_dir/for_a_few_dollars_more-Scene-064-01.jpg (deflated 3%)\n",
            "  adding: content/output_dir/for_a_few_dollars_more-Scene-062-03.jpg (deflated 4%)\n",
            "  adding: content/output_dir/for_a_few_dollars_more-Scene-088-03.jpg (deflated 5%)\n",
            "  adding: content/output_dir/for_a_few_dollars_more-Scene-015-01.jpg (deflated 2%)\n",
            "  adding: content/output_dir/for_a_few_dollars_more-Scene-002-02.jpg (deflated 3%)\n",
            "  adding: content/output_dir/for_a_few_dollars_more-Scene-079-03.jpg (deflated 3%)\n",
            "  adding: content/output_dir/for_a_few_dollars_more-Scene-094-03.jpg (deflated 3%)\n",
            "  adding: content/output_dir/for_a_few_dollars_more-Scene-002-03.jpg (deflated 3%)\n",
            "  adding: content/output_dir/for_a_few_dollars_more-Scene-071-01.jpg (deflated 4%)\n",
            "  adding: content/output_dir/for_a_few_dollars_more-Scene-031-01.jpg (deflated 6%)\n",
            "  adding: content/output_dir/for_a_few_dollars_more-Scene-047-01.jpg (deflated 3%)\n",
            "  adding: content/output_dir/for_a_few_dollars_more-Scene-047-02.jpg (deflated 4%)\n",
            "  adding: content/output_dir/for_a_few_dollars_more-Scene-030-01.jpg (deflated 2%)\n",
            "  adding: content/output_dir/for_a_few_dollars_more-Scene-092-03.jpg (deflated 3%)\n",
            "  adding: content/output_dir/for_a_few_dollars_more-Scene-093-02.jpg (deflated 3%)\n",
            "  adding: content/output_dir/for_a_few_dollars_more-Scene-005-03.jpg (deflated 3%)\n",
            "  adding: content/output_dir/for_a_few_dollars_more-Scene-035-02.jpg (deflated 3%)\n",
            "  adding: content/output_dir/for_a_few_dollars_more-Scene-077-02.jpg (deflated 1%)\n",
            "  adding: content/output_dir/for_a_few_dollars_more-Scene-032-01.jpg (deflated 3%)\n",
            "  adding: content/output_dir/for_a_few_dollars_more-Scene-004-03.jpg (deflated 2%)\n",
            "  adding: content/output_dir/for_a_few_dollars_more-Scene-003-01.jpg (deflated 5%)\n",
            "  adding: content/output_dir/for_a_few_dollars_more-Scene-074-01.jpg (deflated 4%)\n",
            "  adding: content/output_dir/for_a_few_dollars_more-Scene-056-02.jpg (deflated 3%)\n",
            "  adding: content/output_dir/for_a_few_dollars_more-Scene-041-02.jpg (deflated 5%)\n",
            "  adding: content/output_dir/for_a_few_dollars_more-Scene-028-02.jpg (deflated 4%)\n",
            "  adding: content/output_dir/for_a_few_dollars_more-Scene-050-02.jpg (deflated 4%)\n",
            "  adding: content/output_dir/for_a_few_dollars_more-Scene-089-02.jpg (deflated 3%)\n",
            "  adding: content/output_dir/for_a_few_dollars_more-Scene-048-03.jpg (deflated 4%)\n",
            "  adding: content/output_dir/for_a_few_dollars_more-Scene-010-03.jpg (deflated 2%)\n",
            "  adding: content/output_dir/for_a_few_dollars_more-Scene-061-02.jpg (deflated 4%)\n",
            "  adding: content/output_dir/for_a_few_dollars_more-Scene-091-02.jpg (deflated 2%)\n",
            "  adding: content/output_dir/for_a_few_dollars_more-Scene-006-03.jpg (deflated 1%)\n",
            "  adding: content/output_dir/for_a_few_dollars_more-Scene-011-01.jpg (deflated 6%)\n",
            "  adding: content/output_dir/for_a_few_dollars_more-Scene-094-02.jpg (deflated 3%)\n",
            "  adding: content/output_dir/for_a_few_dollars_more-Scene-064-02.jpg (deflated 2%)\n",
            "  adding: content/output_dir/for_a_few_dollars_more-Scene-072-01.jpg (deflated 3%)\n",
            "  adding: content/output_dir/for_a_few_dollars_more-Scene-092-01.jpg (deflated 4%)\n",
            "  adding: content/output_dir/for_a_few_dollars_more-Scene-060-01.jpg (deflated 3%)\n",
            "  adding: content/output_dir/for_a_few_dollars_more-Scene-060-03.jpg (deflated 3%)\n",
            "  adding: content/output_dir/for_a_few_dollars_more-Scene-039-02.jpg (deflated 3%)\n",
            "  adding: content/output_dir/for_a_few_dollars_more-Scene-015-02.jpg (deflated 2%)\n",
            "  adding: content/output_dir/for_a_few_dollars_more-Scene-093-01.jpg (deflated 3%)\n",
            "  adding: content/output_dir/for_a_few_dollars_more-Scenes.csv (deflated 73%)\n",
            "  adding: content/output_dir/for_a_few_dollars_more-Scene-037-03.jpg (deflated 7%)\n",
            "  adding: content/output_dir/for_a_few_dollars_more-Scene-055-02.jpg (deflated 2%)\n",
            "  adding: content/output_dir/for_a_few_dollars_more-Scene-056-01.jpg (deflated 4%)\n",
            "  adding: content/output_dir/for_a_few_dollars_more-Scene-061-01.jpg (deflated 5%)\n",
            "  adding: content/output_dir/for_a_few_dollars_more-Scene-044-01.jpg (deflated 4%)\n",
            "  adding: content/output_dir/for_a_few_dollars_more-Scene-022-02.jpg (deflated 7%)\n",
            "  adding: content/output_dir/for_a_few_dollars_more-Scene-083-03.jpg (deflated 3%)\n",
            "  adding: content/output_dir/for_a_few_dollars_more-Scene-054-03.jpg (deflated 4%)\n",
            "  adding: content/output_dir/for_a_few_dollars_more-Scene-070-01.jpg (deflated 5%)\n",
            "  adding: content/output_dir/for_a_few_dollars_more-Scene-012-03.jpg (deflated 4%)\n",
            "  adding: content/output_dir/for_a_few_dollars_more-Scene-003-03.jpg (deflated 5%)\n",
            "  adding: content/output_dir/for_a_few_dollars_more-Scene-066-03.jpg (deflated 4%)\n",
            "  adding: content/output_dir/for_a_few_dollars_more-Scene-025-03.jpg (deflated 3%)\n",
            "  adding: content/output_dir/for_a_few_dollars_more-Scene-048-01.jpg (deflated 3%)\n",
            "  adding: content/output_dir/for_a_few_dollars_more-Scene-020-03.jpg (deflated 2%)\n",
            "  adding: content/output_dir/for_a_few_dollars_more-Scene-012-01.jpg (deflated 5%)\n",
            "  adding: content/output_dir/for_a_few_dollars_more-Scene-077-03.jpg (deflated 1%)\n",
            "  adding: content/output_dir/for_a_few_dollars_more-Scene-087-03.jpg (deflated 2%)\n",
            "  adding: content/output_dir/for_a_few_dollars_more-Scene-095-02.jpg (deflated 3%)\n",
            "  adding: content/output_dir/for_a_few_dollars_more-Scene-017-02.jpg (deflated 1%)\n",
            "  adding: content/output_dir/for_a_few_dollars_more-Scene-020-01.jpg (deflated 2%)\n",
            "  adding: content/output_dir/for_a_few_dollars_more-Scene-090-01.jpg (deflated 5%)\n"
          ],
          "name": "stdout"
        }
      ]
    },
    {
      "cell_type": "code",
      "metadata": {
        "id": "0rP7YNase66E"
      },
      "source": [
        ""
      ],
      "execution_count": null,
      "outputs": []
    }
  ]
}