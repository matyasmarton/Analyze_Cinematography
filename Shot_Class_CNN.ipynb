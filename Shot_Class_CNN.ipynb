{
  "nbformat": 4,
  "nbformat_minor": 0,
  "metadata": {
    "colab": {
      "name": "Shot Class CNN.ipynb",
      "provenance": [],
      "collapsed_sections": [],
      "toc_visible": true
    },
    "kernelspec": {
      "name": "python3",
      "display_name": "Python 3"
    },
    "accelerator": "GPU"
  },
  "cells": [
    {
      "cell_type": "code",
      "metadata": {
        "id": "BpvF6Ux0CZ8G"
      },
      "source": [
        "import cv2\n",
        "import numpy as np\n",
        "import pickle\n",
        "import os\n",
        "import random\n",
        "from tensorflow.keras.utils import to_categorical\n",
        "import shutil"
      ],
      "execution_count": null,
      "outputs": []
    },
    {
      "cell_type": "code",
      "metadata": {
        "id": "lUDqlswKfU1Z"
      },
      "source": [
        "shutil.unpack_archive(\"/content/train_test.zip\", \"/content/\")"
      ],
      "execution_count": null,
      "outputs": []
    },
    {
      "cell_type": "code",
      "metadata": {
        "id": "nuokVm7rfaW2"
      },
      "source": [
        "DATADIR = '/content/train_test'\n",
        "CATEGORIES = ['CU','MC','ML','L']\n",
        "training_data = []"
      ],
      "execution_count": null,
      "outputs": []
    },
    {
      "cell_type": "code",
      "metadata": {
        "id": "0wwMcXojf2Fj"
      },
      "source": [
        "for category in CATEGORIES:\n",
        "  path = os.path.join(DATADIR,category)\n",
        "  class_num=CATEGORIES.index(category)\n",
        "  for img in os.listdir(path):\n",
        "    try:\n",
        "      img_array = cv2.imread(os.path.join(path,img),cv2.IMREAD_GRAYSCALE)\n",
        "      #img_array = img_array.ravel()\n",
        "      training_data.append([img_array,class_num])\n",
        "\n",
        "    except Exception as e:\n",
        "      print('error')\n",
        "      pass"
      ],
      "execution_count": null,
      "outputs": []
    },
    {
      "cell_type": "code",
      "metadata": {
        "colab": {
          "base_uri": "https://localhost:8080/"
        },
        "id": "SCjkVmRfZQXv",
        "outputId": "a1deacf3-ab4d-430c-b4e8-ab007318e014"
      },
      "source": [
        "len(training_data)"
      ],
      "execution_count": null,
      "outputs": [
        {
          "output_type": "execute_result",
          "data": {
            "text/plain": [
              "872"
            ]
          },
          "metadata": {
            "tags": []
          },
          "execution_count": 6
        }
      ]
    },
    {
      "cell_type": "code",
      "metadata": {
        "id": "nmdJ39XvgbMq"
      },
      "source": [
        "random.shuffle(training_data)\n",
        "\n",
        "X = []\n",
        "y = []"
      ],
      "execution_count": null,
      "outputs": []
    },
    {
      "cell_type": "code",
      "metadata": {
        "id": "rrDz7b9ughNU"
      },
      "source": [
        "for features, label in training_data:\n",
        "  X.append(features)\n",
        "  y.append(label)"
      ],
      "execution_count": null,
      "outputs": []
    },
    {
      "cell_type": "code",
      "metadata": {
        "id": "7_5uivFTIKne"
      },
      "source": [
        "y=to_categorical(y)"
      ],
      "execution_count": null,
      "outputs": []
    },
    {
      "cell_type": "code",
      "metadata": {
        "colab": {
          "base_uri": "https://localhost:8080/"
        },
        "id": "7gN9dmSCX5Qp",
        "outputId": "3d3eff3e-3650-441e-bccf-f3e202a55936"
      },
      "source": [
        "for i in X[:10]:\n",
        "  print(i.shape)"
      ],
      "execution_count": null,
      "outputs": [
        {
          "output_type": "stream",
          "text": [
            "(180, 320)\n",
            "(180, 320)\n",
            "(180, 320)\n",
            "(180, 320)\n",
            "(180, 320)\n",
            "(180, 320)\n",
            "(180, 320)\n",
            "(180, 320)\n",
            "(180, 320)\n",
            "(180, 320)\n"
          ],
          "name": "stdout"
        }
      ]
    },
    {
      "cell_type": "code",
      "metadata": {
        "id": "2Nfz-9vkINMz"
      },
      "source": [
        "X = np.array(X).reshape(-1,320,180,1)\n",
        "y = np.array(y)"
      ],
      "execution_count": null,
      "outputs": []
    },
    {
      "cell_type": "code",
      "metadata": {
        "id": "cc_srh1Pcxbv"
      },
      "source": [
        "import pickle\n",
        "\n",
        "pickle_out = open(\"X.pickle\",\"wb\")\n",
        "pickle.dump(X, pickle_out)\n",
        "pickle_out.close()\n",
        "\n",
        "pickle_out = open(\"y.pickle\",\"wb\")\n",
        "pickle.dump(y,pickle_out)\n",
        "pickle_out.close()"
      ],
      "execution_count": null,
      "outputs": []
    },
    {
      "cell_type": "code",
      "metadata": {
        "id": "4Ecnyd3mdGSG"
      },
      "source": [
        "pickle_in = open(\"X.pickle\",\"rb\")\n",
        "X = pickle.load(pickle_in)"
      ],
      "execution_count": null,
      "outputs": []
    },
    {
      "cell_type": "code",
      "metadata": {
        "id": "NsAcsikYI4Oi"
      },
      "source": [
        "import tensorflow as tf\n",
        "from tensorflow import keras\n",
        "import pickle\n",
        "import numpy as np"
      ],
      "execution_count": null,
      "outputs": []
    },
    {
      "cell_type": "code",
      "metadata": {
        "id": "y-W5MedqJduz"
      },
      "source": [
        "X = pickle.load(open(\"X.pickle\",\"rb\"))\n",
        "y = pickle.load(open(\"y.pickle\",\"rb\"))\n"
      ],
      "execution_count": null,
      "outputs": []
    },
    {
      "cell_type": "code",
      "metadata": {
        "id": "ncSMScNIETGB"
      },
      "source": [
        "from sklearn.model_selection import train_test_split\n",
        "X_train, X_test, y_train, y_test = train_test_split(X, y, test_size=0.2, random_state=42)"
      ],
      "execution_count": null,
      "outputs": []
    },
    {
      "cell_type": "code",
      "metadata": {
        "id": "7rS3Ll89Ldh9"
      },
      "source": [
        "X_train = X_train/255.0\n",
        "X_test = X_test/255.0"
      ],
      "execution_count": null,
      "outputs": []
    },
    {
      "cell_type": "code",
      "metadata": {
        "colab": {
          "base_uri": "https://localhost:8080/"
        },
        "id": "ao1ZZrrBPo_4",
        "outputId": "e78e6c25-9d91-4527-f387-14a2fc760a4b"
      },
      "source": [
        "X_train.shape[1:]"
      ],
      "execution_count": null,
      "outputs": [
        {
          "output_type": "execute_result",
          "data": {
            "text/plain": [
              "(320, 180, 1)"
            ]
          },
          "metadata": {
            "tags": []
          },
          "execution_count": 19
        }
      ]
    },
    {
      "cell_type": "code",
      "metadata": {
        "id": "znAqLX8MMqA-"
      },
      "source": [
        "model = keras.Sequential([\n",
        "  keras.layers.Conv2D(128,(3,3),activation='relu',input_shape=X_train.shape[1:]),\n",
        "  keras.layers.MaxPool2D(2,2),\n",
        "  keras.layers.Conv2D(64,(3,3),activation='relu'),\n",
        "  keras.layers.MaxPool2D(2,2),\n",
        "\n",
        "  keras.layers.Flatten(),\n",
        "  keras.layers.Dense(64,activation='relu'),\n",
        "  keras.layers.Dense(32,activation='relu'),\n",
        "  #keras.layers.Dropout(0.4),\n",
        "  keras.layers.Dense(4,activation='softmax')\n",
        "])"
      ],
      "execution_count": null,
      "outputs": []
    },
    {
      "cell_type": "code",
      "metadata": {
        "id": "1HCttYFKQiu-"
      },
      "source": [
        "from keras.optimizers import SGD\n",
        "#opt = SGD(lr=0.1)\n",
        "model.compile(loss=\"categorical_crossentropy\", optimizer='sgd', metrics=['accuracy'])\n"
      ],
      "execution_count": null,
      "outputs": []
    },
    {
      "cell_type": "code",
      "metadata": {
        "colab": {
          "base_uri": "https://localhost:8080/"
        },
        "id": "OzxOF5yGVViA",
        "outputId": "5bb9c763-99d7-4314-cc3b-e737bd35b8d6"
      },
      "source": [
        "model.fit(X_train, y_train, batch_size=3, epochs=25, validation_data=(X_test, y_test))"
      ],
      "execution_count": null,
      "outputs": [
        {
          "output_type": "stream",
          "text": [
            "Epoch 1/25\n",
            "233/233 [==============================] - 4s 17ms/step - loss: 1.3837 - accuracy: 0.2569 - val_loss: 1.3625 - val_accuracy: 0.3714\n",
            "Epoch 2/25\n",
            "233/233 [==============================] - 4s 17ms/step - loss: 1.3589 - accuracy: 0.3214 - val_loss: 1.3469 - val_accuracy: 0.3943\n",
            "Epoch 3/25\n",
            "233/233 [==============================] - 4s 17ms/step - loss: 1.3265 - accuracy: 0.3753 - val_loss: 1.3653 - val_accuracy: 0.3200\n",
            "Epoch 4/25\n",
            "233/233 [==============================] - 4s 16ms/step - loss: 1.3296 - accuracy: 0.3489 - val_loss: 1.3798 - val_accuracy: 0.3943\n",
            "Epoch 5/25\n",
            "233/233 [==============================] - 4s 16ms/step - loss: 1.2965 - accuracy: 0.4012 - val_loss: 1.3118 - val_accuracy: 0.4114\n",
            "Epoch 6/25\n",
            "233/233 [==============================] - 4s 17ms/step - loss: 1.2445 - accuracy: 0.4238 - val_loss: 1.4235 - val_accuracy: 0.2743\n",
            "Epoch 7/25\n",
            "233/233 [==============================] - 4s 16ms/step - loss: 1.2605 - accuracy: 0.4407 - val_loss: 1.3091 - val_accuracy: 0.4286\n",
            "Epoch 8/25\n",
            "233/233 [==============================] - 4s 16ms/step - loss: 1.1840 - accuracy: 0.4513 - val_loss: 1.3389 - val_accuracy: 0.3829\n",
            "Epoch 9/25\n",
            "233/233 [==============================] - 4s 16ms/step - loss: 1.1049 - accuracy: 0.5393 - val_loss: 1.4088 - val_accuracy: 0.4057\n",
            "Epoch 10/25\n",
            "233/233 [==============================] - 4s 16ms/step - loss: 0.9854 - accuracy: 0.5689 - val_loss: 1.3465 - val_accuracy: 0.3543\n",
            "Epoch 11/25\n",
            "233/233 [==============================] - 4s 16ms/step - loss: 0.8538 - accuracy: 0.6305 - val_loss: 1.4033 - val_accuracy: 0.3543\n",
            "Epoch 12/25\n",
            "233/233 [==============================] - 4s 16ms/step - loss: 0.7009 - accuracy: 0.7276 - val_loss: 1.4687 - val_accuracy: 0.3200\n",
            "Epoch 13/25\n",
            "233/233 [==============================] - 4s 16ms/step - loss: 0.4982 - accuracy: 0.8402 - val_loss: 2.1366 - val_accuracy: 0.3429\n",
            "Epoch 14/25\n",
            "233/233 [==============================] - 4s 16ms/step - loss: 0.4834 - accuracy: 0.8393 - val_loss: 2.1462 - val_accuracy: 0.3600\n",
            "Epoch 15/25\n",
            "233/233 [==============================] - 4s 16ms/step - loss: 0.3343 - accuracy: 0.9028 - val_loss: 2.0264 - val_accuracy: 0.3086\n",
            "Epoch 16/25\n",
            "233/233 [==============================] - 4s 16ms/step - loss: 0.2174 - accuracy: 0.9280 - val_loss: 2.8866 - val_accuracy: 0.3714\n",
            "Epoch 17/25\n",
            "233/233 [==============================] - 4s 16ms/step - loss: 0.1641 - accuracy: 0.9563 - val_loss: 3.3549 - val_accuracy: 0.3886\n",
            "Epoch 18/25\n",
            "233/233 [==============================] - 4s 16ms/step - loss: 0.0475 - accuracy: 0.9852 - val_loss: 2.4321 - val_accuracy: 0.3029\n",
            "Epoch 19/25\n",
            "233/233 [==============================] - 4s 16ms/step - loss: 0.3531 - accuracy: 0.8940 - val_loss: 2.6703 - val_accuracy: 0.3771\n",
            "Epoch 20/25\n",
            "233/233 [==============================] - 4s 16ms/step - loss: 0.2558 - accuracy: 0.9214 - val_loss: 3.0841 - val_accuracy: 0.3257\n",
            "Epoch 21/25\n",
            "233/233 [==============================] - 4s 16ms/step - loss: 0.1982 - accuracy: 0.9502 - val_loss: 3.2449 - val_accuracy: 0.3714\n",
            "Epoch 22/25\n",
            "233/233 [==============================] - 4s 16ms/step - loss: 0.0472 - accuracy: 0.9948 - val_loss: 3.9552 - val_accuracy: 0.4000\n",
            "Epoch 23/25\n",
            "233/233 [==============================] - 4s 16ms/step - loss: 0.0052 - accuracy: 1.0000 - val_loss: 4.2912 - val_accuracy: 0.3486\n",
            "Epoch 24/25\n",
            "233/233 [==============================] - 4s 16ms/step - loss: 0.1957 - accuracy: 0.9490 - val_loss: 3.7717 - val_accuracy: 0.3429\n",
            "Epoch 25/25\n",
            "233/233 [==============================] - 4s 16ms/step - loss: 0.2183 - accuracy: 0.9542 - val_loss: 3.4786 - val_accuracy: 0.3600\n"
          ],
          "name": "stdout"
        },
        {
          "output_type": "execute_result",
          "data": {
            "text/plain": [
              "<tensorflow.python.keras.callbacks.History at 0x7f6f543c3c50>"
            ]
          },
          "metadata": {
            "tags": []
          },
          "execution_count": 78
        }
      ]
    },
    {
      "cell_type": "code",
      "metadata": {
        "colab": {
          "base_uri": "https://localhost:8080/"
        },
        "id": "N0zVGPjpgnpQ",
        "outputId": "0af42b0c-007f-4677-c587-4906289b1790"
      },
      "source": [
        "model.evaluate(X,y)"
      ],
      "execution_count": null,
      "outputs": [
        {
          "output_type": "stream",
          "text": [
            "28/28 [==============================] - 1s 46ms/step - loss: 227.7557 - accuracy: 0.7144\n"
          ],
          "name": "stdout"
        },
        {
          "output_type": "execute_result",
          "data": {
            "text/plain": [
              "[227.75567626953125, 0.7144495248794556]"
            ]
          },
          "metadata": {
            "tags": []
          },
          "execution_count": 79
        }
      ]
    },
    {
      "cell_type": "code",
      "metadata": {
        "id": "qeLoCrse0A68"
      },
      "source": [
        "model.save(\"Shot Class model.h5\")"
      ],
      "execution_count": null,
      "outputs": []
    },
    {
      "cell_type": "code",
      "metadata": {
        "id": "tpZME_oYRjqF"
      },
      "source": [
        "from keras.models import load_model\n",
        "types = load_model(\"Shot Class model.h5\")"
      ],
      "execution_count": null,
      "outputs": []
    },
    {
      "cell_type": "code",
      "metadata": {
        "colab": {
          "base_uri": "https://localhost:8080/"
        },
        "id": "D2-nvWAJZtpx",
        "outputId": "f0ac5e99-3a83-4fd6-82e8-9448cf146186"
      },
      "source": [
        "files[0:4]"
      ],
      "execution_count": null,
      "outputs": [
        {
          "output_type": "execute_result",
          "data": {
            "text/plain": [
              "['The.Grand.Budapest.Hotel.2014.DVDRip.XviD-EVO-Scene-0040-01.jpg',\n",
              " 'The.Grand.Budapest.Hotel.2014.DVDRip.XviD-EVO-Scene-0312-02.jpg',\n",
              " 'Suspiria.1977.HUN.BDRiP.x264-ARROW-Scene-090-01.jpg',\n",
              " 'The.Grand.Budapest.Hotel.2014.DVDRip.XviD-EVO-Scene-0336-02.jpg']"
            ]
          },
          "metadata": {
            "tags": []
          },
          "execution_count": 97
        }
      ]
    },
    {
      "cell_type": "code",
      "metadata": {
        "colab": {
          "base_uri": "https://localhost:8080/"
        },
        "id": "cBNP_n46Ytck",
        "outputId": "9ce191bd-ab65-4f8c-fb16-90167c5024a8"
      },
      "source": [
        "files = os.listdir(\"/content/test_type\")\n",
        "CATEGORIES= [\"CU\",\"MCU\",\"ML\",\"Long\"]\n",
        "#prediction = angle.predict(files[0])\n",
        "#print(prediction)\n",
        "#return position of max\n",
        "for file in files[6:]:\n",
        "  os.chdir(r\"/content/test_t\")\n",
        "  img = cv2.imread(file,cv2.IMREAD_GRAYSCALE)\n",
        "  #print(img)\n",
        "  img = cv2.resize(img,(320,180))\n",
        "  new_img = img.reshape(-1,320,180,1)\n",
        "  prediction = types.predict_classes(new_img)\n",
        "  print(file)\n",
        "  print(prediction)\n",
        "  print(CATEGORIES[int(prediction)]) "
      ],
      "execution_count": null,
      "outputs": [
        {
          "output_type": "stream",
          "text": [
            "/usr/local/lib/python3.7/dist-packages/tensorflow/python/keras/engine/sequential.py:450: UserWarning: `model.predict_classes()` is deprecated and will be removed after 2021-01-01. Please use instead:* `np.argmax(model.predict(x), axis=-1)`,   if your model does multi-class classification   (e.g. if it uses a `softmax` last-layer activation).* `(model.predict(x) > 0.5).astype(\"int32\")`,   if your model does binary classification   (e.g. if it uses a `sigmoid` last-layer activation).\n",
            "  warnings.warn('`model.predict_classes()` is deprecated and '\n"
          ],
          "name": "stderr"
        },
        {
          "output_type": "stream",
          "text": [
            "Suspiria.1977.HUN.BDRiP.x264-ARROW-Scene-068-01.jpg\n",
            "[3]\n",
            "Long\n",
            "The.Grand.Budapest.Hotel.2014.DVDRip.XviD-EVO-Scene-0029-01.jpg\n",
            "[3]\n",
            "Long\n",
            "Phantom.Thread.2017.BDRip.x264-GECKOS-Scene-384-01.jpg\n",
            "[2]\n",
            "ML\n",
            "The.Grand.Budapest.Hotel.2014.DVDRip.XviD-EVO-Scene-0011-01.jpg\n",
            "[3]\n",
            "Long\n",
            "Suspiria.1977.HUN.BDRiP.x264-ARROW-Scene-259-01.jpg\n",
            "[1]\n",
            "MCU\n",
            "The.Grand.Budapest.Hotel.2014.DVDRip.XviD-EVO-Scene-0310-02.jpg\n",
            "[1]\n",
            "MCU\n",
            "Phantom.Thread.2017.BDRip.x264-GECKOS-Scene-268-01.jpg\n",
            "[2]\n",
            "ML\n",
            "Suspiria.1977.HUN.BDRiP.x264-ARROW-Scene-086-01.jpg\n",
            "[2]\n",
            "ML\n",
            "Phantom.Thread.2017.BDRip.x264-GECKOS-Scene-266-01.jpg\n",
            "[3]\n",
            "Long\n",
            "Phantom.Thread.2017.BDRip.x264-GECKOS-Scene-078-01.jpg\n",
            "[3]\n",
            "Long\n",
            "Phantom.Thread.2017.BDRip.x264-GECKOS-Scene-028-01.jpg\n",
            "[2]\n",
            "ML\n",
            "Phantom.Thread.2017.BDRip.x264-GECKOS-Scene-032-01.jpg\n",
            "[2]\n",
            "ML\n",
            "Phantom.Thread.2017.BDRip.x264-GECKOS-Scene-065-01.jpg\n",
            "[1]\n",
            "MCU\n",
            "Phantom.Thread.2017.BDRip.x264-GECKOS-Scene-365-01.jpg\n",
            "[3]\n",
            "Long\n",
            "Suspiria.1977.HUN.BDRiP.x264-ARROW-Scene-279-01.jpg\n",
            "[3]\n",
            "Long\n"
          ],
          "name": "stdout"
        }
      ]
    },
    {
      "cell_type": "markdown",
      "metadata": {
        "id": "pNTfKm0hij8E"
      },
      "source": [
        "Trying a different method"
      ]
    },
    {
      "cell_type": "code",
      "metadata": {
        "id": "EF1t_yDgjJ3P",
        "colab": {
          "base_uri": "https://localhost:8080/"
        },
        "outputId": "6a7ee0a7-c96f-4d7f-dea0-594f3258e9f4"
      },
      "source": [
        "from tensorflow.keras.datasets import cifar10\n",
        "from tensorflow.keras.models import Sequential\n",
        "from tensorflow.keras.layers import Dense, Flatten, Conv2D, MaxPooling2D\n",
        "from tensorflow.keras.losses import categorical_crossentropy\n",
        "from tensorflow.keras.optimizers import SGD\n",
        "from sklearn.model_selection import KFold\n",
        "import numpy as np\n",
        "\n",
        "# Model configuration\n",
        "batch_size = 3\n",
        "img_width, img_height, img_num_channels = 320, 180, 1\n",
        "loss_function = categorical_crossentropy\n",
        "no_classes = 4\n",
        "no_epochs = 25\n",
        "optimizer = SGD()\n",
        "verbosity = 1\n",
        "num_folds = 5\n",
        "\n",
        "\n",
        "\n",
        "# Determine shape of the data\n",
        "input_shape = (img_width, img_height, img_num_channels)\n",
        "\n",
        "# Parse numbers as floats\n",
        "#input_train = input_train.astype('float32')\n",
        "#input_test = input_test.astype('float32')\n",
        "\n",
        "# Normalize data\n",
        "input_train = X_train / 255\n",
        "input_test = X_test / 255\n",
        "target_train = y_train\n",
        "target_test = y_test\n",
        "\n",
        "# Define per-fold score containers\n",
        "acc_per_fold = []\n",
        "loss_per_fold = []\n",
        "\n",
        "# Merge inputs and targets\n",
        "inputs = np.concatenate((input_train, input_test), axis=0)\n",
        "targets = np.concatenate((target_train, target_test), axis=0)\n",
        "\n",
        "# Define the K-fold Cross Validator\n",
        "kfold = KFold(n_splits=num_folds, shuffle=True)\n",
        "\n",
        "# K-fold Cross Validation model evaluation\n",
        "fold_no = 1\n",
        "for train, test in kfold.split(inputs, targets):\n",
        "\n",
        "  # Define the model architecture\n",
        "  model = Sequential()\n",
        "  model.add(Conv2D(128, kernel_size=(3, 3), activation='relu', input_shape=input_shape))\n",
        "  model.add(MaxPooling2D(pool_size=(2, 2)))\n",
        "  model.add(Conv2D(64, kernel_size=(3, 3), activation='relu'))\n",
        "  model.add(MaxPooling2D(pool_size=(2, 2)))\n",
        "  model.add(Flatten())\n",
        "  model.add(Dense(64, activation='relu'))\n",
        "  model.add(Dense(32, activation='relu'))\n",
        "  model.add(Dense(4, activation='softmax'))\n",
        "\n",
        "\n",
        "\n",
        "  # Compile the model\n",
        "  model.compile(loss='categorical_crossentropy',\n",
        "                optimizer='sgd',\n",
        "                metrics=['accuracy'])\n",
        "\n",
        "\n",
        "  # Generate a print\n",
        "  print('------------------------------------------------------------------------')\n",
        "  print(f'Training for fold {fold_no} ...')\n",
        "\n",
        "  # Fit data to model\n",
        "  history = model.fit(X_train, y_train,\n",
        "              batch_size=batch_size,\n",
        "              epochs=no_epochs,\n",
        "              #verbose=verbosity,\n",
        "              validation_data=(X_test, y_test))\n",
        "\n",
        "  # Generate generalization metrics\n",
        "  scores = model.evaluate(X_test, y_test, verbose=0)\n",
        "  print(f'Score for fold {fold_no}: {model.metrics_names[0]} of {scores[0]}; {model.metrics_names[1]} of {scores[1]*100}%')\n",
        "  acc_per_fold.append(scores[1] * 100)\n",
        "  loss_per_fold.append(scores[0])\n",
        "\n",
        "  # Increase fold number\n",
        "  fold_no = fold_no + 1\n",
        "\n",
        "# == Provide average scores ==\n",
        "print('------------------------------------------------------------------------')\n",
        "print('Score per fold')\n",
        "for i in range(0, len(acc_per_fold)):\n",
        "  print('------------------------------------------------------------------------')\n",
        "  print(f'> Fold {i+1} - Loss: {loss_per_fold[i]} - Accuracy: {acc_per_fold[i]}%')\n",
        "print('------------------------------------------------------------------------')\n",
        "print('Average scores for all folds:')\n",
        "print(f'> Accuracy: {np.mean(acc_per_fold)} (+- {np.std(acc_per_fold)})')\n",
        "print(f'> Loss: {np.mean(loss_per_fold)}')\n",
        "print('------------------------------------------------------------------------')"
      ],
      "execution_count": null,
      "outputs": [
        {
          "output_type": "stream",
          "text": [
            "------------------------------------------------------------------------\n",
            "Training for fold 1 ...\n",
            "Epoch 1/25\n",
            "233/233 [==============================] - 5s 17ms/step - loss: 1.3824 - accuracy: 0.2940 - val_loss: 1.3930 - val_accuracy: 0.2400\n",
            "Epoch 2/25\n",
            "233/233 [==============================] - 4s 16ms/step - loss: 1.3363 - accuracy: 0.3867 - val_loss: 1.3469 - val_accuracy: 0.3486\n",
            "Epoch 3/25\n",
            "233/233 [==============================] - 4s 17ms/step - loss: 1.3174 - accuracy: 0.3789 - val_loss: 1.3440 - val_accuracy: 0.3943\n",
            "Epoch 4/25\n",
            "233/233 [==============================] - 4s 17ms/step - loss: 1.3318 - accuracy: 0.3478 - val_loss: 1.3180 - val_accuracy: 0.3543\n",
            "Epoch 5/25\n",
            "233/233 [==============================] - 4s 16ms/step - loss: 1.2844 - accuracy: 0.3801 - val_loss: 1.3271 - val_accuracy: 0.3886\n",
            "Epoch 6/25\n",
            "233/233 [==============================] - 4s 17ms/step - loss: 1.2687 - accuracy: 0.4159 - val_loss: 1.3112 - val_accuracy: 0.3486\n",
            "Epoch 7/25\n",
            "233/233 [==============================] - 4s 16ms/step - loss: 1.2060 - accuracy: 0.4698 - val_loss: 1.3504 - val_accuracy: 0.3829\n",
            "Epoch 8/25\n",
            "233/233 [==============================] - 4s 16ms/step - loss: 1.1146 - accuracy: 0.5129 - val_loss: 1.5144 - val_accuracy: 0.3543\n",
            "Epoch 9/25\n",
            "233/233 [==============================] - 4s 16ms/step - loss: 1.0543 - accuracy: 0.5544 - val_loss: 1.4055 - val_accuracy: 0.4000\n",
            "Epoch 10/25\n",
            "233/233 [==============================] - 4s 16ms/step - loss: 0.8967 - accuracy: 0.6474 - val_loss: 1.9245 - val_accuracy: 0.3086\n",
            "Epoch 11/25\n",
            "233/233 [==============================] - 4s 16ms/step - loss: 0.6960 - accuracy: 0.7331 - val_loss: 1.8842 - val_accuracy: 0.3657\n",
            "Epoch 12/25\n",
            "233/233 [==============================] - 4s 16ms/step - loss: 0.4799 - accuracy: 0.8245 - val_loss: 2.2816 - val_accuracy: 0.3886\n",
            "Epoch 13/25\n",
            "233/233 [==============================] - 4s 16ms/step - loss: 0.4082 - accuracy: 0.8628 - val_loss: 1.9170 - val_accuracy: 0.3657\n",
            "Epoch 14/25\n",
            "233/233 [==============================] - 4s 16ms/step - loss: 0.3407 - accuracy: 0.9049 - val_loss: 2.7228 - val_accuracy: 0.3657\n",
            "Epoch 15/25\n",
            "233/233 [==============================] - 4s 16ms/step - loss: 0.1958 - accuracy: 0.9470 - val_loss: 3.0472 - val_accuracy: 0.3086\n",
            "Epoch 16/25\n",
            "233/233 [==============================] - 4s 16ms/step - loss: 0.3069 - accuracy: 0.9311 - val_loss: 2.2988 - val_accuracy: 0.3829\n",
            "Epoch 17/25\n",
            "233/233 [==============================] - 4s 16ms/step - loss: 0.1270 - accuracy: 0.9706 - val_loss: 2.5669 - val_accuracy: 0.3429\n",
            "Epoch 18/25\n",
            "233/233 [==============================] - 4s 16ms/step - loss: 0.1805 - accuracy: 0.9432 - val_loss: 3.9224 - val_accuracy: 0.3543\n",
            "Epoch 19/25\n",
            "233/233 [==============================] - 4s 16ms/step - loss: 0.0278 - accuracy: 0.9929 - val_loss: 3.1472 - val_accuracy: 0.3429\n",
            "Epoch 20/25\n",
            "233/233 [==============================] - 4s 16ms/step - loss: 0.1627 - accuracy: 0.9595 - val_loss: 3.5498 - val_accuracy: 0.3314\n",
            "Epoch 21/25\n",
            "233/233 [==============================] - 4s 16ms/step - loss: 0.0962 - accuracy: 0.9741 - val_loss: 3.9872 - val_accuracy: 0.3657\n",
            "Epoch 22/25\n",
            "233/233 [==============================] - 4s 16ms/step - loss: 0.1433 - accuracy: 0.9533 - val_loss: 3.4118 - val_accuracy: 0.3486\n",
            "Epoch 23/25\n",
            "233/233 [==============================] - 4s 16ms/step - loss: 0.0382 - accuracy: 0.9927 - val_loss: 2.3981 - val_accuracy: 0.3714\n",
            "Epoch 24/25\n",
            "233/233 [==============================] - 4s 16ms/step - loss: 0.1602 - accuracy: 0.9604 - val_loss: 4.6242 - val_accuracy: 0.3029\n",
            "Epoch 25/25\n",
            "233/233 [==============================] - 4s 16ms/step - loss: 0.0053 - accuracy: 1.0000 - val_loss: 5.2696 - val_accuracy: 0.3143\n",
            "Score for fold 1: loss of 5.269593715667725; accuracy of 31.42857253551483%\n",
            "------------------------------------------------------------------------\n",
            "Training for fold 2 ...\n",
            "Epoch 1/25\n",
            "233/233 [==============================] - 4s 17ms/step - loss: 1.3860 - accuracy: 0.2525 - val_loss: 1.3566 - val_accuracy: 0.3600\n",
            "Epoch 2/25\n",
            "233/233 [==============================] - 4s 16ms/step - loss: 1.3649 - accuracy: 0.3032 - val_loss: 1.3574 - val_accuracy: 0.3600\n",
            "Epoch 3/25\n",
            "233/233 [==============================] - 4s 16ms/step - loss: 1.3348 - accuracy: 0.3851 - val_loss: 1.3711 - val_accuracy: 0.3371\n",
            "Epoch 4/25\n",
            "233/233 [==============================] - 4s 16ms/step - loss: 1.3278 - accuracy: 0.3822 - val_loss: 1.3866 - val_accuracy: 0.3371\n",
            "Epoch 5/25\n",
            "233/233 [==============================] - 4s 16ms/step - loss: 1.3205 - accuracy: 0.3904 - val_loss: 1.3204 - val_accuracy: 0.4343\n",
            "Epoch 6/25\n",
            "233/233 [==============================] - 4s 16ms/step - loss: 1.3071 - accuracy: 0.3958 - val_loss: 1.3149 - val_accuracy: 0.3829\n",
            "Epoch 7/25\n",
            "233/233 [==============================] - 4s 16ms/step - loss: 1.2525 - accuracy: 0.4248 - val_loss: 1.3109 - val_accuracy: 0.4057\n",
            "Epoch 8/25\n",
            "233/233 [==============================] - 4s 16ms/step - loss: 1.1685 - accuracy: 0.4939 - val_loss: 1.3625 - val_accuracy: 0.3543\n",
            "Epoch 9/25\n",
            "233/233 [==============================] - 4s 16ms/step - loss: 1.0394 - accuracy: 0.5708 - val_loss: 1.3961 - val_accuracy: 0.4400\n",
            "Epoch 10/25\n",
            "233/233 [==============================] - 4s 16ms/step - loss: 0.9706 - accuracy: 0.6188 - val_loss: 1.7220 - val_accuracy: 0.4057\n",
            "Epoch 11/25\n",
            "233/233 [==============================] - 4s 16ms/step - loss: 0.8027 - accuracy: 0.6728 - val_loss: 1.5197 - val_accuracy: 0.4000\n",
            "Epoch 12/25\n",
            "233/233 [==============================] - 4s 16ms/step - loss: 0.6286 - accuracy: 0.8005 - val_loss: 2.0134 - val_accuracy: 0.3200\n",
            "Epoch 13/25\n",
            "233/233 [==============================] - 4s 16ms/step - loss: 0.4950 - accuracy: 0.8370 - val_loss: 1.7713 - val_accuracy: 0.3143\n",
            "Epoch 14/25\n",
            "233/233 [==============================] - 4s 16ms/step - loss: 0.3929 - accuracy: 0.8628 - val_loss: 2.3299 - val_accuracy: 0.3714\n",
            "Epoch 15/25\n",
            "233/233 [==============================] - 4s 16ms/step - loss: 0.2248 - accuracy: 0.9342 - val_loss: 2.5306 - val_accuracy: 0.3086\n",
            "Epoch 16/25\n",
            "233/233 [==============================] - 4s 16ms/step - loss: 0.1662 - accuracy: 0.9467 - val_loss: 3.9082 - val_accuracy: 0.2914\n",
            "Epoch 17/25\n",
            "233/233 [==============================] - 4s 16ms/step - loss: 0.1120 - accuracy: 0.9678 - val_loss: 4.6615 - val_accuracy: 0.2571\n",
            "Epoch 18/25\n",
            "233/233 [==============================] - 4s 16ms/step - loss: 0.2517 - accuracy: 0.9330 - val_loss: 3.7070 - val_accuracy: 0.3200\n",
            "Epoch 19/25\n",
            "233/233 [==============================] - 4s 16ms/step - loss: 0.2407 - accuracy: 0.9280 - val_loss: 3.4773 - val_accuracy: 0.3486\n",
            "Epoch 20/25\n",
            "233/233 [==============================] - 4s 16ms/step - loss: 0.0876 - accuracy: 0.9831 - val_loss: 3.5024 - val_accuracy: 0.3600\n",
            "Epoch 21/25\n",
            "233/233 [==============================] - 4s 16ms/step - loss: 0.0536 - accuracy: 0.9936 - val_loss: 3.5498 - val_accuracy: 0.3429\n",
            "Epoch 22/25\n",
            "233/233 [==============================] - 4s 16ms/step - loss: 0.0244 - accuracy: 0.9980 - val_loss: 4.5662 - val_accuracy: 0.3943\n",
            "Epoch 23/25\n",
            "233/233 [==============================] - 4s 16ms/step - loss: 0.0085 - accuracy: 1.0000 - val_loss: 4.9772 - val_accuracy: 0.3771\n",
            "Epoch 24/25\n",
            "233/233 [==============================] - 4s 16ms/step - loss: 0.0025 - accuracy: 1.0000 - val_loss: 5.2373 - val_accuracy: 0.3714\n",
            "Epoch 25/25\n",
            "233/233 [==============================] - 4s 16ms/step - loss: 0.0019 - accuracy: 1.0000 - val_loss: 5.4701 - val_accuracy: 0.3771\n",
            "Score for fold 2: loss of 5.470127582550049; accuracy of 37.71428465843201%\n",
            "------------------------------------------------------------------------\n",
            "Training for fold 3 ...\n",
            "Epoch 1/25\n",
            "233/233 [==============================] - 4s 17ms/step - loss: 1.3854 - accuracy: 0.2691 - val_loss: 1.3708 - val_accuracy: 0.3657\n",
            "Epoch 2/25\n",
            "233/233 [==============================] - 4s 16ms/step - loss: 1.3616 - accuracy: 0.3488 - val_loss: 1.3640 - val_accuracy: 0.3600\n",
            "Epoch 3/25\n",
            "233/233 [==============================] - 4s 16ms/step - loss: 1.3448 - accuracy: 0.3744 - val_loss: 1.3685 - val_accuracy: 0.3657\n",
            "Epoch 4/25\n",
            "233/233 [==============================] - 4s 16ms/step - loss: 1.3577 - accuracy: 0.3100 - val_loss: 1.3408 - val_accuracy: 0.4171\n",
            "Epoch 5/25\n",
            "233/233 [==============================] - 4s 16ms/step - loss: 1.3219 - accuracy: 0.3702 - val_loss: 1.3502 - val_accuracy: 0.3714\n",
            "Epoch 6/25\n",
            "233/233 [==============================] - 4s 16ms/step - loss: 1.3140 - accuracy: 0.3506 - val_loss: 1.3228 - val_accuracy: 0.3771\n",
            "Epoch 7/25\n",
            "233/233 [==============================] - 4s 16ms/step - loss: 1.2904 - accuracy: 0.4129 - val_loss: 1.3677 - val_accuracy: 0.3314\n",
            "Epoch 8/25\n",
            "233/233 [==============================] - 4s 16ms/step - loss: 1.2900 - accuracy: 0.3952 - val_loss: 1.3617 - val_accuracy: 0.4000\n",
            "Epoch 9/25\n",
            "233/233 [==============================] - 4s 16ms/step - loss: 1.2814 - accuracy: 0.4096 - val_loss: 1.3570 - val_accuracy: 0.4457\n",
            "Epoch 10/25\n",
            "233/233 [==============================] - 4s 16ms/step - loss: 1.2083 - accuracy: 0.4567 - val_loss: 1.2817 - val_accuracy: 0.4171\n",
            "Epoch 11/25\n",
            "233/233 [==============================] - 4s 16ms/step - loss: 1.1397 - accuracy: 0.5296 - val_loss: 2.1235 - val_accuracy: 0.2171\n",
            "Epoch 12/25\n",
            "233/233 [==============================] - 4s 16ms/step - loss: 1.0650 - accuracy: 0.5657 - val_loss: 1.3632 - val_accuracy: 0.4000\n",
            "Epoch 13/25\n",
            "233/233 [==============================] - 4s 16ms/step - loss: 0.9369 - accuracy: 0.6401 - val_loss: 1.5309 - val_accuracy: 0.4229\n",
            "Epoch 14/25\n",
            "233/233 [==============================] - 4s 16ms/step - loss: 0.8110 - accuracy: 0.6770 - val_loss: 2.0472 - val_accuracy: 0.2857\n",
            "Epoch 15/25\n",
            "233/233 [==============================] - 4s 16ms/step - loss: 0.6173 - accuracy: 0.7556 - val_loss: 1.9554 - val_accuracy: 0.3314\n",
            "Epoch 16/25\n",
            "233/233 [==============================] - 4s 16ms/step - loss: 0.4321 - accuracy: 0.8636 - val_loss: 1.9952 - val_accuracy: 0.3429\n",
            "Epoch 17/25\n",
            "233/233 [==============================] - 4s 16ms/step - loss: 0.3982 - accuracy: 0.9025 - val_loss: 2.0822 - val_accuracy: 0.3486\n",
            "Epoch 18/25\n",
            "233/233 [==============================] - 4s 16ms/step - loss: 0.3122 - accuracy: 0.8811 - val_loss: 2.4359 - val_accuracy: 0.3829\n",
            "Epoch 19/25\n",
            "233/233 [==============================] - 4s 16ms/step - loss: 0.1807 - accuracy: 0.9571 - val_loss: 2.4496 - val_accuracy: 0.3943\n",
            "Epoch 20/25\n",
            "233/233 [==============================] - 4s 16ms/step - loss: 0.2461 - accuracy: 0.9424 - val_loss: 2.8943 - val_accuracy: 0.3600\n",
            "Epoch 21/25\n",
            "233/233 [==============================] - 4s 16ms/step - loss: 0.0524 - accuracy: 0.9843 - val_loss: 3.2537 - val_accuracy: 0.3543\n",
            "Epoch 22/25\n",
            "233/233 [==============================] - 4s 16ms/step - loss: 0.1090 - accuracy: 0.9747 - val_loss: 3.8925 - val_accuracy: 0.3257\n",
            "Epoch 23/25\n",
            "233/233 [==============================] - 4s 16ms/step - loss: 0.0085 - accuracy: 1.0000 - val_loss: 4.0977 - val_accuracy: 0.3257\n",
            "Epoch 24/25\n",
            "233/233 [==============================] - 4s 16ms/step - loss: 0.0024 - accuracy: 1.0000 - val_loss: 4.3607 - val_accuracy: 0.3429\n",
            "Epoch 25/25\n",
            "233/233 [==============================] - 4s 16ms/step - loss: 0.0019 - accuracy: 1.0000 - val_loss: 4.5773 - val_accuracy: 0.3143\n",
            "Score for fold 3: loss of 4.577267646789551; accuracy of 31.42857253551483%\n",
            "------------------------------------------------------------------------\n",
            "Training for fold 4 ...\n",
            "Epoch 1/25\n",
            "233/233 [==============================] - 4s 17ms/step - loss: 1.3846 - accuracy: 0.3066 - val_loss: 1.3613 - val_accuracy: 0.3600\n",
            "Epoch 2/25\n",
            "233/233 [==============================] - 4s 16ms/step - loss: 1.3637 - accuracy: 0.3422 - val_loss: 1.3662 - val_accuracy: 0.3200\n",
            "Epoch 3/25\n",
            "233/233 [==============================] - 4s 16ms/step - loss: 1.3341 - accuracy: 0.3730 - val_loss: 1.3536 - val_accuracy: 0.3771\n",
            "Epoch 4/25\n",
            "233/233 [==============================] - 4s 16ms/step - loss: 1.3057 - accuracy: 0.3918 - val_loss: 1.3458 - val_accuracy: 0.3600\n",
            "Epoch 5/25\n",
            "233/233 [==============================] - 4s 16ms/step - loss: 1.3188 - accuracy: 0.3944 - val_loss: 1.3657 - val_accuracy: 0.3371\n",
            "Epoch 6/25\n",
            "233/233 [==============================] - 4s 16ms/step - loss: 1.2946 - accuracy: 0.4199 - val_loss: 1.3483 - val_accuracy: 0.3829\n",
            "Epoch 7/25\n",
            "233/233 [==============================] - 4s 16ms/step - loss: 1.2681 - accuracy: 0.4088 - val_loss: 1.3210 - val_accuracy: 0.4057\n",
            "Epoch 8/25\n",
            "233/233 [==============================] - 4s 16ms/step - loss: 1.1781 - accuracy: 0.5073 - val_loss: 1.3057 - val_accuracy: 0.3829\n",
            "Epoch 9/25\n",
            "233/233 [==============================] - 4s 16ms/step - loss: 1.1387 - accuracy: 0.5282 - val_loss: 1.3572 - val_accuracy: 0.3943\n",
            "Epoch 10/25\n",
            "233/233 [==============================] - 4s 16ms/step - loss: 1.0056 - accuracy: 0.5796 - val_loss: 1.3680 - val_accuracy: 0.3657\n",
            "Epoch 11/25\n",
            "233/233 [==============================] - 4s 16ms/step - loss: 0.9340 - accuracy: 0.6408 - val_loss: 1.4480 - val_accuracy: 0.3200\n",
            "Epoch 12/25\n",
            "233/233 [==============================] - 4s 16ms/step - loss: 0.7189 - accuracy: 0.7574 - val_loss: 1.6888 - val_accuracy: 0.4171\n",
            "Epoch 13/25\n",
            "233/233 [==============================] - 4s 16ms/step - loss: 0.6388 - accuracy: 0.7860 - val_loss: 1.7863 - val_accuracy: 0.3886\n",
            "Epoch 14/25\n",
            "233/233 [==============================] - 4s 16ms/step - loss: 0.5247 - accuracy: 0.8009 - val_loss: 1.6901 - val_accuracy: 0.3314\n",
            "Epoch 15/25\n",
            "233/233 [==============================] - 4s 16ms/step - loss: 0.3310 - accuracy: 0.9227 - val_loss: 5.3012 - val_accuracy: 0.1943\n",
            "Epoch 16/25\n",
            "233/233 [==============================] - 4s 17ms/step - loss: 0.5247 - accuracy: 0.8405 - val_loss: 2.3013 - val_accuracy: 0.3143\n",
            "Epoch 17/25\n",
            "233/233 [==============================] - 4s 16ms/step - loss: 0.1394 - accuracy: 0.9540 - val_loss: 3.3000 - val_accuracy: 0.3543\n",
            "Epoch 18/25\n",
            "233/233 [==============================] - 4s 16ms/step - loss: 0.1435 - accuracy: 0.9704 - val_loss: 3.9509 - val_accuracy: 0.3314\n",
            "Epoch 19/25\n",
            "233/233 [==============================] - 4s 16ms/step - loss: 0.4753 - accuracy: 0.8923 - val_loss: 2.8797 - val_accuracy: 0.3257\n",
            "Epoch 20/25\n",
            "233/233 [==============================] - 4s 16ms/step - loss: 0.1893 - accuracy: 0.9639 - val_loss: 3.0933 - val_accuracy: 0.3714\n",
            "Epoch 21/25\n",
            "233/233 [==============================] - 4s 17ms/step - loss: 0.0302 - accuracy: 0.9908 - val_loss: 3.9166 - val_accuracy: 0.3886\n",
            "Epoch 22/25\n",
            "233/233 [==============================] - 4s 17ms/step - loss: 0.0126 - accuracy: 0.9995 - val_loss: 3.9917 - val_accuracy: 0.3486\n",
            "Epoch 23/25\n",
            "233/233 [==============================] - 4s 17ms/step - loss: 0.1140 - accuracy: 0.9808 - val_loss: 3.4483 - val_accuracy: 0.3543\n",
            "Epoch 24/25\n",
            "233/233 [==============================] - 4s 17ms/step - loss: 0.0850 - accuracy: 0.9776 - val_loss: 3.2612 - val_accuracy: 0.3600\n",
            "Epoch 25/25\n",
            "233/233 [==============================] - 4s 16ms/step - loss: 0.1678 - accuracy: 0.9618 - val_loss: 3.0239 - val_accuracy: 0.4000\n",
            "Score for fold 4: loss of 3.0239052772521973; accuracy of 40.00000059604645%\n",
            "------------------------------------------------------------------------\n",
            "Training for fold 5 ...\n",
            "Epoch 1/25\n",
            "233/233 [==============================] - 4s 17ms/step - loss: 1.3918 - accuracy: 0.2447 - val_loss: 1.3719 - val_accuracy: 0.4057\n",
            "Epoch 2/25\n",
            "233/233 [==============================] - 4s 16ms/step - loss: 1.3688 - accuracy: 0.3147 - val_loss: 1.3483 - val_accuracy: 0.4057\n",
            "Epoch 3/25\n",
            "233/233 [==============================] - 4s 16ms/step - loss: 1.3448 - accuracy: 0.3298 - val_loss: 1.3551 - val_accuracy: 0.4171\n",
            "Epoch 4/25\n",
            "233/233 [==============================] - 4s 16ms/step - loss: 1.3198 - accuracy: 0.3900 - val_loss: 1.3577 - val_accuracy: 0.3143\n",
            "Epoch 5/25\n",
            "233/233 [==============================] - 4s 16ms/step - loss: 1.3338 - accuracy: 0.3575 - val_loss: 1.3644 - val_accuracy: 0.4057\n",
            "Epoch 6/25\n",
            "233/233 [==============================] - 4s 17ms/step - loss: 1.3056 - accuracy: 0.3912 - val_loss: 1.3030 - val_accuracy: 0.4171\n",
            "Epoch 7/25\n",
            "233/233 [==============================] - 4s 16ms/step - loss: 1.2662 - accuracy: 0.4124 - val_loss: 1.3098 - val_accuracy: 0.3771\n",
            "Epoch 8/25\n",
            "233/233 [==============================] - 4s 17ms/step - loss: 1.2267 - accuracy: 0.4457 - val_loss: 1.4324 - val_accuracy: 0.2971\n",
            "Epoch 9/25\n",
            "233/233 [==============================] - 4s 16ms/step - loss: 1.1963 - accuracy: 0.4885 - val_loss: 1.3440 - val_accuracy: 0.3429\n",
            "Epoch 10/25\n",
            "233/233 [==============================] - 4s 16ms/step - loss: 1.0720 - accuracy: 0.5663 - val_loss: 1.4293 - val_accuracy: 0.3714\n",
            "Epoch 11/25\n",
            "233/233 [==============================] - 4s 16ms/step - loss: 0.9292 - accuracy: 0.6442 - val_loss: 1.3654 - val_accuracy: 0.3429\n",
            "Epoch 12/25\n",
            "233/233 [==============================] - 4s 16ms/step - loss: 0.7989 - accuracy: 0.7021 - val_loss: 1.4726 - val_accuracy: 0.3200\n",
            "Epoch 13/25\n",
            "233/233 [==============================] - 4s 16ms/step - loss: 0.6481 - accuracy: 0.7529 - val_loss: 2.0381 - val_accuracy: 0.4057\n",
            "Epoch 14/25\n",
            "233/233 [==============================] - 4s 16ms/step - loss: 0.5061 - accuracy: 0.8186 - val_loss: 1.7837 - val_accuracy: 0.3829\n",
            "Epoch 15/25\n",
            "233/233 [==============================] - 4s 17ms/step - loss: 0.3960 - accuracy: 0.8763 - val_loss: 1.9989 - val_accuracy: 0.3657\n",
            "Epoch 16/25\n",
            "233/233 [==============================] - 4s 17ms/step - loss: 0.3268 - accuracy: 0.8983 - val_loss: 2.5054 - val_accuracy: 0.3771\n",
            "Epoch 17/25\n",
            "233/233 [==============================] - 4s 16ms/step - loss: 0.2091 - accuracy: 0.9338 - val_loss: 2.0553 - val_accuracy: 0.3829\n",
            "Epoch 18/25\n",
            "233/233 [==============================] - 4s 16ms/step - loss: 0.1734 - accuracy: 0.9498 - val_loss: 3.1256 - val_accuracy: 0.3714\n",
            "Epoch 19/25\n",
            "233/233 [==============================] - 4s 16ms/step - loss: 0.1294 - accuracy: 0.9784 - val_loss: 4.0331 - val_accuracy: 0.2800\n",
            "Epoch 20/25\n",
            "233/233 [==============================] - 4s 16ms/step - loss: 0.2456 - accuracy: 0.9373 - val_loss: 3.0882 - val_accuracy: 0.3257\n",
            "Epoch 21/25\n",
            "233/233 [==============================] - 4s 16ms/step - loss: 0.0883 - accuracy: 0.9811 - val_loss: 2.8294 - val_accuracy: 0.3371\n",
            "Epoch 22/25\n",
            "233/233 [==============================] - 4s 16ms/step - loss: 0.2707 - accuracy: 0.9141 - val_loss: 4.1190 - val_accuracy: 0.3257\n",
            "Epoch 23/25\n",
            "233/233 [==============================] - 4s 16ms/step - loss: 0.0555 - accuracy: 0.9857 - val_loss: 3.8312 - val_accuracy: 0.3200\n",
            "Epoch 24/25\n",
            "233/233 [==============================] - 4s 17ms/step - loss: 0.0157 - accuracy: 1.0000 - val_loss: 4.5073 - val_accuracy: 0.3200\n",
            "Epoch 25/25\n",
            "233/233 [==============================] - 4s 16ms/step - loss: 0.0052 - accuracy: 0.9999 - val_loss: 5.2080 - val_accuracy: 0.3314\n",
            "Score for fold 5: loss of 5.208016872406006; accuracy of 33.142855763435364%\n",
            "------------------------------------------------------------------------\n",
            "Score per fold\n",
            "------------------------------------------------------------------------\n",
            "> Fold 1 - Loss: 5.269593715667725 - Accuracy: 31.42857253551483%\n",
            "------------------------------------------------------------------------\n",
            "> Fold 2 - Loss: 5.470127582550049 - Accuracy: 37.71428465843201%\n",
            "------------------------------------------------------------------------\n",
            "> Fold 3 - Loss: 4.577267646789551 - Accuracy: 31.42857253551483%\n",
            "------------------------------------------------------------------------\n",
            "> Fold 4 - Loss: 3.0239052772521973 - Accuracy: 40.00000059604645%\n",
            "------------------------------------------------------------------------\n",
            "> Fold 5 - Loss: 5.208016872406006 - Accuracy: 33.142855763435364%\n",
            "------------------------------------------------------------------------\n",
            "Average scores for all folds:\n",
            "> Accuracy: 34.742857217788696 (+- 3.4927326865596373)\n",
            "> Loss: 4.709782218933105\n",
            "------------------------------------------------------------------------\n"
          ],
          "name": "stdout"
        }
      ]
    },
    {
      "cell_type": "code",
      "metadata": {
        "colab": {
          "base_uri": "https://localhost:8080/"
        },
        "id": "eI6FnTgnM48m",
        "outputId": "b8925edc-3737-43e0-8bcc-31d9a1b10950"
      },
      "source": [
        "model.evaluate(X,y)"
      ],
      "execution_count": null,
      "outputs": [
        {
          "output_type": "stream",
          "text": [
            "28/28 [==============================] - 1s 45ms/step - loss: 268.2079 - accuracy: 0.7672\n"
          ],
          "name": "stdout"
        },
        {
          "output_type": "execute_result",
          "data": {
            "text/plain": [
              "[268.2079162597656, 0.767201840877533]"
            ]
          },
          "metadata": {
            "tags": []
          },
          "execution_count": 69
        }
      ]
    },
    {
      "cell_type": "code",
      "metadata": {
        "id": "O6MUJYWGXihX"
      },
      "source": [
        ""
      ],
      "execution_count": null,
      "outputs": []
    }
  ]
}